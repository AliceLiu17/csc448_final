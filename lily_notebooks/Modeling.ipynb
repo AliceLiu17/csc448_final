{
 "cells": [
  {
   "cell_type": "code",
   "execution_count": null,
   "id": "4e9c4b9b",
   "metadata": {},
   "outputs": [],
   "source": [
    "# model building: Naive Bayes, KNN model"
   ]
  },
  {
   "cell_type": "code",
   "execution_count": 17,
   "id": "7dd4e6e5",
   "metadata": {
    "scrolled": true
   },
   "outputs": [
    {
     "name": "stdout",
     "output_type": "stream",
     "text": [
      "Requirement already satisfied: wordcloud in /opt/anaconda3/lib/python3.9/site-packages (1.9.2)\n",
      "Requirement already satisfied: numpy>=1.6.1 in /opt/anaconda3/lib/python3.9/site-packages (from wordcloud) (1.22.4)\n",
      "Requirement already satisfied: pillow in /opt/anaconda3/lib/python3.9/site-packages (from wordcloud) (10.1.0)\n",
      "Requirement already satisfied: matplotlib in /opt/anaconda3/lib/python3.9/site-packages (from wordcloud) (3.8.2)\n",
      "Requirement already satisfied: contourpy>=1.0.1 in /opt/anaconda3/lib/python3.9/site-packages (from matplotlib->wordcloud) (1.2.0)\n",
      "Requirement already satisfied: cycler>=0.10 in /opt/anaconda3/lib/python3.9/site-packages (from matplotlib->wordcloud) (0.10.0)\n",
      "Requirement already satisfied: fonttools>=4.22.0 in /opt/anaconda3/lib/python3.9/site-packages (from matplotlib->wordcloud) (4.25.0)\n",
      "Requirement already satisfied: kiwisolver>=1.3.1 in /opt/anaconda3/lib/python3.9/site-packages (from matplotlib->wordcloud) (1.3.1)\n",
      "Requirement already satisfied: packaging>=20.0 in /opt/anaconda3/lib/python3.9/site-packages (from matplotlib->wordcloud) (23.1)\n",
      "Requirement already satisfied: pyparsing>=2.3.1 in /opt/anaconda3/lib/python3.9/site-packages (from matplotlib->wordcloud) (3.0.4)\n",
      "Requirement already satisfied: python-dateutil>=2.7 in /opt/anaconda3/lib/python3.9/site-packages (from matplotlib->wordcloud) (2.8.2)\n",
      "Requirement already satisfied: importlib-resources>=3.2.0 in /opt/anaconda3/lib/python3.9/site-packages (from matplotlib->wordcloud) (6.1.1)\n",
      "Requirement already satisfied: six in /opt/anaconda3/lib/python3.9/site-packages (from cycler>=0.10->matplotlib->wordcloud) (1.16.0)\n",
      "Requirement already satisfied: zipp>=3.1.0 in /opt/anaconda3/lib/python3.9/site-packages (from importlib-resources>=3.2.0->matplotlib->wordcloud) (3.6.0)\n",
      "\u001b[33mDEPRECATION: pyodbc 4.0.0-unsupported has a non-standard version number. pip 24.0 will enforce this behaviour change. A possible replacement is to upgrade to a newer version of pyodbc or contact the author to suggest that they release a version with a conforming version number. Discussion can be found at https://github.com/pypa/pip/issues/12063\u001b[0m\u001b[33m\n",
      "\u001b[0m"
     ]
    },
    {
     "name": "stderr",
     "output_type": "stream",
     "text": [
      "[nltk_data] Downloading package stopwords to\n",
      "[nltk_data]     /Users/lilyliang/nltk_data...\n",
      "[nltk_data]   Package stopwords is already up-to-date!\n",
      "[nltk_data] Downloading package punkt to /Users/lilyliang/nltk_data...\n",
      "[nltk_data]   Package punkt is already up-to-date!\n",
      "[nltk_data] Downloading package wordnet to\n",
      "[nltk_data]     /Users/lilyliang/nltk_data...\n",
      "[nltk_data]   Package wordnet is already up-to-date!\n"
     ]
    },
    {
     "name": "stdout",
     "output_type": "stream",
     "text": [
      "Requirement already satisfied: langdetect in /opt/anaconda3/lib/python3.9/site-packages (1.0.9)\n",
      "Requirement already satisfied: six in /opt/anaconda3/lib/python3.9/site-packages (from langdetect) (1.16.0)\n",
      "\u001b[33mDEPRECATION: pyodbc 4.0.0-unsupported has a non-standard version number. pip 24.0 will enforce this behaviour change. A possible replacement is to upgrade to a newer version of pyodbc or contact the author to suggest that they release a version with a conforming version number. Discussion can be found at https://github.com/pypa/pip/issues/12063\u001b[0m\u001b[33m\n",
      "\u001b[0m"
     ]
    }
   ],
   "source": [
    "# Import our libraries \n",
    "\n",
    "# Pandas and numpy for data wrangling\n",
    "import pandas as pd\n",
    "import numpy as np\n",
    "\n",
    "# Seaborn / matplotlib for visualization \n",
    "import seaborn as sns\n",
    "sns.set()\n",
    "import matplotlib.pyplot as plt\n",
    "%matplotlib inline\n",
    "\n",
    "# Import the trees from sklearn\n",
    "from sklearn import tree\n",
    "\n",
    "# Helper function to split our data\n",
    "from sklearn.model_selection import train_test_split\n",
    "\n",
    "# Importing the Porter Stemmer for text stemming\n",
    "from nltk.stem.porter import PorterStemmer\n",
    "\n",
    "# Importing the string module for handling special characters\n",
    "import string\n",
    "\n",
    "from collections import Counter\n",
    "\n",
    "from sklearn.feature_extraction.text import CountVectorizer, TfidfVectorizer\n",
    "\n",
    "from sklearn.naive_bayes import MultinomialNB\n",
    "from sklearn.tree import DecisionTreeClassifier\n",
    "\n",
    "from sklearn.metrics import accuracy_score, precision_score\n",
    "from sklearn.metrics import classification_report\n",
    "\n",
    "!pip install wordcloud\n",
    "# Importing WordCloud for text visualization\n",
    "from wordcloud import WordCloud\n",
    "\n",
    "# Importing NLTK for natural language processing\n",
    "import nltk\n",
    "from nltk.corpus import stopwords    # For stopwords\n",
    "from nltk.tokenize import word_tokenize\n",
    "from nltk.stem import WordNetLemmatizer\n",
    "\n",
    "\n",
    "# Downloading NLTK data\n",
    "nltk.download('stopwords')   # Downloading stopwords data\n",
    "nltk.download('punkt')       # Downloading tokenizer data\n",
    "nltk.download('wordnet')\n",
    "\n",
    "! pip install langdetect\n",
    "from langdetect import detect"
   ]
  },
  {
   "cell_type": "code",
   "execution_count": 3,
   "id": "fc2deacf",
   "metadata": {},
   "outputs": [],
   "source": [
    "df = \"https://raw.githubusercontent.com/AliceLiu17/csc448_final/main/data/preprocessed_dataset/preprocessed_english.csv\"\n",
    "\n",
    "df = pd.read_csv(df)"
   ]
  },
  {
   "cell_type": "code",
   "execution_count": 4,
   "id": "bbe59363",
   "metadata": {
    "scrolled": true
   },
   "outputs": [
    {
     "data": {
      "text/html": [
       "<div>\n",
       "<style scoped>\n",
       "    .dataframe tbody tr th:only-of-type {\n",
       "        vertical-align: middle;\n",
       "    }\n",
       "\n",
       "    .dataframe tbody tr th {\n",
       "        vertical-align: top;\n",
       "    }\n",
       "\n",
       "    .dataframe thead th {\n",
       "        text-align: right;\n",
       "    }\n",
       "</style>\n",
       "<table border=\"1\" class=\"dataframe\">\n",
       "  <thead>\n",
       "    <tr style=\"text-align: right;\">\n",
       "      <th></th>\n",
       "      <th>label</th>\n",
       "      <th>email</th>\n",
       "      <th>processed_email</th>\n",
       "    </tr>\n",
       "  </thead>\n",
       "  <tbody>\n",
       "    <tr>\n",
       "      <th>0</th>\n",
       "      <td>0</td>\n",
       "      <td>Go until jurong point, crazy.. Available only ...</td>\n",
       "      <td>['go', 'jurong', 'point', 'crazy', '..', 'avai...</td>\n",
       "    </tr>\n",
       "    <tr>\n",
       "      <th>1</th>\n",
       "      <td>1</td>\n",
       "      <td>Free entry in 2 a wkly comp to win FA Cup fina...</td>\n",
       "      <td>['free', 'entry', '2', 'wkly', 'comp', 'win', ...</td>\n",
       "    </tr>\n",
       "    <tr>\n",
       "      <th>2</th>\n",
       "      <td>0</td>\n",
       "      <td>U dun say so early hor... U c already then say...</td>\n",
       "      <td>['u', 'dun', 'say', 'early', 'hor', '...', 'u'...</td>\n",
       "    </tr>\n",
       "    <tr>\n",
       "      <th>3</th>\n",
       "      <td>0</td>\n",
       "      <td>Nah I don't think he goes to usf, he lives aro...</td>\n",
       "      <td>['nah', \"n't\", 'think', 'goes', 'usf', 'lives'...</td>\n",
       "    </tr>\n",
       "    <tr>\n",
       "      <th>4</th>\n",
       "      <td>1</td>\n",
       "      <td>FreeMsg Hey there darling it's been 3 week's n...</td>\n",
       "      <td>['freemsg', 'hey', 'darling', \"'s\", '3', 'week...</td>\n",
       "    </tr>\n",
       "  </tbody>\n",
       "</table>\n",
       "</div>"
      ],
      "text/plain": [
       "   label                                              email  \\\n",
       "0      0  Go until jurong point, crazy.. Available only ...   \n",
       "1      1  Free entry in 2 a wkly comp to win FA Cup fina...   \n",
       "2      0  U dun say so early hor... U c already then say...   \n",
       "3      0  Nah I don't think he goes to usf, he lives aro...   \n",
       "4      1  FreeMsg Hey there darling it's been 3 week's n...   \n",
       "\n",
       "                                     processed_email  \n",
       "0  ['go', 'jurong', 'point', 'crazy', '..', 'avai...  \n",
       "1  ['free', 'entry', '2', 'wkly', 'comp', 'win', ...  \n",
       "2  ['u', 'dun', 'say', 'early', 'hor', '...', 'u'...  \n",
       "3  ['nah', \"n't\", 'think', 'goes', 'usf', 'lives'...  \n",
       "4  ['freemsg', 'hey', 'darling', \"'s\", '3', 'week...  "
      ]
     },
     "execution_count": 4,
     "metadata": {},
     "output_type": "execute_result"
    }
   ],
   "source": [
    "df.head()"
   ]
  },
  {
   "cell_type": "code",
   "execution_count": 5,
   "id": "813f0765",
   "metadata": {},
   "outputs": [],
   "source": [
    "# def preprocess(text):\n",
    "#     # Tokenize the text\n",
    "#     tokens = word_tokenize(text)\n",
    "    \n",
    "#     # Remove punctuation and convert to lowercase\n",
    "#     tokens = [word.lower() for word in tokens if word.isalpha()]\n",
    "\n",
    "#     # Remove stopwords\n",
    "#     stop_words = set(stopwords.words('english'))\n",
    "#     tokens = [word for word in tokens if word not in stop_words]\n",
    "    \n",
    "#     # Lemmatize tokens\n",
    "#     lemmatizer = WordNetLemmatizer()\n",
    "#     tokens = [lemmatizer.lemmatize(word) for word in tokens]\n",
    "    \n",
    "#     return \" \".join(tokens)\n"
   ]
  },
  {
   "cell_type": "code",
   "execution_count": 6,
   "id": "56274af3",
   "metadata": {},
   "outputs": [],
   "source": [
    "# df[\"email\"]=df['email'].apply(lambda x : preprocess(x))"
   ]
  },
  {
   "cell_type": "code",
   "execution_count": 8,
   "id": "462ac37b",
   "metadata": {},
   "outputs": [],
   "source": [
    "# Initialize a CountVectorizer object\n",
    "# CountVectorizer converts a collection of text documents into a matrix of token counts\n",
    "# Each row represents a document, and each column represents the count of a particular token in the document\n",
    "cv = CountVectorizer()"
   ]
  },
  {
   "cell_type": "code",
   "execution_count": 9,
   "id": "4b5ee20c",
   "metadata": {},
   "outputs": [],
   "source": [
    "# Initialize a TfidfVectorizer object with a specified maximum number of features\n",
    "# TfidfVectorizer converts a collection of raw documents to a matrix of TF-IDF features\n",
    "# TF-IDF (Term Frequency-Inverse Document Frequency) represents the importance of each term in the document corpus\n",
    "# 'max_features' sets the maximum number of features (terms/words) to be used, limiting the vocabulary size\n",
    "tfid = TfidfVectorizer(max_features=3000)"
   ]
  },
  {
   "cell_type": "code",
   "execution_count": 14,
   "id": "338fdcd9",
   "metadata": {},
   "outputs": [],
   "source": [
    "# Declaring x and y values for model building \n",
    "\n",
    "# Use the previously initialized TfidfVectorizer to transform the 'processed_email' column in the DataFrame\n",
    "# tfid.fit_transform() transforms the text data into a TF-IDF matrix\n",
    "# 'processed_email' likely contains preprocessed text data (cleaned, tokenized, etc.)\n",
    "X = tfid.fit_transform(df['processed_email'])\n",
    "\n",
    "# Extract the target variable ('label' column) from the DataFrame and convert it into a NumPy array\n",
    "# df['label'].values returns the values of the 'label' column as a NumPy array\n",
    "y = df['label'].values"
   ]
  },
  {
   "cell_type": "code",
   "execution_count": 21,
   "id": "64de65d3",
   "metadata": {},
   "outputs": [],
   "source": [
    "# Split the dataset into training and testing sets for both features (X) and labels (y)\n",
    "X_train, X_test , y_train, y_test = train_test_split(X,y,test_size = 0.20, random_state = 45)"
   ]
  },
  {
   "cell_type": "code",
   "execution_count": 23,
   "id": "b8c1ff5c",
   "metadata": {},
   "outputs": [],
   "source": [
    "# # Naive_Bayes\n",
    "# from sklearn.pipeline import Pipeline\n",
    "# model1 = Pipeline([\n",
    "#      ('vectorizer_tfidf',TfidfVectorizer()),    \n",
    "#      ('Multi NB', MultinomialNB())         \n",
    "# ])\n",
    "# model1\n",
    "\n",
    "# Initialize Multinomial Naive Bayes Classifier (MNB)\n",
    "mnb = MultinomialNB()\n",
    "\n",
    "# Initialize Decision Tree Classifier with a maximum depth of 5\n",
    "dtc = DecisionTreeClassifier(max_depth=5)\n",
    "\n",
    "# training data and evaluate on test data,\n",
    "# returning accuracy and precision scores for the predictions\n",
    "mnb.fit(X_train,y_train)\n",
    "y_pred_mnb = mnb.predict(X_test)\n",
    "accuracy_mnb = accuracy_score(y_test, y_pred)\n",
    "precision_mnb = precision_score(y_test, y_pred)\n",
    "\n",
    "dtc.fit(X_train,y_train)\n",
    "y_pred_dtc = dtc.predict(X_test)\n",
    "accuracy_dtc = accuracy_score(y_test, y_pred)\n",
    "precision_dtc = precision_score(y_test, y_pred)"
   ]
  },
  {
   "cell_type": "code",
   "execution_count": 25,
   "id": "c114e0a9",
   "metadata": {},
   "outputs": [
    {
     "name": "stdout",
     "output_type": "stream",
     "text": [
      "Classification Report for Multinomial Naive Bayes:\n",
      "              precision    recall  f1-score   support\n",
      "\n",
      "           0       0.97      1.00      0.98      1312\n",
      "           1       0.98      0.80      0.88       193\n",
      "\n",
      "    accuracy                           0.97      1505\n",
      "   macro avg       0.98      0.90      0.93      1505\n",
      "weighted avg       0.97      0.97      0.97      1505\n",
      "\n",
      "Classification Report for Decision Tree Classifier:\n",
      "              precision    recall  f1-score   support\n",
      "\n",
      "           0       0.94      0.98      0.96      1312\n",
      "           1       0.85      0.60      0.71       193\n",
      "\n",
      "    accuracy                           0.94      1505\n",
      "   macro avg       0.90      0.79      0.83      1505\n",
      "weighted avg       0.93      0.94      0.93      1505\n",
      "\n"
     ]
    }
   ],
   "source": [
    "# For Multinomial Naive Bayes\n",
    "print(\"Classification Report for Multinomial Naive Bayes:\")\n",
    "print(classification_report(y_test, y_pred_mnb))\n",
    "\n",
    "# For Decision Tree Classifier\n",
    "print(\"Classification Report for Decision Tree Classifier:\")\n",
    "print(classification_report(y_test, y_pred_dtc))\n",
    "\n",
    "# looks like NB did better than decision tree "
   ]
  },
  {
   "cell_type": "code",
   "execution_count": 31,
   "id": "1fded8de",
   "metadata": {},
   "outputs": [
    {
     "name": "stdout",
     "output_type": "stream",
     "text": [
      "Predicted class for sample text using Multinomial Naive Bayes: [1]\n",
      "Predicted class for sample text using Decision Tree Classifier: [0]\n"
     ]
    }
   ],
   "source": [
    "# testing if both models work with sample text\n",
    "sample_text = \"Congratulations! You've won a free vacation to an exotic island. Claim your prize now by clicking on the link below: [link]\"\n",
    "\n",
    "# Fit and transform the sample text\n",
    "sample_text_transformed = tfid.transform([sample_text])\n",
    "\n",
    "# Test with Multinomial Naive Bayes\n",
    "predicted_mnb = mnb.predict(sample_text_transformed)\n",
    "print(\"Predicted class for sample text using Multinomial Naive Bayes:\", predicted_mnb)\n",
    "\n",
    "# Test with Decision Tree Classifier\n",
    "predicted_dtc = dtc.predict(sample_text_transformed)\n",
    "print(\"Predicted class for sample text using Decision Tree Classifier:\", predicted_dtc)\n",
    "\n",
    "# MNB predicted it correctly, it is a spam email the accurancy for that model was higher as well so it did recgonize\n",
    "# it where as decision tree predcicted it wrong "
   ]
  },
  {
   "cell_type": "code",
   "execution_count": 33,
   "id": "f671e5ea",
   "metadata": {},
   "outputs": [
    {
     "name": "stdout",
     "output_type": "stream",
     "text": [
      "Predicted class for sample text using Multinomial Naive Bayes: [0]\n",
      "Predicted class for sample text using Decision Tree Classifier: [0]\n"
     ]
    }
   ],
   "source": [
    "# testing if both models work with sample text\n",
    "sample_text = \"Hello Richard, please send in your report EOD.\"\n",
    "\n",
    "# Fit and transform the sample text\n",
    "sample_text_transformed = tfid.transform([sample_text])\n",
    "\n",
    "# Test with Multinomial Naive Bayes\n",
    "predicted_mnb = mnb.predict(sample_text_transformed)\n",
    "print(\"Predicted class for sample text using Multinomial Naive Bayes:\", predicted_mnb)\n",
    "\n",
    "# Test with Decision Tree Classifier\n",
    "predicted_dtc = dtc.predict(sample_text_transformed)\n",
    "print(\"Predicted class for sample text using Decision Tree Classifier:\", predicted_dtc)\n",
    "\n",
    "# both predicts not spam email correctly"
   ]
  },
  {
   "cell_type": "code",
   "execution_count": null,
   "id": "1612d63f",
   "metadata": {},
   "outputs": [],
   "source": []
  }
 ],
 "metadata": {
  "kernelspec": {
   "display_name": "Python 3 (ipykernel)",
   "language": "python",
   "name": "python3"
  },
  "language_info": {
   "codemirror_mode": {
    "name": "ipython",
    "version": 3
   },
   "file_extension": ".py",
   "mimetype": "text/x-python",
   "name": "python",
   "nbconvert_exporter": "python",
   "pygments_lexer": "ipython3",
   "version": "3.9.7"
  }
 },
 "nbformat": 4,
 "nbformat_minor": 5
}

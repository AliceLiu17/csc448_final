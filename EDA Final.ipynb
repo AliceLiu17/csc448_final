{
 "cells": [
  {
   "cell_type": "code",
   "execution_count": 130,
   "id": "9ac12bf4",
   "metadata": {},
   "outputs": [],
   "source": [
    "# Import our libraries \n",
    "\n",
    "# Pandas and numpy for data wrangling\n",
    "import pandas as pd\n",
    "import numpy as np\n",
    "\n",
    "# Seaborn / matplotlib for visualization \n",
    "import seaborn as sns\n",
    "sns.set()\n",
    "import matplotlib.pyplot as plt\n",
    "%matplotlib inline\n",
    "\n",
    "# Import the trees from sklearn\n",
    "from sklearn import tree\n",
    "\n",
    "# Helper function to split our data\n",
    "from sklearn.model_selection import train_test_split\n",
    "\n",
    "# Importing the Porter Stemmer for text stemming\n",
    "from nltk.stem.porter import PorterStemmer\n",
    "\n",
    "# Importing the string module for handling special characters\n",
    "import string\n",
    "\n",
    "from collections import Counter\n",
    "\n",
    "from sklearn.feature_extraction.text import CountVectorizer, TfidfVectorizer\n",
    "\n",
    "from sklearn.naive_bayes import MultinomialNB\n",
    "from sklearn.neighbors import KNeighborsClassifier\n",
    "\n",
    "from sklearn.metrics import accuracy_score, precision_score"
   ]
  },
  {
   "cell_type": "code",
   "execution_count": 2,
   "id": "5223103f",
   "metadata": {
    "scrolled": false
   },
   "outputs": [
    {
     "name": "stdout",
     "output_type": "stream",
     "text": [
      "Requirement already satisfied: wordcloud in /opt/anaconda3/lib/python3.9/site-packages (1.9.2)\n",
      "Requirement already satisfied: pillow in /opt/anaconda3/lib/python3.9/site-packages (from wordcloud) (8.4.0)\n",
      "Requirement already satisfied: matplotlib in /opt/anaconda3/lib/python3.9/site-packages (from wordcloud) (3.4.3)\n",
      "Requirement already satisfied: numpy>=1.6.1 in /opt/anaconda3/lib/python3.9/site-packages (from wordcloud) (1.22.4)\n",
      "Requirement already satisfied: pyparsing>=2.2.1 in /opt/anaconda3/lib/python3.9/site-packages (from matplotlib->wordcloud) (3.0.4)\n",
      "Requirement already satisfied: kiwisolver>=1.0.1 in /opt/anaconda3/lib/python3.9/site-packages (from matplotlib->wordcloud) (1.3.1)\n",
      "Requirement already satisfied: python-dateutil>=2.7 in /opt/anaconda3/lib/python3.9/site-packages (from matplotlib->wordcloud) (2.8.2)\n",
      "Requirement already satisfied: cycler>=0.10 in /opt/anaconda3/lib/python3.9/site-packages (from matplotlib->wordcloud) (0.10.0)\n",
      "Requirement already satisfied: six in /opt/anaconda3/lib/python3.9/site-packages (from cycler>=0.10->matplotlib->wordcloud) (1.16.0)\n",
      "\u001b[33mWARNING: You are using pip version 21.3.1; however, version 23.3.1 is available.\n",
      "You should consider upgrading via the '/opt/anaconda3/bin/python -m pip install --upgrade pip' command.\u001b[0m\n"
     ]
    }
   ],
   "source": [
    "!pip install wordcloud"
   ]
  },
  {
   "cell_type": "code",
   "execution_count": 3,
   "id": "38c5f4c3",
   "metadata": {},
   "outputs": [
    {
     "name": "stderr",
     "output_type": "stream",
     "text": [
      "[nltk_data] Downloading package stopwords to\n",
      "[nltk_data]     /Users/lilyliang/nltk_data...\n",
      "[nltk_data]   Package stopwords is already up-to-date!\n",
      "[nltk_data] Downloading package punkt to /Users/lilyliang/nltk_data...\n",
      "[nltk_data]   Package punkt is already up-to-date!\n"
     ]
    },
    {
     "name": "stdout",
     "output_type": "stream",
     "text": [
      "Requirement already satisfied: langdetect in /opt/anaconda3/lib/python3.9/site-packages (1.0.9)\n",
      "Requirement already satisfied: six in /opt/anaconda3/lib/python3.9/site-packages (from langdetect) (1.16.0)\n",
      "\u001b[33mWARNING: You are using pip version 21.3.1; however, version 23.3.1 is available.\n",
      "You should consider upgrading via the '/opt/anaconda3/bin/python -m pip install --upgrade pip' command.\u001b[0m\n"
     ]
    }
   ],
   "source": [
    "# Importing WordCloud for text visualization\n",
    "from wordcloud import WordCloud\n",
    "\n",
    "# Importing NLTK for natural language processing\n",
    "import nltk\n",
    "from nltk.corpus import stopwords    # For stopwords\n",
    "\n",
    "\n",
    "# Downloading NLTK data\n",
    "nltk.download('stopwords')   # Downloading stopwords data\n",
    "nltk.download('punkt')       # Downloading tokenizer data\n",
    "\n",
    "! pip install langdetect\n",
    "from langdetect import detect"
   ]
  },
  {
   "cell_type": "code",
   "execution_count": 144,
   "id": "f607c59c",
   "metadata": {},
   "outputs": [],
   "source": [
    "spam_or_not_df = \"https://raw.githubusercontent.com/AliceLiu17/csc448_final/main/data/combined_data_clean.csv\"\n",
    "\n",
    "df = pd.read_csv(spam_or_not_df)"
   ]
  },
  {
   "cell_type": "code",
   "execution_count": 145,
   "id": "36ee7986",
   "metadata": {},
   "outputs": [
    {
     "data": {
      "text/html": [
       "<div>\n",
       "<style scoped>\n",
       "    .dataframe tbody tr th:only-of-type {\n",
       "        vertical-align: middle;\n",
       "    }\n",
       "\n",
       "    .dataframe tbody tr th {\n",
       "        vertical-align: top;\n",
       "    }\n",
       "\n",
       "    .dataframe thead th {\n",
       "        text-align: right;\n",
       "    }\n",
       "</style>\n",
       "<table border=\"1\" class=\"dataframe\">\n",
       "  <thead>\n",
       "    <tr style=\"text-align: right;\">\n",
       "      <th></th>\n",
       "      <th>label</th>\n",
       "      <th>email</th>\n",
       "    </tr>\n",
       "  </thead>\n",
       "  <tbody>\n",
       "    <tr>\n",
       "      <th>0</th>\n",
       "      <td>0</td>\n",
       "      <td>Go until jurong point, crazy.. Available only in bugis n great world la e buffet... Cine there got amore wat...</td>\n",
       "    </tr>\n",
       "    <tr>\n",
       "      <th>1</th>\n",
       "      <td>0</td>\n",
       "      <td>Ok lar... Joking wif u oni...</td>\n",
       "    </tr>\n",
       "    <tr>\n",
       "      <th>2</th>\n",
       "      <td>1</td>\n",
       "      <td>Free entry in 2 a wkly comp to win FA Cup final tkts 21st May 2005. Text FA to 87121 to receive entry question(std txt rate)T&amp;C's apply 08452810075over18's</td>\n",
       "    </tr>\n",
       "    <tr>\n",
       "      <th>3</th>\n",
       "      <td>0</td>\n",
       "      <td>U dun say so early hor... U c already then say...</td>\n",
       "    </tr>\n",
       "    <tr>\n",
       "      <th>4</th>\n",
       "      <td>0</td>\n",
       "      <td>Nah I don't think he goes to usf, he lives around here though</td>\n",
       "    </tr>\n",
       "  </tbody>\n",
       "</table>\n",
       "</div>"
      ],
      "text/plain": [
       "   label  \\\n",
       "0      0   \n",
       "1      0   \n",
       "2      1   \n",
       "3      0   \n",
       "4      0   \n",
       "\n",
       "                                                                                                                                                         email  \n",
       "0                                              Go until jurong point, crazy.. Available only in bugis n great world la e buffet... Cine there got amore wat...  \n",
       "1                                                                                                                                Ok lar... Joking wif u oni...  \n",
       "2  Free entry in 2 a wkly comp to win FA Cup final tkts 21st May 2005. Text FA to 87121 to receive entry question(std txt rate)T&C's apply 08452810075over18's  \n",
       "3                                                                                                            U dun say so early hor... U c already then say...  \n",
       "4                                                                                                Nah I don't think he goes to usf, he lives around here though  "
      ]
     },
     "execution_count": 145,
     "metadata": {},
     "output_type": "execute_result"
    }
   ],
   "source": [
    "df.head()"
   ]
  },
  {
   "cell_type": "code",
   "execution_count": 35,
   "id": "2e83864a",
   "metadata": {},
   "outputs": [],
   "source": [
    "# Drop the 'Unnamed: 0' column\n",
    "df = df.drop('Unnamed: 0', axis=1)"
   ]
  },
  {
   "cell_type": "code",
   "execution_count": 36,
   "id": "3d76d3fa",
   "metadata": {},
   "outputs": [
    {
     "data": {
      "text/html": [
       "<div>\n",
       "<style scoped>\n",
       "    .dataframe tbody tr th:only-of-type {\n",
       "        vertical-align: middle;\n",
       "    }\n",
       "\n",
       "    .dataframe tbody tr th {\n",
       "        vertical-align: top;\n",
       "    }\n",
       "\n",
       "    .dataframe thead th {\n",
       "        text-align: right;\n",
       "    }\n",
       "</style>\n",
       "<table border=\"1\" class=\"dataframe\">\n",
       "  <thead>\n",
       "    <tr style=\"text-align: right;\">\n",
       "      <th></th>\n",
       "      <th>label</th>\n",
       "      <th>email</th>\n",
       "    </tr>\n",
       "  </thead>\n",
       "  <tbody>\n",
       "    <tr>\n",
       "      <th>0</th>\n",
       "      <td>0</td>\n",
       "      <td>Go until jurong point, crazy.. Available only in bugis n great world la e buffet... Cine there got amore wat...</td>\n",
       "    </tr>\n",
       "    <tr>\n",
       "      <th>1</th>\n",
       "      <td>0</td>\n",
       "      <td>Ok lar... Joking wif u oni...</td>\n",
       "    </tr>\n",
       "    <tr>\n",
       "      <th>2</th>\n",
       "      <td>1</td>\n",
       "      <td>Free entry in 2 a wkly comp to win FA Cup final tkts 21st May 2005. Text FA to 87121 to receive entry question(std txt rate)T&amp;C's apply 08452810075over18's</td>\n",
       "    </tr>\n",
       "    <tr>\n",
       "      <th>3</th>\n",
       "      <td>0</td>\n",
       "      <td>U dun say so early hor... U c already then say...</td>\n",
       "    </tr>\n",
       "    <tr>\n",
       "      <th>4</th>\n",
       "      <td>0</td>\n",
       "      <td>Nah I don't think he goes to usf, he lives around here though</td>\n",
       "    </tr>\n",
       "  </tbody>\n",
       "</table>\n",
       "</div>"
      ],
      "text/plain": [
       "   label  \\\n",
       "0      0   \n",
       "1      0   \n",
       "2      1   \n",
       "3      0   \n",
       "4      0   \n",
       "\n",
       "                                                                                                                                                         email  \n",
       "0                                              Go until jurong point, crazy.. Available only in bugis n great world la e buffet... Cine there got amore wat...  \n",
       "1                                                                                                                                Ok lar... Joking wif u oni...  \n",
       "2  Free entry in 2 a wkly comp to win FA Cup final tkts 21st May 2005. Text FA to 87121 to receive entry question(std txt rate)T&C's apply 08452810075over18's  \n",
       "3                                                                                                            U dun say so early hor... U c already then say...  \n",
       "4                                                                                                Nah I don't think he goes to usf, he lives around here though  "
      ]
     },
     "execution_count": 36,
     "metadata": {},
     "output_type": "execute_result"
    }
   ],
   "source": [
    "df.head()"
   ]
  },
  {
   "cell_type": "code",
   "execution_count": 37,
   "id": "7b14d312",
   "metadata": {
    "scrolled": true
   },
   "outputs": [
    {
     "name": "stdout",
     "output_type": "stream",
     "text": [
      "0                                                                                                                                                                                                                                                                                                                                                                                                                                                                                                                                                                                                                                                                                                                                                                                                                                                                                                                                                                                                                                                                                                                                                                                                                                                                                                                                                                                                                                                                                                                                                                                                                                                                                                                                                                                                                                                                                                                                                                                                                                                                                                                                                                                                                                                                                                                                                                                                                                                                                                                                                                                                                                                                                                                                                                                                                                                                                                                                                                                                                                                                                                                                                                                                                                                                                                                                                                                                                                                                                                                                                                                                                                                                                                                                                                                                                                                                                                                                                                                                                                                                                                                                                                                         Go until jurong point, crazy.. Available only in bugis n great world la e buffet... Cine there got amore wat...\n",
      "1                                                                                                                                                                                                                                                                                                                                                                                                                                                                                                                                                                                                                                                                                                                                                                                                                                                                                                                                                                                                                                                                                                                                                                                                                                                                                                                                                                                                                                                                                                                                                                                                                                                                                                                                                                                                                                                                                                                                                                                                                                                                                                                                                                                                                                                                                                                                                                                                                                                                                                                                                                                                                                                                                                                                                                                                                                                                                                                                                                                                                                                                                                                                                                                                                                                                                                                                                                                                                                                                                                                                                                                                                                                                                                                                                                                                                                                                                                                                                                                                                                                                                                                                                                                                                                                                           Ok lar... Joking wif u oni...\n",
      "2                                                                                                                                                                                                                                                                                                                                                                                                                                                                                                                                                                                                                                                                                                                                                                                                                                                                                                                                                                                                                                                                                                                                                                                                                                                                                                                                                                                                                                                                                                                                                                                                                                                                                                                                                                                                                                                                                                                                                                                                                                                                                                                                                                                                                                                                                                                                                                                                                                                                                                                                                                                                                                                                                                                                                                                                                                                                                                                                                                                                                                                                                                                                                                                                                                                                                                                                                                                                                                                                                                                                                                                                                                                                                                                                                                                                                                                                                                                                                                                                                                                                                                                                             Free entry in 2 a wkly comp to win FA Cup final tkts 21st May 2005. Text FA to 87121 to receive entry question(std txt rate)T&C's apply 08452810075over18's\n",
      "3                                                                                                                                                                                                                                                                                                                                                                                                                                                                                                                                                                                                                                                                                                                                                                                                                                                                                                                                                                                                                                                                                                                                                                                                                                                                                                                                                                                                                                                                                                                                                                                                                                                                                                                                                                                                                                                                                                                                                                                                                                                                                                                                                                                                                                                                                                                                                                                                                                                                                                                                                                                                                                                                                                                                                                                                                                                                                                                                                                                                                                                                                                                                                                                                                                                                                                                                                                                                                                                                                                                                                                                                                                                                                                                                                                                                                                                                                                                                                                                                                                                                                                                                                                                                                                                       U dun say so early hor... U c already then say...\n",
      "4                                                                                                                                                                                                                                                                                                                                                                                                                                                                                                                                                                                                                                                                                                                                                                                                                                                                                                                                                                                                                                                                                                                                                                                                                                                                                                                                                                                                                                                                                                                                                                                                                                                                                                                                                                                                                                                                                                                                                                                                                                                                                                                                                                                                                                                                                                                                                                                                                                                                                                                                                                                                                                                                                                                                                                                                                                                                                                                                                                                                                                                                                                                                                                                                                                                                                                                                                                                                                                                                                                                                                                                                                                                                                                                                                                                                                                                                                                                                                                                                                                                                                                                                                                                                                                           Nah I don't think he goes to usf, he lives around here though\n",
      "                                                                                                                                                                                                                                                                                                                                                                                                                                                                                                                                                                                                                                                                                                                                                                                                                                                                                                                                                                                                                                                                                                                                                                                                                                                                                                                                                                                                                                                                                                                                                                                                                                                                                                                                                                                                                                                                                                                                                                                                                                                                                                                                                      ...                                                                                                                                                                                                                                                                                                                                                                                                                                                                                                                                                                                                                                                                                                                                                                                                                                                                                                                                                                                                                                                                                                                                                                                                                                                                                                                                                                                                                                                                                                                                                                                                                                                                                                                                                                                                                                                                                                                                                                                                                                                                                                                                                \n",
      "8025                                                                                                                                                                                                                                                                                                                                                                                                                                                                                                                                                                                                                                                                                                                                                                                                                                                                                                                                                                                                                                                                                                                                                                                                                                                                                                                                                                                                                                                                                                                                                                                                                                                                                                                                                                                                                                                                                                                                                                                                                                                                                                                                                                                                                                                                                                                                                                                                                                                                                                                                                                                                                                                                                                                                                                                                                                                                                                                                                                                                                                                                                                                                                                                                                                                                                                                                                                                                                                                                                                                                                                                                                                                                                                                     abc s good morning america ranks it the NUMBER christmas toy of the season the new NUMBER inch mini remote control cars are out of stock everywhere parents are searching frantically but having no luck there are millions of kids expecting these for the holiday season lets hope somebody gets them in or santa may be in trouble dianne sawyer nov NUMBER sold out in all stores accross the country retail price is NUMBER NUMBER we have limited stock and free shipping for only NUMBER NUMBER hyperlink check out this years hottest toy hyperlink unsubscribe forever \n",
      "8026                                                                                                                                                                                                                                                                                                                                                                                                                                                                                                                                                                                                                                                                                                                                                                                                                                                                                                                                                                                                                                                                                                                                                                                                                                                                                                                                                                                                                                                                                                                                                                                                                                                                                                                                                                                                                                                                                                                                                                                                                                                                                                                                                                                                                                                                                                                                                                                                                                                                                                                                                                                                                                                                                                                                                                                                                                                                                                                                                                                                                                                                                                                                                                                                                                                                                                                                                                                                                                                                                                                                                                                                                                                                                                                                                                                                                  hyperlink hyperlink hyperlink let mortgage lenders compete for your business did you receive an email advertisement in error our goal is to only target individuals who would like to take advantage of our offers if you d like to be removed from our mailing list please click on the link below you will be removed immediately and automatically from all of our future mailings we protect all email addresses from other third parties thank you hyperlink please remove me \n",
      "8027                                                                                                                                                                                                                                                                                                                                                                                                                                                                                                                                                                                                                                                                                                                                                                                                                                                                                                                                                                                                                                                                                                                                                                                                                                                                                                                                                                                                                                                                                                                                                                                                                                                                                                                                                                                                                                                                                                                                                                                                                                                                                                                                                                                                                                                                                                                                                                                                                                                                                                                                                                                                                                                                                                                                                                                                                                                                                                                                                                                                                                                                                                                                                                                                                                                                                                                                                                                                      thank you for shopping with us gifts for all occasions free gift with NUMBER NUMBER purchase for a limited time only receive this NUMBER plush santa bear free with your purchase of NUMBER NUMBER or more when your order totals NUMBER NUMBER or more order must be NUMBER NUMBER or more before shipping and handling this santa bear is added to your cart for free while supplies last mary s store would like to thank you for being a valued customer as our way of saying thanks to you the customer we are offering a NUMBER discount on all purchases made during the month of november just enter the word thanks in the discount code box during checkout to receive your automatic NUMBER discount hyperlink click here hyperlink to enter hyperlink mary s store if you do not wish to receive further discounts please hyperlink click here and type remove in the subject line \n",
      "8028     the famous ebay marketing e course learn to sell with the complete ebay auction marketing e course here s your chance to join the online selling revolution and earn a full time income our ebay marketing e course will show you how to create huge profits selling on ebay do you sell on ebay if so you could be making up to NUMBER NUMBER per month this is no hype and no scam receiving over NUMBER NUMBER billion page views per month ebay is the ultimate venue for selling virtually anything and making huge profits with almost no effort but you have to know what to sell and how to sell that s where i come in as a leading expert in internet marketing and the owner of several profitable auction based businesses the manual that i have written provides easy to understand and detailed instructions for maximizing your profits with selling strategies that are proven winners if you ve read any other books on ebay you know that all of them are designed for the computer idiot and the auction novice they tell you how to register how to list an item how to avoid fraud etc this is not the information you need to make millions on ebay you need to learn effective selling strategies not read a photocopy of ebay help files my manual assumes that you already know your way around ebay you don t need any specialized computer knowledge but you should be familiar with buying and selling on ebay auctions i m not going to waste your time teaching you how to register i m going to pass on the secret selling techniques that i use each and every day to bring in hundreds of thousands of dollars selling my products on internet auctions the manual comes as a complete course with the following lessons make a fortune on ebay make a fortune on ebay is filled with page after page of vital ebay marketing information this valuable e book is terrific for the ebay user to get the right ebay information and have an instant edge over other more experienced ebay sellers advanced selling on ebay advanced selling on ebay has more vital information to make their auction a success this e book has many topics to ensure that they get the maximum potential from their auctions advanced selling on ebay goes into more detailed information than it s sister e book make a fortune on ebay NUMBER ebay forms NUMBER ebay forms is a must these forms will help them track analyze and record their auctions it contains NUMBER forms with full instructions this e book also contains the forms in printer friendly version so they can print them for immediate use wholesale sources wholesale sources is the final e book in the ebay marketing e course it contains wholesale distributors from the united states mexico hong kong taiwan asia and the philippines armed with this e book your customers will have over NUMBER NUMBER NUMBER wholesale products at their finger tips this manual is designed for individuals looking to form an online business for extra income or as a full time job making hundreds of thousands of dollars on ebay contained in the manual are winning strategies for selling on ebay auctions the manual is not designed for ebay novices and does not teach the basics such as registering putting an item online buying an item etc this manual is designed to make ebay users into successful and wealthy entrepreneurs not only will you be able to make thousands with the information in these e books you will also receive full resellers rights this is not an affiliate program where you get NUMBER or NUMBER you keep all the money generated from your e course sales you can sell this e course as many times as you want for whatever price you choose there is no limit on how much you can make from this incredible product sell these e books individually or as a complete e course give make a fortune on ebay for free and use advanced selling on ebay NUMBER ebay forms and wholesale sources as a sell up all NUMBER e books for only NUMBER NUMBER hyperlink click here to order your e course today please allow up to NUMBER hours to process your order NUMBER NUMBER hours during business hours thank you for your time and i hope to hear from you soon \n",
      "8029                                                                                                                                                                                                                                                                                                                                                                                                                                                                                                                                                                                                                                                                                                                                                                                                                                                                                                                                                                                                                                                                                                                                                                                                                                                                                                                                                                                                                                                                                                                                                                                                                                                                                                                                                                                                                                                                                                                                                                                                                                                                                                                                                                                                                                         hello this is chinese traditional 子 件 NUMBER世 o最有效的宣 鞣绞剑 您想 地NUMBER f人同一 r刻知道您的 v告 幔磕 想方便快捷的宣 髂 的企 i 幔 您想在商 i 中步步 紫 c 幔 您想一次 碛 在商 i客 幔 越 碓蕉嗟恼 查表明 w路直 n 成 未 i n方式的主流 而e mail ⑹蔷w上 i n最常用也是最 用的工具 其特 c v r效高 r格低 emarketer估 美 有NUMBER 的中等 模公司 常 用 子 件 m行 i n活 印 部分 v告媒 w平均回 率比 average response rate ranges NUMBER NUMBER NUMBER 普通横幅广告 banner ads NUMBER NUMBER 普通信件 direct mail NUMBER NUMBER 子 件 email 一 件出售 i全球 件地址 每NUMBER f NUMBERhk i全部NUMBER f NUMBERhk i香港 件地址 每NUMBER f NUMBERhk i香港全部NUMBER f NUMBERhk hyperlink free download i _ 赤 件地址 每NUMBER f NUMBERhk i _ 橙 部NUMBER f NUMBERhk hyperlink free download 件 l送 v告 件代理 l送 每NUMBER f NUMBERhk NUMBER f起 l 蚀_率NUMBER 以上 包周群 l 一周NUMBER f NUMBERhk 一周NUMBER f NUMBERhk 保 c w站日 l 量提升NUMBER以上 包月群 l 一月NUMBER f NUMBERhk 保 c w站日 l 量提升NUMBER以上 件 w NUMBER n套群 l 搜索 w路 l 衍 w NUMBERhk 你自己 碛幸惶淄晟频碾 子 件群 l 搜索 w路 l 严到y 有意者请来信联系 hyperlink yhzxNUMBER URL 二 搜索引擎 缘顷 超值服 眨 特惠 rNUMBER hk y河之星 湍 登 全球NUMBER 英文搜索引擎 mNUMBER 中文搜索引擎 你的 w站享 u全球 e mail地址在各地 的分 盗 香港 NUMBER hyperlink free download the sample _ 场 NUMBER hyperlink free download the sample 全球 NUMBER f y河之星 碛 韧馍 有效的email位址 y料 欤 可以根 客 舻男枰 在指定的地方 域 行 i e等 傩酝斗烹 子 件 v告 如 你想 某地NUMBER f人一天之 都知道你的 a品 y 那麽 v告 件投放就是你最好的解 q方案 它的 r格是所有 髅 r格中最低 但又是最有效的 c遇每 r每刻都等待著你 也 s你正是用了 拥 髅菏侄危 而打垮了所有的 κ帧ｚs快行 影桑 你的企 i 公司立即掌握商 i 髅降拿 v告e mail 是普通 麂n i所不能比 m的 m及付款方式 本公司 氖戮w路 v告多年 宣 髁χ任痪又 第四大 w路 v告商之一 我 有 ｉt的技 g人 t和高速 i的服 障到y 氖麓隧 工作 必 您的企 i提供最迅捷 最有效 最 m意的服 铡 需求客 粽 c 暨 y m 箱 hyperlink yhzxNUMBER URL 硇耪 注明您需要的服 张c m方式 我 快回 湍 港 澳 _地 付款方式 任何 家均可到 地 y行 r NUMBER NUMBER天到 ぃ 需到 地 y行 k理 r english benificiary customer wangjingjing a c bank bank of china mianyang branch a c no NUMBER NUMBER NUMBER NUMBER benificiary s tel no NUMBER NUMBER 中文 φ眨 收 款 人 王晶晶 收款 y行 中 y行 d 分行 NUMBER NUMBER NUMBER NUMBER 收款人 NUMBER NUMBER NUMBER NUMBER天到 ぃ 款到後我 ⒘⒓ 您提供最 m意服 铡 g迎 硇 黼 j m NUMBER NUMBER NUMBER y河之星 w路 y 有限公司 公司地址 中 大 d email hyperlink yhzxNUMBER URL j NUMBER NUMBER NUMBER 公司服 NUMBER福壕w路推 v w站建 o w路 名 w 寄存 功能 得 q空 g w l展等 r x低廉 服 g迎 硇 黼 m \n",
      "Name: email, Length: 8030, dtype: object\n"
     ]
    }
   ],
   "source": [
    "email_column = df['email']\n",
    "\n",
    "# Set the max_colwidth option to None to display the entire content\n",
    "pd.set_option('display.max_colwidth', None)\n",
    "\n",
    "# Display the entire 'email' column\n",
    "print(email_column)"
   ]
  },
  {
   "cell_type": "code",
   "execution_count": 38,
   "id": "6dedb1fa",
   "metadata": {},
   "outputs": [
    {
     "data": {
      "text/plain": [
       "label    0\n",
       "email    1\n",
       "dtype: int64"
      ]
     },
     "execution_count": 38,
     "metadata": {},
     "output_type": "execute_result"
    }
   ],
   "source": [
    "# Check for null values\n",
    "df.isnull().sum()"
   ]
  },
  {
   "cell_type": "code",
   "execution_count": 39,
   "id": "d23693ce",
   "metadata": {},
   "outputs": [
    {
     "name": "stdout",
     "output_type": "stream",
     "text": [
      "Rows with null values in the 'email' column:\n",
      "      label email\n",
      "7998      1   NaN\n"
     ]
    }
   ],
   "source": [
    "# Filter rows with null values in the 'email' column\n",
    "rows_with_null_email = df[df['email'].isnull()]\n",
    "\n",
    "# Display rows with null values in the 'email' column\n",
    "if not rows_with_null_email.empty:\n",
    "    print(\"Rows with null values in the 'email' column:\")\n",
    "    print(rows_with_null_email)\n",
    "else:\n",
    "    print(\"No null values found in the 'email' column.\")"
   ]
  },
  {
   "cell_type": "code",
   "execution_count": 40,
   "id": "097e40bf",
   "metadata": {},
   "outputs": [
    {
     "name": "stdout",
     "output_type": "stream",
     "text": [
      "(8030, 2)\n",
      "(8029, 2)\n"
     ]
    },
    {
     "data": {
      "text/plain": [
       "label    0\n",
       "email    0\n",
       "dtype: int64"
      ]
     },
     "execution_count": 40,
     "metadata": {},
     "output_type": "execute_result"
    }
   ],
   "source": [
    "print(df.shape)\n",
    "\n",
    "# df.dropna(inplace=True)\n",
    "df = df.dropna()\n",
    "\n",
    "# Sanity Check\n",
    "print(df.shape)\n",
    "\n",
    "# pring how many null values there are\n",
    "df.isnull().sum()"
   ]
  },
  {
   "cell_type": "code",
   "execution_count": 41,
   "id": "118969fa",
   "metadata": {},
   "outputs": [
    {
     "data": {
      "text/plain": [
       "0"
      ]
     },
     "execution_count": 41,
     "metadata": {},
     "output_type": "execute_result"
    }
   ],
   "source": [
    "df.duplicated().sum()"
   ]
  },
  {
   "cell_type": "code",
   "execution_count": 42,
   "id": "99ca8390",
   "metadata": {},
   "outputs": [
    {
     "data": {
      "text/plain": [
       "0    6961\n",
       "1    1068\n",
       "Name: label, dtype: int64"
      ]
     },
     "execution_count": 42,
     "metadata": {},
     "output_type": "execute_result"
    }
   ],
   "source": [
    "df['label'].value_counts()"
   ]
  },
  {
   "cell_type": "code",
   "execution_count": 12,
   "id": "354616ac",
   "metadata": {},
   "outputs": [],
   "source": [
    "# # Function to detect language\n",
    "# def detect_language(text):\n",
    "#     try:\n",
    "#         return detect(text)\n",
    "#     except:\n",
    "#         return 'unknown'\n",
    "\n",
    "# # Apply language detection to each email\n",
    "# df['detected_language'] = df['email'].apply(detect_language)\n",
    "\n",
    "# # Filter out non-English emails\n",
    "# non_english_emails = df[df['detected_language'] != 'en']\n",
    "\n",
    "# # Display an example of a non-English email\n",
    "# if len(non_english_emails) > 0:\n",
    "#     non_english_example = non_english_emails.iloc[2]  # Selecting the first non-English email as an example\n",
    "#     print(\"Example of a non-English email:\")\n",
    "#     print(non_english_example['email'])\n",
    "# else:\n",
    "#     print(\"No non-English emails found in the dataset.\")\n"
   ]
  },
  {
   "cell_type": "code",
   "execution_count": 43,
   "id": "dbc09a3b",
   "metadata": {},
   "outputs": [
    {
     "name": "stdout",
     "output_type": "stream",
     "text": [
      "Ratio of non-English emails to English emails: 0.06\n"
     ]
    }
   ],
   "source": [
    "# Function to detect language\n",
    "def detect_language(text):\n",
    "    try:\n",
    "        return detect(text)\n",
    "    except:\n",
    "        return 'unknown'\n",
    "\n",
    "# Apply language detection to each email\n",
    "df['detected_language'] = df['email'].apply(detect_language)\n",
    "\n",
    "# Count the number of non-English emails and English emails\n",
    "non_english_count = len(df[df['detected_language'] != 'en'])\n",
    "english_count = len(df[df['detected_language'] == 'en'])\n",
    "\n",
    "# Calculate the ratio\n",
    "if english_count > 0:\n",
    "    ratio_non_english_to_english = non_english_count / english_count\n",
    "    print(f\"Ratio of non-English emails to English emails: {ratio_non_english_to_english:.2f}\")\n",
    "else:\n",
    "    print(\"No English emails found in the dataset.\")"
   ]
  },
  {
   "cell_type": "code",
   "execution_count": 44,
   "id": "bd23ade6",
   "metadata": {},
   "outputs": [
    {
     "data": {
      "text/html": [
       "<div>\n",
       "<style scoped>\n",
       "    .dataframe tbody tr th:only-of-type {\n",
       "        vertical-align: middle;\n",
       "    }\n",
       "\n",
       "    .dataframe tbody tr th {\n",
       "        vertical-align: top;\n",
       "    }\n",
       "\n",
       "    .dataframe thead th {\n",
       "        text-align: right;\n",
       "    }\n",
       "</style>\n",
       "<table border=\"1\" class=\"dataframe\">\n",
       "  <thead>\n",
       "    <tr style=\"text-align: right;\">\n",
       "      <th></th>\n",
       "      <th>label</th>\n",
       "      <th>email</th>\n",
       "      <th>detected_language</th>\n",
       "    </tr>\n",
       "  </thead>\n",
       "  <tbody>\n",
       "    <tr>\n",
       "      <th>0</th>\n",
       "      <td>0</td>\n",
       "      <td>Go until jurong point, crazy.. Available only in bugis n great world la e buffet... Cine there got amore wat...</td>\n",
       "      <td>en</td>\n",
       "    </tr>\n",
       "    <tr>\n",
       "      <th>1</th>\n",
       "      <td>0</td>\n",
       "      <td>Ok lar... Joking wif u oni...</td>\n",
       "      <td>id</td>\n",
       "    </tr>\n",
       "    <tr>\n",
       "      <th>2</th>\n",
       "      <td>1</td>\n",
       "      <td>Free entry in 2 a wkly comp to win FA Cup final tkts 21st May 2005. Text FA to 87121 to receive entry question(std txt rate)T&amp;C's apply 08452810075over18's</td>\n",
       "      <td>en</td>\n",
       "    </tr>\n",
       "    <tr>\n",
       "      <th>3</th>\n",
       "      <td>0</td>\n",
       "      <td>U dun say so early hor... U c already then say...</td>\n",
       "      <td>en</td>\n",
       "    </tr>\n",
       "    <tr>\n",
       "      <th>4</th>\n",
       "      <td>0</td>\n",
       "      <td>Nah I don't think he goes to usf, he lives around here though</td>\n",
       "      <td>en</td>\n",
       "    </tr>\n",
       "    <tr>\n",
       "      <th>5</th>\n",
       "      <td>1</td>\n",
       "      <td>FreeMsg Hey there darling it's been 3 week's now and no word back! I'd like some fun you up for it still? Tb ok! XxX std chgs to send, £1.50 to rcv</td>\n",
       "      <td>en</td>\n",
       "    </tr>\n",
       "    <tr>\n",
       "      <th>6</th>\n",
       "      <td>0</td>\n",
       "      <td>Even my brother is not like to speak with me. They treat me like aids patent.</td>\n",
       "      <td>en</td>\n",
       "    </tr>\n",
       "    <tr>\n",
       "      <th>7</th>\n",
       "      <td>0</td>\n",
       "      <td>As per your request 'Melle Melle (Oru Minnaminunginte Nurungu Vettam)' has been set as your callertune for all Callers. Press *9 to copy your friends Callertune</td>\n",
       "      <td>en</td>\n",
       "    </tr>\n",
       "    <tr>\n",
       "      <th>8</th>\n",
       "      <td>1</td>\n",
       "      <td>WINNER!! As a valued network customer you have been selected to receivea £900 prize reward! To claim call 09061701461. Claim code KL341. Valid 12 hours only.</td>\n",
       "      <td>en</td>\n",
       "    </tr>\n",
       "    <tr>\n",
       "      <th>9</th>\n",
       "      <td>1</td>\n",
       "      <td>Had your mobile 11 months or more? U R entitled to Update to the latest colour mobiles with camera for Free! Call The Mobile Update Co FREE on 08002986030</td>\n",
       "      <td>en</td>\n",
       "    </tr>\n",
       "  </tbody>\n",
       "</table>\n",
       "</div>"
      ],
      "text/plain": [
       "   label  \\\n",
       "0      0   \n",
       "1      0   \n",
       "2      1   \n",
       "3      0   \n",
       "4      0   \n",
       "5      1   \n",
       "6      0   \n",
       "7      0   \n",
       "8      1   \n",
       "9      1   \n",
       "\n",
       "                                                                                                                                                              email  \\\n",
       "0                                                   Go until jurong point, crazy.. Available only in bugis n great world la e buffet... Cine there got amore wat...   \n",
       "1                                                                                                                                     Ok lar... Joking wif u oni...   \n",
       "2       Free entry in 2 a wkly comp to win FA Cup final tkts 21st May 2005. Text FA to 87121 to receive entry question(std txt rate)T&C's apply 08452810075over18's   \n",
       "3                                                                                                                 U dun say so early hor... U c already then say...   \n",
       "4                                                                                                     Nah I don't think he goes to usf, he lives around here though   \n",
       "5               FreeMsg Hey there darling it's been 3 week's now and no word back! I'd like some fun you up for it still? Tb ok! XxX std chgs to send, £1.50 to rcv   \n",
       "6                                                                                     Even my brother is not like to speak with me. They treat me like aids patent.   \n",
       "7  As per your request 'Melle Melle (Oru Minnaminunginte Nurungu Vettam)' has been set as your callertune for all Callers. Press *9 to copy your friends Callertune   \n",
       "8     WINNER!! As a valued network customer you have been selected to receivea £900 prize reward! To claim call 09061701461. Claim code KL341. Valid 12 hours only.   \n",
       "9        Had your mobile 11 months or more? U R entitled to Update to the latest colour mobiles with camera for Free! Call The Mobile Update Co FREE on 08002986030   \n",
       "\n",
       "  detected_language  \n",
       "0                en  \n",
       "1                id  \n",
       "2                en  \n",
       "3                en  \n",
       "4                en  \n",
       "5                en  \n",
       "6                en  \n",
       "7                en  \n",
       "8                en  \n",
       "9                en  "
      ]
     },
     "execution_count": 44,
     "metadata": {},
     "output_type": "execute_result"
    }
   ],
   "source": [
    "df.head(10)"
   ]
  },
  {
   "cell_type": "code",
   "execution_count": 45,
   "id": "c36dc95f",
   "metadata": {},
   "outputs": [],
   "source": [
    "# Apply language detection to each email\n",
    "df['detected_language'] = df['email'].apply(detect_language)\n",
    "\n",
    "# Filter out non-English emails\n",
    "df = df[df['detected_language'] == 'en']"
   ]
  },
  {
   "cell_type": "code",
   "execution_count": 46,
   "id": "d85ba53c",
   "metadata": {},
   "outputs": [
    {
     "data": {
      "text/plain": [
       "(7529, 3)"
      ]
     },
     "execution_count": 46,
     "metadata": {},
     "output_type": "execute_result"
    }
   ],
   "source": [
    "df.shape"
   ]
  },
  {
   "cell_type": "code",
   "execution_count": 47,
   "id": "90afe902",
   "metadata": {},
   "outputs": [
    {
     "data": {
      "text/html": [
       "<div>\n",
       "<style scoped>\n",
       "    .dataframe tbody tr th:only-of-type {\n",
       "        vertical-align: middle;\n",
       "    }\n",
       "\n",
       "    .dataframe tbody tr th {\n",
       "        vertical-align: top;\n",
       "    }\n",
       "\n",
       "    .dataframe thead th {\n",
       "        text-align: right;\n",
       "    }\n",
       "</style>\n",
       "<table border=\"1\" class=\"dataframe\">\n",
       "  <thead>\n",
       "    <tr style=\"text-align: right;\">\n",
       "      <th></th>\n",
       "      <th>label</th>\n",
       "      <th>email</th>\n",
       "      <th>detected_language</th>\n",
       "    </tr>\n",
       "  </thead>\n",
       "  <tbody>\n",
       "    <tr>\n",
       "      <th>0</th>\n",
       "      <td>0</td>\n",
       "      <td>Go until jurong point, crazy.. Available only in bugis n great world la e buffet... Cine there got amore wat...</td>\n",
       "      <td>en</td>\n",
       "    </tr>\n",
       "    <tr>\n",
       "      <th>2</th>\n",
       "      <td>1</td>\n",
       "      <td>Free entry in 2 a wkly comp to win FA Cup final tkts 21st May 2005. Text FA to 87121 to receive entry question(std txt rate)T&amp;C's apply 08452810075over18's</td>\n",
       "      <td>en</td>\n",
       "    </tr>\n",
       "    <tr>\n",
       "      <th>3</th>\n",
       "      <td>0</td>\n",
       "      <td>U dun say so early hor... U c already then say...</td>\n",
       "      <td>en</td>\n",
       "    </tr>\n",
       "    <tr>\n",
       "      <th>4</th>\n",
       "      <td>0</td>\n",
       "      <td>Nah I don't think he goes to usf, he lives around here though</td>\n",
       "      <td>en</td>\n",
       "    </tr>\n",
       "    <tr>\n",
       "      <th>5</th>\n",
       "      <td>1</td>\n",
       "      <td>FreeMsg Hey there darling it's been 3 week's now and no word back! I'd like some fun you up for it still? Tb ok! XxX std chgs to send, £1.50 to rcv</td>\n",
       "      <td>en</td>\n",
       "    </tr>\n",
       "  </tbody>\n",
       "</table>\n",
       "</div>"
      ],
      "text/plain": [
       "   label  \\\n",
       "0      0   \n",
       "2      1   \n",
       "3      0   \n",
       "4      0   \n",
       "5      1   \n",
       "\n",
       "                                                                                                                                                         email  \\\n",
       "0                                              Go until jurong point, crazy.. Available only in bugis n great world la e buffet... Cine there got amore wat...   \n",
       "2  Free entry in 2 a wkly comp to win FA Cup final tkts 21st May 2005. Text FA to 87121 to receive entry question(std txt rate)T&C's apply 08452810075over18's   \n",
       "3                                                                                                            U dun say so early hor... U c already then say...   \n",
       "4                                                                                                Nah I don't think he goes to usf, he lives around here though   \n",
       "5          FreeMsg Hey there darling it's been 3 week's now and no word back! I'd like some fun you up for it still? Tb ok! XxX std chgs to send, £1.50 to rcv   \n",
       "\n",
       "  detected_language  \n",
       "0                en  \n",
       "2                en  \n",
       "3                en  \n",
       "4                en  \n",
       "5                en  "
      ]
     },
     "execution_count": 47,
     "metadata": {},
     "output_type": "execute_result"
    }
   ],
   "source": [
    "df.head()"
   ]
  },
  {
   "cell_type": "code",
   "execution_count": 49,
   "id": "d3a380a2",
   "metadata": {},
   "outputs": [],
   "source": [
    "df['num_characters'] = df['email'].apply(len)\n",
    "df['num_words'] = df['email'].apply(lambda x: len(nltk.word_tokenize(x)))\n",
    "df['num_sentence'] = df['email'].apply(lambda x: len(nltk.sent_tokenize(x)))"
   ]
  },
  {
   "cell_type": "code",
   "execution_count": 50,
   "id": "c95c4535",
   "metadata": {},
   "outputs": [
    {
     "data": {
      "text/html": [
       "<div>\n",
       "<style scoped>\n",
       "    .dataframe tbody tr th:only-of-type {\n",
       "        vertical-align: middle;\n",
       "    }\n",
       "\n",
       "    .dataframe tbody tr th {\n",
       "        vertical-align: top;\n",
       "    }\n",
       "\n",
       "    .dataframe thead th {\n",
       "        text-align: right;\n",
       "    }\n",
       "</style>\n",
       "<table border=\"1\" class=\"dataframe\">\n",
       "  <thead>\n",
       "    <tr style=\"text-align: right;\">\n",
       "      <th></th>\n",
       "      <th>num_characters</th>\n",
       "      <th>num_words</th>\n",
       "      <th>num_sentence</th>\n",
       "    </tr>\n",
       "  </thead>\n",
       "  <tbody>\n",
       "    <tr>\n",
       "      <th>count</th>\n",
       "      <td>7529.000000</td>\n",
       "      <td>7529.000000</td>\n",
       "      <td>7529.000000</td>\n",
       "    </tr>\n",
       "    <tr>\n",
       "      <th>mean</th>\n",
       "      <td>569.273476</td>\n",
       "      <td>102.278789</td>\n",
       "      <td>1.642449</td>\n",
       "    </tr>\n",
       "    <tr>\n",
       "      <th>std</th>\n",
       "      <td>2171.923973</td>\n",
       "      <td>364.850653</td>\n",
       "      <td>1.268721</td>\n",
       "    </tr>\n",
       "    <tr>\n",
       "      <th>min</th>\n",
       "      <td>7.000000</td>\n",
       "      <td>1.000000</td>\n",
       "      <td>1.000000</td>\n",
       "    </tr>\n",
       "    <tr>\n",
       "      <th>25%</th>\n",
       "      <td>52.000000</td>\n",
       "      <td>13.000000</td>\n",
       "      <td>1.000000</td>\n",
       "    </tr>\n",
       "    <tr>\n",
       "      <th>50%</th>\n",
       "      <td>132.000000</td>\n",
       "      <td>27.000000</td>\n",
       "      <td>1.000000</td>\n",
       "    </tr>\n",
       "    <tr>\n",
       "      <th>75%</th>\n",
       "      <td>520.000000</td>\n",
       "      <td>93.000000</td>\n",
       "      <td>2.000000</td>\n",
       "    </tr>\n",
       "    <tr>\n",
       "      <th>max</th>\n",
       "      <td>82994.000000</td>\n",
       "      <td>13309.000000</td>\n",
       "      <td>38.000000</td>\n",
       "    </tr>\n",
       "  </tbody>\n",
       "</table>\n",
       "</div>"
      ],
      "text/plain": [
       "       num_characters     num_words  num_sentence\n",
       "count     7529.000000   7529.000000   7529.000000\n",
       "mean       569.273476    102.278789      1.642449\n",
       "std       2171.923973    364.850653      1.268721\n",
       "min          7.000000      1.000000      1.000000\n",
       "25%         52.000000     13.000000      1.000000\n",
       "50%        132.000000     27.000000      1.000000\n",
       "75%        520.000000     93.000000      2.000000\n",
       "max      82994.000000  13309.000000     38.000000"
      ]
     },
     "execution_count": 50,
     "metadata": {},
     "output_type": "execute_result"
    }
   ],
   "source": [
    "df[['num_characters', 'num_words', 'num_sentence']].describe()"
   ]
  },
  {
   "cell_type": "code",
   "execution_count": 53,
   "id": "219e8a1a",
   "metadata": {},
   "outputs": [
    {
     "data": {
      "text/html": [
       "<div>\n",
       "<style scoped>\n",
       "    .dataframe tbody tr th:only-of-type {\n",
       "        vertical-align: middle;\n",
       "    }\n",
       "\n",
       "    .dataframe tbody tr th {\n",
       "        vertical-align: top;\n",
       "    }\n",
       "\n",
       "    .dataframe thead th {\n",
       "        text-align: right;\n",
       "    }\n",
       "</style>\n",
       "<table border=\"1\" class=\"dataframe\">\n",
       "  <thead>\n",
       "    <tr style=\"text-align: right;\">\n",
       "      <th></th>\n",
       "      <th>num_characters</th>\n",
       "      <th>num_words</th>\n",
       "      <th>num_sentence</th>\n",
       "    </tr>\n",
       "  </thead>\n",
       "  <tbody>\n",
       "    <tr>\n",
       "      <th>count</th>\n",
       "      <td>6487.000000</td>\n",
       "      <td>6487.000000</td>\n",
       "      <td>6487.000000</td>\n",
       "    </tr>\n",
       "    <tr>\n",
       "      <th>mean</th>\n",
       "      <td>517.490211</td>\n",
       "      <td>93.711577</td>\n",
       "      <td>1.551102</td>\n",
       "    </tr>\n",
       "    <tr>\n",
       "      <th>std</th>\n",
       "      <td>2005.069793</td>\n",
       "      <td>334.912911</td>\n",
       "      <td>1.201090</td>\n",
       "    </tr>\n",
       "    <tr>\n",
       "      <th>min</th>\n",
       "      <td>7.000000</td>\n",
       "      <td>1.000000</td>\n",
       "      <td>1.000000</td>\n",
       "    </tr>\n",
       "    <tr>\n",
       "      <th>25%</th>\n",
       "      <td>47.000000</td>\n",
       "      <td>12.000000</td>\n",
       "      <td>1.000000</td>\n",
       "    </tr>\n",
       "    <tr>\n",
       "      <th>50%</th>\n",
       "      <td>107.000000</td>\n",
       "      <td>24.000000</td>\n",
       "      <td>1.000000</td>\n",
       "    </tr>\n",
       "    <tr>\n",
       "      <th>75%</th>\n",
       "      <td>487.000000</td>\n",
       "      <td>88.000000</td>\n",
       "      <td>2.000000</td>\n",
       "    </tr>\n",
       "    <tr>\n",
       "      <th>max</th>\n",
       "      <td>82994.000000</td>\n",
       "      <td>13309.000000</td>\n",
       "      <td>38.000000</td>\n",
       "    </tr>\n",
       "  </tbody>\n",
       "</table>\n",
       "</div>"
      ],
      "text/plain": [
       "       num_characters     num_words  num_sentence\n",
       "count     6487.000000   6487.000000   6487.000000\n",
       "mean       517.490211     93.711577      1.551102\n",
       "std       2005.069793    334.912911      1.201090\n",
       "min          7.000000      1.000000      1.000000\n",
       "25%         47.000000     12.000000      1.000000\n",
       "50%        107.000000     24.000000      1.000000\n",
       "75%        487.000000     88.000000      2.000000\n",
       "max      82994.000000  13309.000000     38.000000"
      ]
     },
     "execution_count": 53,
     "metadata": {},
     "output_type": "execute_result"
    }
   ],
   "source": [
    "# for real emails\n",
    "df[df['label'] == 0][['num_characters', 'num_words', 'num_sentence']].describe()\n",
    "\n",
    "# real emails have more words "
   ]
  },
  {
   "cell_type": "code",
   "execution_count": 54,
   "id": "970f46d6",
   "metadata": {},
   "outputs": [
    {
     "data": {
      "text/html": [
       "<div>\n",
       "<style scoped>\n",
       "    .dataframe tbody tr th:only-of-type {\n",
       "        vertical-align: middle;\n",
       "    }\n",
       "\n",
       "    .dataframe tbody tr th {\n",
       "        vertical-align: top;\n",
       "    }\n",
       "\n",
       "    .dataframe thead th {\n",
       "        text-align: right;\n",
       "    }\n",
       "</style>\n",
       "<table border=\"1\" class=\"dataframe\">\n",
       "  <thead>\n",
       "    <tr style=\"text-align: right;\">\n",
       "      <th></th>\n",
       "      <th>num_characters</th>\n",
       "      <th>num_words</th>\n",
       "      <th>num_sentence</th>\n",
       "    </tr>\n",
       "  </thead>\n",
       "  <tbody>\n",
       "    <tr>\n",
       "      <th>count</th>\n",
       "      <td>1042.000000</td>\n",
       "      <td>1042.000000</td>\n",
       "      <td>1042.000000</td>\n",
       "    </tr>\n",
       "    <tr>\n",
       "      <th>mean</th>\n",
       "      <td>891.651631</td>\n",
       "      <td>155.614203</td>\n",
       "      <td>2.211132</td>\n",
       "    </tr>\n",
       "    <tr>\n",
       "      <th>std</th>\n",
       "      <td>2990.555289</td>\n",
       "      <td>510.357682</td>\n",
       "      <td>1.508717</td>\n",
       "    </tr>\n",
       "    <tr>\n",
       "      <th>min</th>\n",
       "      <td>13.000000</td>\n",
       "      <td>2.000000</td>\n",
       "      <td>1.000000</td>\n",
       "    </tr>\n",
       "    <tr>\n",
       "      <th>25%</th>\n",
       "      <td>143.000000</td>\n",
       "      <td>27.000000</td>\n",
       "      <td>1.000000</td>\n",
       "    </tr>\n",
       "    <tr>\n",
       "      <th>50%</th>\n",
       "      <td>158.000000</td>\n",
       "      <td>33.000000</td>\n",
       "      <td>2.000000</td>\n",
       "    </tr>\n",
       "    <tr>\n",
       "      <th>75%</th>\n",
       "      <td>796.750000</td>\n",
       "      <td>127.500000</td>\n",
       "      <td>3.000000</td>\n",
       "    </tr>\n",
       "    <tr>\n",
       "      <th>max</th>\n",
       "      <td>69860.000000</td>\n",
       "      <td>11602.000000</td>\n",
       "      <td>9.000000</td>\n",
       "    </tr>\n",
       "  </tbody>\n",
       "</table>\n",
       "</div>"
      ],
      "text/plain": [
       "       num_characters     num_words  num_sentence\n",
       "count     1042.000000   1042.000000   1042.000000\n",
       "mean       891.651631    155.614203      2.211132\n",
       "std       2990.555289    510.357682      1.508717\n",
       "min         13.000000      2.000000      1.000000\n",
       "25%        143.000000     27.000000      1.000000\n",
       "50%        158.000000     33.000000      2.000000\n",
       "75%        796.750000    127.500000      3.000000\n",
       "max      69860.000000  11602.000000      9.000000"
      ]
     },
     "execution_count": 54,
     "metadata": {},
     "output_type": "execute_result"
    }
   ],
   "source": [
    "# for spam emails\n",
    "df[df['label'] == 1][['num_characters', 'num_words', 'num_sentence']].describe()"
   ]
  },
  {
   "cell_type": "code",
   "execution_count": 68,
   "id": "b25f46b4",
   "metadata": {},
   "outputs": [
    {
     "data": {
      "image/png": "[encoded data removed]",
      "text/plain": [
       "<Figure size 585.725x540 with 12 Axes>"
      ]
     },
     "metadata": {},
     "output_type": "display_data"
    }
   ],
   "source": [
    "# Create a pairplot with custom styling\n",
    "sns.set(style='ticks', color_codes=True)\n",
    "g = sns.pairplot(df, hue='label', diag_kind='kde', markers=[\"o\", \"s\"])\n",
    "\n",
    "# Set a title for the pairplot\n",
    "g.fig.suptitle(\"Pairplot of Data by Target\", fontsize=16, fontweight='bold')\n",
    "plt.subplots_adjust(top=0.95)  # Adjust the position of the title\n",
    "\n",
    "# Customize the legend\n",
    "g._legend.set_title('label')\n",
    "for t, l in zip(g._legend.texts, [\"Target 0\", \"Target 1\"]):\n",
    "    t.set_text(l)\n",
    "\n",
    "# Show the pairplot\n",
    "plt.show()"
   ]
  },
  {
   "cell_type": "code",
   "execution_count": 70,
   "id": "efcee027",
   "metadata": {},
   "outputs": [
    {
     "data": {
      "text/html": [
       "<div>\n",
       "<style scoped>\n",
       "    .dataframe tbody tr th:only-of-type {\n",
       "        vertical-align: middle;\n",
       "    }\n",
       "\n",
       "    .dataframe tbody tr th {\n",
       "        vertical-align: top;\n",
       "    }\n",
       "\n",
       "    .dataframe thead th {\n",
       "        text-align: right;\n",
       "    }\n",
       "</style>\n",
       "<table border=\"1\" class=\"dataframe\">\n",
       "  <thead>\n",
       "    <tr style=\"text-align: right;\">\n",
       "      <th></th>\n",
       "      <th>label</th>\n",
       "      <th>num_characters</th>\n",
       "      <th>num_words</th>\n",
       "      <th>num_sentence</th>\n",
       "    </tr>\n",
       "  </thead>\n",
       "  <tbody>\n",
       "    <tr>\n",
       "      <th>label</th>\n",
       "      <td>1.000000</td>\n",
       "      <td>0.059492</td>\n",
       "      <td>0.058592</td>\n",
       "      <td>0.179657</td>\n",
       "    </tr>\n",
       "    <tr>\n",
       "      <th>num_characters</th>\n",
       "      <td>0.059492</td>\n",
       "      <td>1.000000</td>\n",
       "      <td>0.997834</td>\n",
       "      <td>-0.101089</td>\n",
       "    </tr>\n",
       "    <tr>\n",
       "      <th>num_words</th>\n",
       "      <td>0.058592</td>\n",
       "      <td>0.997834</td>\n",
       "      <td>1.000000</td>\n",
       "      <td>-0.096629</td>\n",
       "    </tr>\n",
       "    <tr>\n",
       "      <th>num_sentence</th>\n",
       "      <td>0.179657</td>\n",
       "      <td>-0.101089</td>\n",
       "      <td>-0.096629</td>\n",
       "      <td>1.000000</td>\n",
       "    </tr>\n",
       "  </tbody>\n",
       "</table>\n",
       "</div>"
      ],
      "text/plain": [
       "                   label  num_characters  num_words  num_sentence\n",
       "label           1.000000        0.059492   0.058592      0.179657\n",
       "num_characters  0.059492        1.000000   0.997834     -0.101089\n",
       "num_words       0.058592        0.997834   1.000000     -0.096629\n",
       "num_sentence    0.179657       -0.101089  -0.096629      1.000000"
      ]
     },
     "execution_count": 70,
     "metadata": {},
     "output_type": "execute_result"
    }
   ],
   "source": [
    "df[['label','num_characters', 'num_words', 'num_sentence']].corr()"
   ]
  },
  {
   "cell_type": "code",
   "execution_count": 71,
   "id": "ad666fd4",
   "metadata": {},
   "outputs": [
    {
     "data": {
      "image/png": "[encoded data removed]",
      "text/plain": [
       "<Figure size 720x432 with 2 Axes>"
      ]
     },
     "metadata": {},
     "output_type": "display_data"
    }
   ],
   "source": [
    "# Select the columns for the correlation matrix\n",
    "correlation_matrix = df[['label', 'num_characters', 'num_words', 'num_sentence']].corr()\n",
    "\n",
    "# Create a heatmap with custom styling\n",
    "plt.figure(figsize=(10, 6))\n",
    "sns.set(font_scale=1.2)  # Adjust font scale for better readability\n",
    "sns.heatmap(correlation_matrix, annot=True, cmap='coolwarm', linewidths=0.5, fmt=\".2f\")\n",
    "\n",
    "# Set a title for the heatmap\n",
    "plt.title(\"Correlation Heatmap\", fontsize=16, fontweight='bold')\n",
    "\n",
    "# Rotate x-axis labels for better readability\n",
    "plt.xticks(rotation=45)\n",
    "\n",
    "# Show the heatmap\n",
    "plt.show()"
   ]
  },
  {
   "cell_type": "code",
   "execution_count": null,
   "id": "e5008c95",
   "metadata": {},
   "outputs": [],
   "source": []
  },
  {
   "cell_type": "code",
   "execution_count": 72,
   "id": "a05a000c",
   "metadata": {},
   "outputs": [],
   "source": [
    "## Data Preprocessing"
   ]
  },
  {
   "cell_type": "code",
   "execution_count": 74,
   "id": "d7946c9c",
   "metadata": {},
   "outputs": [],
   "source": [
    "# Creating an instance of the Porter Stemmer\n",
    "ps = PorterStemmer()\n",
    "\n",
    "# Lowercase transformation and text preprocessing function\n",
    "def transform_text(text):\n",
    "    # Transform the text to lowercase\n",
    "    text = text.lower()\n",
    "    \n",
    "    # Tokenization using NLTK\n",
    "    text = nltk.word_tokenize(text)\n",
    "    \n",
    "    # Removing special characters\n",
    "    y = []\n",
    "    for i in text:\n",
    "        if i.isalnum():\n",
    "            y.append(i)\n",
    "            \n",
    "    # Removing stop words and punctuation\n",
    "    text = y[:]\n",
    "    y.clear()\n",
    "    \n",
    "    # Loop through the tokens and remove stopwords and punctuation\n",
    "    for i in text:\n",
    "        if i not in stopwords.words('english') and i not in string.punctuation:\n",
    "            y.append(i)\n",
    "        \n",
    "    # Stemming using Porter Stemmer\n",
    "    text = y[:]\n",
    "    y.clear()\n",
    "    for i in text:\n",
    "        y.append(ps.stem(i))\n",
    "    \n",
    "    # Join the processed tokens back into a single string\n",
    "    return \" \".join(y)"
   ]
  },
  {
   "cell_type": "code",
   "execution_count": 76,
   "id": "e2ccd922",
   "metadata": {},
   "outputs": [],
   "source": [
    "df['transformed_text'] = df['email'].apply(transform_text)"
   ]
  },
  {
   "cell_type": "code",
   "execution_count": 77,
   "id": "7dc7fe26",
   "metadata": {},
   "outputs": [
    {
     "data": {
      "text/html": [
       "<div>\n",
       "<style scoped>\n",
       "    .dataframe tbody tr th:only-of-type {\n",
       "        vertical-align: middle;\n",
       "    }\n",
       "\n",
       "    .dataframe tbody tr th {\n",
       "        vertical-align: top;\n",
       "    }\n",
       "\n",
       "    .dataframe thead th {\n",
       "        text-align: right;\n",
       "    }\n",
       "</style>\n",
       "<table border=\"1\" class=\"dataframe\">\n",
       "  <thead>\n",
       "    <tr style=\"text-align: right;\">\n",
       "      <th></th>\n",
       "      <th>label</th>\n",
       "      <th>email</th>\n",
       "      <th>detected_language</th>\n",
       "      <th>num_characters</th>\n",
       "      <th>num_words</th>\n",
       "      <th>num_sentence</th>\n",
       "      <th>transformed_text</th>\n",
       "    </tr>\n",
       "  </thead>\n",
       "  <tbody>\n",
       "    <tr>\n",
       "      <th>0</th>\n",
       "      <td>0</td>\n",
       "      <td>Go until jurong point, crazy.. Available only in bugis n great world la e buffet... Cine there got amore wat...</td>\n",
       "      <td>en</td>\n",
       "      <td>111</td>\n",
       "      <td>24</td>\n",
       "      <td>2</td>\n",
       "      <td>go jurong point crazi avail bugi n great world la e buffet cine got amor wat</td>\n",
       "    </tr>\n",
       "    <tr>\n",
       "      <th>2</th>\n",
       "      <td>1</td>\n",
       "      <td>Free entry in 2 a wkly comp to win FA Cup final tkts 21st May 2005. Text FA to 87121 to receive entry question(std txt rate)T&amp;C's apply 08452810075over18's</td>\n",
       "      <td>en</td>\n",
       "      <td>155</td>\n",
       "      <td>37</td>\n",
       "      <td>2</td>\n",
       "      <td>free entri 2 wkli comp win fa cup final tkt 21st may text fa 87121 receiv entri question std txt rate c appli 08452810075over18</td>\n",
       "    </tr>\n",
       "    <tr>\n",
       "      <th>3</th>\n",
       "      <td>0</td>\n",
       "      <td>U dun say so early hor... U c already then say...</td>\n",
       "      <td>en</td>\n",
       "      <td>49</td>\n",
       "      <td>13</td>\n",
       "      <td>1</td>\n",
       "      <td>u dun say earli hor u c alreadi say</td>\n",
       "    </tr>\n",
       "    <tr>\n",
       "      <th>4</th>\n",
       "      <td>0</td>\n",
       "      <td>Nah I don't think he goes to usf, he lives around here though</td>\n",
       "      <td>en</td>\n",
       "      <td>61</td>\n",
       "      <td>15</td>\n",
       "      <td>1</td>\n",
       "      <td>nah think goe usf live around though</td>\n",
       "    </tr>\n",
       "    <tr>\n",
       "      <th>5</th>\n",
       "      <td>1</td>\n",
       "      <td>FreeMsg Hey there darling it's been 3 week's now and no word back! I'd like some fun you up for it still? Tb ok! XxX std chgs to send, £1.50 to rcv</td>\n",
       "      <td>en</td>\n",
       "      <td>147</td>\n",
       "      <td>39</td>\n",
       "      <td>4</td>\n",
       "      <td>freemsg hey darl 3 week word back like fun still tb ok xxx std chg send rcv</td>\n",
       "    </tr>\n",
       "  </tbody>\n",
       "</table>\n",
       "</div>"
      ],
      "text/plain": [
       "   label  \\\n",
       "0      0   \n",
       "2      1   \n",
       "3      0   \n",
       "4      0   \n",
       "5      1   \n",
       "\n",
       "                                                                                                                                                         email  \\\n",
       "0                                              Go until jurong point, crazy.. Available only in bugis n great world la e buffet... Cine there got amore wat...   \n",
       "2  Free entry in 2 a wkly comp to win FA Cup final tkts 21st May 2005. Text FA to 87121 to receive entry question(std txt rate)T&C's apply 08452810075over18's   \n",
       "3                                                                                                            U dun say so early hor... U c already then say...   \n",
       "4                                                                                                Nah I don't think he goes to usf, he lives around here though   \n",
       "5          FreeMsg Hey there darling it's been 3 week's now and no word back! I'd like some fun you up for it still? Tb ok! XxX std chgs to send, £1.50 to rcv   \n",
       "\n",
       "  detected_language  num_characters  num_words  num_sentence  \\\n",
       "0                en             111         24             2   \n",
       "2                en             155         37             2   \n",
       "3                en              49         13             1   \n",
       "4                en              61         15             1   \n",
       "5                en             147         39             4   \n",
       "\n",
       "                                                                                                                  transformed_text  \n",
       "0                                                     go jurong point crazi avail bugi n great world la e buffet cine got amor wat  \n",
       "2  free entri 2 wkli comp win fa cup final tkt 21st may text fa 87121 receiv entri question std txt rate c appli 08452810075over18  \n",
       "3                                                                                              u dun say earli hor u c alreadi say  \n",
       "4                                                                                             nah think goe usf live around though  \n",
       "5                                                      freemsg hey darl 3 week word back like fun still tb ok xxx std chg send rcv  "
      ]
     },
     "execution_count": 77,
     "metadata": {},
     "output_type": "execute_result"
    }
   ],
   "source": [
    "df.head()"
   ]
  },
  {
   "cell_type": "code",
   "execution_count": 87,
   "id": "12915b89",
   "metadata": {},
   "outputs": [
    {
     "name": "stdout",
     "output_type": "stream",
     "text": [
      "Requirement already satisfied: wordcloud in /opt/anaconda3/lib/python3.9/site-packages (1.9.2)\n",
      "Requirement already satisfied: numpy>=1.6.1 in /opt/anaconda3/lib/python3.9/site-packages (from wordcloud) (1.22.4)\n",
      "Requirement already satisfied: pillow in /opt/anaconda3/lib/python3.9/site-packages (from wordcloud) (10.1.0)\n",
      "Requirement already satisfied: matplotlib in /opt/anaconda3/lib/python3.9/site-packages (from wordcloud) (3.4.3)\n",
      "Requirement already satisfied: cycler>=0.10 in /opt/anaconda3/lib/python3.9/site-packages (from matplotlib->wordcloud) (0.10.0)\n",
      "Requirement already satisfied: kiwisolver>=1.0.1 in /opt/anaconda3/lib/python3.9/site-packages (from matplotlib->wordcloud) (1.3.1)\n",
      "Requirement already satisfied: pyparsing>=2.2.1 in /opt/anaconda3/lib/python3.9/site-packages (from matplotlib->wordcloud) (3.0.4)\n",
      "Requirement already satisfied: python-dateutil>=2.7 in /opt/anaconda3/lib/python3.9/site-packages (from matplotlib->wordcloud) (2.8.2)\n",
      "Requirement already satisfied: six in /opt/anaconda3/lib/python3.9/site-packages (from cycler>=0.10->matplotlib->wordcloud) (1.16.0)\n",
      "\u001b[33mDEPRECATION: pyodbc 4.0.0-unsupported has a non-standard version number. pip 24.0 will enforce this behaviour change. A possible replacement is to upgrade to a newer version of pyodbc or contact the author to suggest that they release a version with a conforming version number. Discussion can be found at https://github.com/pypa/pip/issues/12063\u001b[0m\u001b[33m\n",
      "\u001b[0m"
     ]
    }
   ],
   "source": [
    "!pip install wordcloud"
   ]
  },
  {
   "cell_type": "code",
   "execution_count": 91,
   "id": "b7062eb4",
   "metadata": {
    "scrolled": true
   },
   "outputs": [
    {
     "name": "stdout",
     "output_type": "stream",
     "text": [
      "Requirement already satisfied: wordcloud in /opt/anaconda3/lib/python3.9/site-packages (1.9.2)\n",
      "Requirement already satisfied: matplotlib in /opt/anaconda3/lib/python3.9/site-packages (3.4.3)\n",
      "Collecting matplotlib\n",
      "  Downloading matplotlib-3.8.2-cp39-cp39-macosx_10_12_x86_64.whl.metadata (5.8 kB)\n",
      "Requirement already satisfied: numpy>=1.6.1 in /opt/anaconda3/lib/python3.9/site-packages (from wordcloud) (1.22.4)\n",
      "Requirement already satisfied: pillow in /opt/anaconda3/lib/python3.9/site-packages (from wordcloud) (10.1.0)\n",
      "Collecting contourpy>=1.0.1 (from matplotlib)\n",
      "  Downloading contourpy-1.2.0-cp39-cp39-macosx_10_9_x86_64.whl.metadata (5.8 kB)\n",
      "Requirement already satisfied: cycler>=0.10 in /opt/anaconda3/lib/python3.9/site-packages (from matplotlib) (0.10.0)\n",
      "Requirement already satisfied: fonttools>=4.22.0 in /opt/anaconda3/lib/python3.9/site-packages (from matplotlib) (4.25.0)\n",
      "Requirement already satisfied: kiwisolver>=1.3.1 in /opt/anaconda3/lib/python3.9/site-packages (from matplotlib) (1.3.1)\n",
      "Requirement already satisfied: packaging>=20.0 in /opt/anaconda3/lib/python3.9/site-packages (from matplotlib) (23.1)\n",
      "Requirement already satisfied: pyparsing>=2.3.1 in /opt/anaconda3/lib/python3.9/site-packages (from matplotlib) (3.0.4)\n",
      "Requirement already satisfied: python-dateutil>=2.7 in /opt/anaconda3/lib/python3.9/site-packages (from matplotlib) (2.8.2)\n",
      "Collecting importlib-resources>=3.2.0 (from matplotlib)\n",
      "  Downloading importlib_resources-6.1.1-py3-none-any.whl.metadata (4.1 kB)\n",
      "Requirement already satisfied: six in /opt/anaconda3/lib/python3.9/site-packages (from cycler>=0.10->matplotlib) (1.16.0)\n",
      "Requirement already satisfied: zipp>=3.1.0 in /opt/anaconda3/lib/python3.9/site-packages (from importlib-resources>=3.2.0->matplotlib) (3.6.0)\n",
      "Downloading matplotlib-3.8.2-cp39-cp39-macosx_10_12_x86_64.whl (7.6 MB)\n",
      "\u001b[2K   \u001b[90m━━━━━━━━━━━━━━━━━━━━━━━━━━━━━━━━━━━━━━━━\u001b[0m \u001b[32m7.6/7.6 MB\u001b[0m \u001b[31m17.6 MB/s\u001b[0m eta \u001b[36m0:00:00\u001b[0m00:01\u001b[0m00:01\u001b[0m\n",
      "\u001b[?25hDownloading contourpy-1.2.0-cp39-cp39-macosx_10_9_x86_64.whl (257 kB)\n",
      "\u001b[2K   \u001b[90m━━━━━━━━━━━━━━━━━━━━━━━━━━━━━━━━━━━━━━━━\u001b[0m \u001b[32m257.1/257.1 kB\u001b[0m \u001b[31m8.4 MB/s\u001b[0m eta \u001b[36m0:00:00\u001b[0m\n",
      "\u001b[?25hDownloading importlib_resources-6.1.1-py3-none-any.whl (33 kB)\n",
      "\u001b[33mDEPRECATION: pyodbc 4.0.0-unsupported has a non-standard version number. pip 24.0 will enforce this behaviour change. A possible replacement is to upgrade to a newer version of pyodbc or contact the author to suggest that they release a version with a conforming version number. Discussion can be found at https://github.com/pypa/pip/issues/12063\u001b[0m\u001b[33m\n",
      "\u001b[0mInstalling collected packages: importlib-resources, contourpy, matplotlib\n",
      "  Attempting uninstall: matplotlib\n",
      "    Found existing installation: matplotlib 3.4.3\n",
      "    Uninstalling matplotlib-3.4.3:\n",
      "      Successfully uninstalled matplotlib-3.4.3\n",
      "Successfully installed contourpy-1.2.0 importlib-resources-6.1.1 matplotlib-3.8.2\n"
     ]
    }
   ],
   "source": [
    "!pip install --upgrade wordcloud matplotlib\n"
   ]
  },
  {
   "cell_type": "code",
   "execution_count": 96,
   "id": "88d85fd7",
   "metadata": {},
   "outputs": [],
   "source": [
    "# # word cloud didnt work\n",
    "# wc = WordCloud(width = 500, height = 500, min_font_size = 10, background_color = 'white')\n",
    "# spam_wc = wc.generate(df[df['label'] == 1]['transformed_text'].str.cat(sep = \" \"))\n",
    "# plt.figure(figsize = (15,6))\n",
    "# plt.imshow(spam_wc)\n",
    "# plt.show()"
   ]
  },
  {
   "cell_type": "code",
   "execution_count": 98,
   "id": "74eb3313",
   "metadata": {},
   "outputs": [
    {
     "data": {
      "image/png": "[encoded data removed]",
      "text/plain": [
       "<Figure size 864x432 with 1 Axes>"
      ]
     },
     "metadata": {
      "needs_background": "light"
     },
     "output_type": "display_data"
    }
   ],
   "source": [
    "# Sample text for creating word frequencies\n",
    "text = df[df['label'] == 1]['transformed_text'].str.cat(sep=\" \")\n",
    "\n",
    "# Split the text into words and count their occurrences\n",
    "word_counts = Counter(text.split())\n",
    "\n",
    "# Get the top words and their counts (e.g., top 20 words)\n",
    "top_words = word_counts.most_common(20)\n",
    "\n",
    "# Extract words and counts for plotting\n",
    "words, counts = zip(*top_words)\n",
    "\n",
    "# Set the 'cool' color palette\n",
    "sns.set_palette('cool')\n",
    "\n",
    "\n",
    "# Plot the top words and their counts\n",
    "plt.figure(figsize=(12, 6))\n",
    "plt.bar(words, counts)\n",
    "plt.xticks(rotation=45, ha='right')\n",
    "plt.xlabel('Words')\n",
    "plt.ylabel('Counts')\n",
    "plt.title('Top 20 Words and Their Counts')\n",
    "plt.tight_layout()\n",
    "plt.show()\n"
   ]
  },
  {
   "cell_type": "code",
   "execution_count": 101,
   "id": "0ba40cbb",
   "metadata": {},
   "outputs": [
    {
     "data": {
      "image/png": "[encoded data removed]",
      "text/plain": [
       "<Figure size 864x432 with 1 Axes>"
      ]
     },
     "metadata": {
      "needs_background": "light"
     },
     "output_type": "display_data"
    }
   ],
   "source": [
    "# Sample text for creating word frequencies\n",
    "text = df[df['label'] == 0]['transformed_text'].str.cat(sep=\" \")\n",
    "\n",
    "# Split the text into words and count their occurrences\n",
    "word_counts = Counter(text.split())\n",
    "\n",
    "# Get the top words and their counts (e.g., top 20 words)\n",
    "top_words = word_counts.most_common(20)\n",
    "\n",
    "# Extract words and counts for plotting\n",
    "words, counts = zip(*top_words)\n",
    "\n",
    "# Set the 'cool' color palette\n",
    "sns.set_palette('pastel')\n",
    "\n",
    "\n",
    "# Plot the top words and their counts\n",
    "plt.figure(figsize=(12, 6))\n",
    "plt.bar(words, counts)\n",
    "plt.xticks(rotation=45, ha='right')\n",
    "plt.xlabel('Words')\n",
    "plt.ylabel('Counts')\n",
    "plt.title('Top 20 Words and Their Counts')\n",
    "plt.tight_layout()\n",
    "plt.show()\n"
   ]
  },
  {
   "cell_type": "code",
   "execution_count": 102,
   "id": "9b7c0bf6",
   "metadata": {},
   "outputs": [],
   "source": [
    "# spam_carpos = []\n",
    "# for sentence in df[df['label'] == 1]['transformed_text'].tolist():\n",
    "#     for word in sentence.split():\n",
    "#         spam_carpos.append(word)\n",
    "        \n",
    "# filter_df = pd.DataFrame(Counter(spam_carpos).most_common(30))\n",
    "# sns.barplot(data = filter_df, x = filter_df[0], y = filter_df[1], palette = 'bright')\n",
    "# plt.xticks(rotation = 90)\n",
    "# plt.show()\n",
    "# # same as above"
   ]
  }
 ],
 "metadata": {
  "kernelspec": {
   "display_name": "Python 3 (ipykernel)",
   "language": "python",
   "name": "python3"
  },
  "language_info": {
   "codemirror_mode": {
    "name": "ipython",
    "version": 3
   },
   "file_extension": ".py",
   "mimetype": "text/x-python",
   "name": "python",
   "nbconvert_exporter": "python",
   "pygments_lexer": "ipython3",
   "version": "3.9.7"
  }
 },
 "nbformat": 4,
 "nbformat_minor": 5
}

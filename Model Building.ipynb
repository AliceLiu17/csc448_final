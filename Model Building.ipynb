{
 "cells": [
  {
   "cell_type": "code",
   "execution_count": 4,
   "id": "95ff642f",
   "metadata": {},
   "outputs": [],
   "source": [
    "# Pandas and numpy for data wrangling\n",
    "import pandas as pd\n",
    "import numpy as np\n",
    "\n",
    "# Seaborn / matplotlib for visualization \n",
    "import seaborn as sns\n",
    "sns.set()\n",
    "import matplotlib.pyplot as plt\n",
    "%matplotlib inline\n",
    "\n",
    "# Import the trees from sklearn\n",
    "from sklearn import tree\n",
    "\n",
    "# Helper function to split our data\n",
    "from sklearn.model_selection import train_test_split\n",
    "\n",
    "from sklearn.linear_model import LogisticRegression\n",
    "from sklearn.svm import SVC\n",
    "from sklearn.naive_bayes import MultinomialNB\n",
    "from sklearn.tree import DecisionTreeClassifier\n",
    "from sklearn.ensemble import RandomForestClassifier\n",
    "from sklearn.ensemble import GradientBoostingClassifier\n",
    "\n",
    "from sklearn.metrics import accuracy_score, precision_score\n",
    "from sklearn.metrics import classification_report\n",
    "from sklearn.feature_extraction.text import CountVectorizer, TfidfVectorizer"
   ]
  },
  {
   "cell_type": "code",
   "execution_count": 5,
   "id": "e9bce590",
   "metadata": {},
   "outputs": [
    {
     "data": {
      "text/html": [
       "<div>\n",
       "<style scoped>\n",
       "    .dataframe tbody tr th:only-of-type {\n",
       "        vertical-align: middle;\n",
       "    }\n",
       "\n",
       "    .dataframe tbody tr th {\n",
       "        vertical-align: top;\n",
       "    }\n",
       "\n",
       "    .dataframe thead th {\n",
       "        text-align: right;\n",
       "    }\n",
       "</style>\n",
       "<table border=\"1\" class=\"dataframe\">\n",
       "  <thead>\n",
       "    <tr style=\"text-align: right;\">\n",
       "      <th></th>\n",
       "      <th>label</th>\n",
       "      <th>email</th>\n",
       "      <th>processed_email</th>\n",
       "    </tr>\n",
       "  </thead>\n",
       "  <tbody>\n",
       "    <tr>\n",
       "      <th>0</th>\n",
       "      <td>0</td>\n",
       "      <td>Go until jurong point, crazy.. Available only ...</td>\n",
       "      <td>['go', 'jurong', 'point', 'crazy', '..', 'avai...</td>\n",
       "    </tr>\n",
       "    <tr>\n",
       "      <th>1</th>\n",
       "      <td>1</td>\n",
       "      <td>Free entry in 2 a wkly comp to win FA Cup fina...</td>\n",
       "      <td>['free', 'entry', '2', 'wkly', 'comp', 'win', ...</td>\n",
       "    </tr>\n",
       "    <tr>\n",
       "      <th>2</th>\n",
       "      <td>0</td>\n",
       "      <td>U dun say so early hor... U c already then say...</td>\n",
       "      <td>['u', 'dun', 'say', 'early', 'hor', '...', 'u'...</td>\n",
       "    </tr>\n",
       "    <tr>\n",
       "      <th>3</th>\n",
       "      <td>0</td>\n",
       "      <td>Nah I don't think he goes to usf, he lives aro...</td>\n",
       "      <td>['nah', \"n't\", 'think', 'goes', 'usf', 'lives'...</td>\n",
       "    </tr>\n",
       "    <tr>\n",
       "      <th>4</th>\n",
       "      <td>1</td>\n",
       "      <td>FreeMsg Hey there darling it's been 3 week's n...</td>\n",
       "      <td>['freemsg', 'hey', 'darling', \"'s\", '3', 'week...</td>\n",
       "    </tr>\n",
       "  </tbody>\n",
       "</table>\n",
       "</div>"
      ],
      "text/plain": [
       "   label                                              email  \\\n",
       "0      0  Go until jurong point, crazy.. Available only ...   \n",
       "1      1  Free entry in 2 a wkly comp to win FA Cup fina...   \n",
       "2      0  U dun say so early hor... U c already then say...   \n",
       "3      0  Nah I don't think he goes to usf, he lives aro...   \n",
       "4      1  FreeMsg Hey there darling it's been 3 week's n...   \n",
       "\n",
       "                                     processed_email  \n",
       "0  ['go', 'jurong', 'point', 'crazy', '..', 'avai...  \n",
       "1  ['free', 'entry', '2', 'wkly', 'comp', 'win', ...  \n",
       "2  ['u', 'dun', 'say', 'early', 'hor', '...', 'u'...  \n",
       "3  ['nah', \"n't\", 'think', 'goes', 'usf', 'lives'...  \n",
       "4  ['freemsg', 'hey', 'darling', \"'s\", '3', 'week...  "
      ]
     },
     "execution_count": 5,
     "metadata": {},
     "output_type": "execute_result"
    }
   ],
   "source": [
    "data = \"https://raw.githubusercontent.com/AliceLiu17/csc448_final/main/data/preprocessed_dataset/preprocessed_english.csv\"\n",
    "\n",
    "df = pd.read_csv(data)\n",
    "df.head()"
   ]
  },
  {
   "cell_type": "code",
   "execution_count": 6,
   "id": "560c3e04",
   "metadata": {},
   "outputs": [],
   "source": [
    "cv = CountVectorizer()\n",
    "tfid = TfidfVectorizer(max_features = 3000)"
   ]
  },
  {
   "cell_type": "code",
   "execution_count": 19,
   "id": "15e569e7",
   "metadata": {},
   "outputs": [],
   "source": [
    "X = tfid.fit_transform(df['processed_email'])\n",
    "y = df['label'].values"
   ]
  },
  {
   "cell_type": "code",
   "execution_count": 25,
   "id": "243f1b5d",
   "metadata": {},
   "outputs": [],
   "source": [
    "X_train, X_test , y_train, y_test = train_test_split(X,y,test_size = 0.20, random_state = 45)"
   ]
  },
  {
   "cell_type": "code",
   "execution_count": 26,
   "id": "8c500fa0",
   "metadata": {},
   "outputs": [],
   "source": [
    "svc = SVC(kernel='linear')\n",
    "mnb = MultinomialNB()\n",
    "dtc = DecisionTreeClassifier(max_depth = 5)\n",
    "lrc = LogisticRegression(solver = 'liblinear', penalty = 'l1')\n",
    "rfc = RandomForestClassifier(n_estimators = 50, random_state = 2 )\n",
    "gbdt = GradientBoostingClassifier(n_estimators = 50, random_state = 2)    "
   ]
  },
  {
   "cell_type": "code",
   "execution_count": 27,
   "id": "6329deb9",
   "metadata": {},
   "outputs": [],
   "source": [
    "models = {\n",
    "    'SVC': svc,\n",
    "    'NB': mnb,\n",
    "    'DT': dtc,\n",
    "    'LR': lrc,\n",
    "    'RF': rfc,\n",
    "    'GBDT': gbdt   \n",
    "}"
   ]
  },
  {
   "cell_type": "code",
   "execution_count": 28,
   "id": "11fd515e",
   "metadata": {},
   "outputs": [],
   "source": [
    "def train_classifier(clfs, X_train, y_train, X_test, y_test):\n",
    "    models.fit(X_train,y_train)\n",
    "    y_pred = models.predict(X_test)\n",
    "    accuracy = accuracy_score(y_test, y_pred)\n",
    "    precision = precision_score(y_test, y_pred)\n",
    "    return accuracy , precision"
   ]
  },
  {
   "cell_type": "code",
   "execution_count": 29,
   "id": "7aed7645",
   "metadata": {},
   "outputs": [
    {
     "name": "stdout",
     "output_type": "stream",
     "text": [
      "\n",
      "For:  SVC\n",
      "Accuracy:  0.9774086378737542\n",
      "Precision:  0.9595375722543352\n",
      "\n",
      "For:  NB\n",
      "Accuracy:  0.9727574750830564\n",
      "Precision:  0.9810126582278481\n",
      "\n",
      "For:  DT\n",
      "Accuracy:  0.9348837209302325\n",
      "Precision:  0.8518518518518519\n",
      "\n",
      "For:  LR\n",
      "Accuracy:  0.9674418604651163\n",
      "Precision:  0.9556962025316456\n",
      "\n",
      "For:  RF\n",
      "Accuracy:  0.9774086378737542\n",
      "Precision:  0.9649122807017544\n",
      "\n",
      "For:  GBDT\n",
      "Accuracy:  0.9554817275747508\n",
      "Precision:  0.9565217391304348\n"
     ]
    }
   ],
   "source": [
    "accuracy_scores = []\n",
    "precision_scores = []\n",
    "for name, models in models.items():\n",
    "    current_accuracy, current_precision = train_classifier(models, X_train, y_train, X_test, y_test)\n",
    "    print()\n",
    "    print(\"For: \", name)\n",
    "    print(\"Accuracy: \", current_accuracy)\n",
    "    print(\"Precision: \", current_precision)\n",
    "    \n",
    "    accuracy_scores.append(current_accuracy)\n",
    "    precision_scores.append(current_precision)"
   ]
  }
 ],
 "metadata": {
  "kernelspec": {
   "display_name": "Python 3 (ipykernel)",
   "language": "python",
   "name": "python3"
  },
  "language_info": {
   "codemirror_mode": {
    "name": "ipython",
    "version": 3
   },
   "file_extension": ".py",
   "mimetype": "text/x-python",
   "name": "python",
   "nbconvert_exporter": "python",
   "pygments_lexer": "ipython3",
   "version": "3.9.7"
  }
 },
 "nbformat": 4,
 "nbformat_minor": 5
}

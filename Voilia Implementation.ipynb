{
 "cells": [
  {
   "cell_type": "code",
   "execution_count": 1,
   "id": "95ff642f",
   "metadata": {},
   "outputs": [],
   "source": [
    "# Pandas and numpy for data wrangling\n",
    "import pandas as pd\n",
    "import numpy as np\n",
    "\n",
    "# Seaborn / matplotlib for visualization \n",
    "import seaborn as sns\n",
    "sns.set()\n",
    "import matplotlib.pyplot as plt\n",
    "%matplotlib inline\n",
    "\n",
    "# Import the trees from sklearn\n",
    "from sklearn import tree\n",
    "\n",
    "# Helper function to split our data\n",
    "from sklearn.model_selection import train_test_split\n",
    "\n",
    "from sklearn.linear_model import LogisticRegression\n",
    "from sklearn.svm import SVC\n",
    "from sklearn.naive_bayes import MultinomialNB\n",
    "from sklearn.tree import DecisionTreeClassifier\n",
    "from sklearn.ensemble import RandomForestClassifier\n",
    "from sklearn.ensemble import GradientBoostingClassifier\n",
    "\n",
    "from sklearn.metrics import accuracy_score, precision_score\n",
    "from sklearn.metrics import classification_report\n",
    "from sklearn.feature_extraction.text import CountVectorizer, TfidfVectorizer"
   ]
  },
  {
   "cell_type": "code",
   "execution_count": 2,
   "id": "7e7806d8",
   "metadata": {},
   "outputs": [
    {
     "name": "stderr",
     "output_type": "stream",
     "text": [
      "[nltk_data] Downloading package punkt to /Users/aliceliu/nltk_data...\n",
      "[nltk_data]   Package punkt is already up-to-date!\n",
      "[nltk_data] Downloading package stopwords to\n",
      "[nltk_data]     /Users/aliceliu/nltk_data...\n",
      "[nltk_data]   Package stopwords is already up-to-date!\n"
     ]
    }
   ],
   "source": [
    "import nltk\n",
    "from nltk.corpus import stopwords\n",
    "from nltk.tokenize import word_tokenize\n",
    "from nltk.stem import PorterStemmer\n",
    "import string\n",
    "\n",
    "nltk.download('punkt')\n",
    "nltk.download('stopwords')\n",
    "\n",
    "def preprocess_input(text):\n",
    "    # Tokenize the text\n",
    "    tokens = word_tokenize(text.lower())  # Convert to lowercase\n",
    "    \n",
    "    # Remove punctuation\n",
    "    tokens = [word for word in tokens if word.isalpha()]  # Remove non-alphabetic tokens\n",
    "    \n",
    "    # Remove stopwords\n",
    "    stop_words = set(stopwords.words('english'))\n",
    "    tokens = [word for word in tokens if word not in stop_words]\n",
    "    \n",
    "    # Stemming\n",
    "    stemmer = PorterStemmer()\n",
    "    tokens = [stemmer.stem(word) for word in tokens]\n",
    "    \n",
    "    # Join tokens back into a string\n",
    "    processed_text = ' '.join(tokens)\n",
    "    \n",
    "    return processed_text\n"
   ]
  },
  {
   "cell_type": "code",
   "execution_count": 3,
   "id": "e9bce590",
   "metadata": {},
   "outputs": [
    {
     "data": {
      "text/html": [
       "<div>\n",
       "<style scoped>\n",
       "    .dataframe tbody tr th:only-of-type {\n",
       "        vertical-align: middle;\n",
       "    }\n",
       "\n",
       "    .dataframe tbody tr th {\n",
       "        vertical-align: top;\n",
       "    }\n",
       "\n",
       "    .dataframe thead th {\n",
       "        text-align: right;\n",
       "    }\n",
       "</style>\n",
       "<table border=\"1\" class=\"dataframe\">\n",
       "  <thead>\n",
       "    <tr style=\"text-align: right;\">\n",
       "      <th></th>\n",
       "      <th>label</th>\n",
       "      <th>email</th>\n",
       "      <th>processed_email</th>\n",
       "    </tr>\n",
       "  </thead>\n",
       "  <tbody>\n",
       "    <tr>\n",
       "      <th>0</th>\n",
       "      <td>0</td>\n",
       "      <td>Go until jurong point, crazy.. Available only ...</td>\n",
       "      <td>['go', 'jurong', 'point', 'crazy', '..', 'avai...</td>\n",
       "    </tr>\n",
       "    <tr>\n",
       "      <th>1</th>\n",
       "      <td>1</td>\n",
       "      <td>Free entry in 2 a wkly comp to win FA Cup fina...</td>\n",
       "      <td>['free', 'entry', '2', 'wkly', 'comp', 'win', ...</td>\n",
       "    </tr>\n",
       "    <tr>\n",
       "      <th>2</th>\n",
       "      <td>0</td>\n",
       "      <td>U dun say so early hor... U c already then say...</td>\n",
       "      <td>['u', 'dun', 'say', 'early', 'hor', '...', 'u'...</td>\n",
       "    </tr>\n",
       "    <tr>\n",
       "      <th>3</th>\n",
       "      <td>0</td>\n",
       "      <td>Nah I don't think he goes to usf, he lives aro...</td>\n",
       "      <td>['nah', \"n't\", 'think', 'goes', 'usf', 'lives'...</td>\n",
       "    </tr>\n",
       "    <tr>\n",
       "      <th>4</th>\n",
       "      <td>1</td>\n",
       "      <td>FreeMsg Hey there darling it's been 3 week's n...</td>\n",
       "      <td>['freemsg', 'hey', 'darling', \"'s\", '3', 'week...</td>\n",
       "    </tr>\n",
       "  </tbody>\n",
       "</table>\n",
       "</div>"
      ],
      "text/plain": [
       "   label                                              email  \\\n",
       "0      0  Go until jurong point, crazy.. Available only ...   \n",
       "1      1  Free entry in 2 a wkly comp to win FA Cup fina...   \n",
       "2      0  U dun say so early hor... U c already then say...   \n",
       "3      0  Nah I don't think he goes to usf, he lives aro...   \n",
       "4      1  FreeMsg Hey there darling it's been 3 week's n...   \n",
       "\n",
       "                                     processed_email  \n",
       "0  ['go', 'jurong', 'point', 'crazy', '..', 'avai...  \n",
       "1  ['free', 'entry', '2', 'wkly', 'comp', 'win', ...  \n",
       "2  ['u', 'dun', 'say', 'early', 'hor', '...', 'u'...  \n",
       "3  ['nah', \"n't\", 'think', 'goes', 'usf', 'lives'...  \n",
       "4  ['freemsg', 'hey', 'darling', \"'s\", '3', 'week...  "
      ]
     },
     "execution_count": 3,
     "metadata": {},
     "output_type": "execute_result"
    }
   ],
   "source": [
    "data = \"https://raw.githubusercontent.com/AliceLiu17/csc448_final/main/data/preprocessed_dataset/preprocessed_english.csv\"\n",
    "\n",
    "df = pd.read_csv(data)\n",
    "df.head()"
   ]
  },
  {
   "cell_type": "code",
   "execution_count": 8,
   "id": "8c500fa0",
   "metadata": {},
   "outputs": [],
   "source": [
    "cv = CountVectorizer()\n",
    "tfidf_vectorizer = TfidfVectorizer(max_features=3000)\n",
    "X_tfidf = tfidf_vectorizer.fit_transform(df['processed_email'])\n",
    "y = df['label'].values\n",
    "\n",
    "X_train, X_test, y_train, y_test = train_test_split(X_tfidf, y, test_size=0.20, random_state=45)\n",
    "\n",
    "rfc = RandomForestClassifier(n_estimators = 50, random_state = 2 )  \n",
    "\n",
    "rfc.fit(X_train,y_train)\n",
    "y_pred = rfc.predict(X_test)\n",
    "accuracy = accuracy_score(y_test, y_pred)\n",
    "precision = precision_score(y_test, y_pred)"
   ]
  },
  {
   "cell_type": "code",
   "execution_count": 11,
   "id": "2b2cfd9c",
   "metadata": {},
   "outputs": [
    {
     "data": {
      "application/vnd.jupyter.widget-view+json": {
       "model_id": "df347654576f441db189159431af38cf",
       "version_major": 2,
       "version_minor": 0
      },
      "text/plain": [
       "Text(value='', description='Sample Text:', placeholder='Type your sample text here')"
      ]
     },
     "metadata": {},
     "output_type": "display_data"
    },
    {
     "data": {
      "application/vnd.jupyter.widget-view+json": {
       "model_id": "98c5a27ee7484b2da5cb2e9c7ac48242",
       "version_major": 2,
       "version_minor": 0
      },
      "text/plain": [
       "Button(description='Predict', style=ButtonStyle())"
      ]
     },
     "metadata": {},
     "output_type": "display_data"
    },
    {
     "name": "stdout",
     "output_type": "stream",
     "text": [
      "This is NOT a spam email.\n",
      "This is a SPAM email.\n",
      "This is NOT a spam email.\n",
      "This is NOT a spam email.\n",
      "This is NOT a spam email.\n",
      "This is NOT a spam email.\n",
      "This is NOT a spam email.\n",
      "This is a SPAM email.\n"
     ]
    }
   ],
   "source": [
    "import ipywidgets as widgets\n",
    "from IPython.display import display\n",
    "\n",
    "# Function to predict if input text is spam or not\n",
    "def predict_spam(sample_text):\n",
    "    # Assume preprocess_input() is your function to preprocess the input text\n",
    "    preprocessed_text = preprocess_input(sample_text)\n",
    "    \n",
    "    preprocessed_vectorized = tfidf_vectorizer.transform([preprocessed_text])\n",
    "\n",
    "    # Assume predict_spam() is your function to predict using your model\n",
    "    prediction = rfc.predict(preprocessed_vectorized)\n",
    "    \n",
    "    if prediction[0] == 1:\n",
    "        return \"This is a SPAM email.\"\n",
    "    else:\n",
    "        return \"This is NOT a spam email.\"\n",
    "\n",
    "# Creating text input widget for user input\n",
    "text_input = widgets.Text(\n",
    "    value='',\n",
    "    placeholder='Type your sample text here',\n",
    "    description='Sample Text:',\n",
    "    disabled=False\n",
    ")\n",
    "\n",
    "# Function to handle user input and display prediction\n",
    "def on_button_click(b):\n",
    "    sample_text = text_input.value\n",
    "    prediction = predict_spam(sample_text)\n",
    "    print(prediction)\n",
    "\n",
    "# Creating a button for prediction\n",
    "button = widgets.Button(description=\"Predict\")\n",
    "button.on_click(on_button_click)\n",
    "\n",
    "# Displaying the widgets\n",
    "display(text_input, button)\n"
   ]
  },
  {
   "cell_type": "code",
   "execution_count": null,
   "id": "2b8ff1bb",
   "metadata": {},
   "outputs": [],
   "source": []
  }
 ],
 "metadata": {
  "kernelspec": {
   "display_name": "Python 3 (ipykernel)",
   "language": "python",
   "name": "python3"
  },
  "language_info": {
   "codemirror_mode": {
    "name": "ipython",
    "version": 3
   },
   "file_extension": ".py",
   "mimetype": "text/x-python",
   "name": "python",
   "nbconvert_exporter": "python",
   "pygments_lexer": "ipython3",
   "version": "3.9.13"
  }
 },
 "nbformat": 4,
 "nbformat_minor": 5
}

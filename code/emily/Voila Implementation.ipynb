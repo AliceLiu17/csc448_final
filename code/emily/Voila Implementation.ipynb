{
 "cells": [
  {
   "cell_type": "code",
   "execution_count": 1,
   "id": "95ff642f",
   "metadata": {},
   "outputs": [],
   "source": [
    "# this notebook was taken from Lily's Notebook: Voila Implementation.ipynb\n",
    "# Pandas and numpy for data wrangling\n",
    "import pandas as pd\n",
    "import numpy as np\n",
    "\n",
    "# Seaborn / matplotlib for visualization \n",
    "import seaborn as sns\n",
    "sns.set()\n",
    "import matplotlib.pyplot as plt\n",
    "%matplotlib inline\n",
    "\n",
    "# Import the trees from sklearn\n",
    "from sklearn import tree\n",
    "\n",
    "# Helper function to split our data\n",
    "from sklearn.model_selection import train_test_split\n",
    "\n",
    "from sklearn.linear_model import LogisticRegression\n",
    "from sklearn.svm import SVC\n",
    "from sklearn.naive_bayes import MultinomialNB\n",
    "from sklearn.tree import DecisionTreeClassifier\n",
    "from sklearn.ensemble import RandomForestClassifier\n",
    "from sklearn.ensemble import GradientBoostingClassifier\n",
    "\n",
    "from sklearn.metrics import accuracy_score, precision_score\n",
    "from sklearn.metrics import classification_report\n",
    "from sklearn.feature_extraction.text import CountVectorizer, TfidfVectorizer"
   ]
  },
  {
   "cell_type": "code",
   "execution_count": 2,
   "id": "7e7806d8",
   "metadata": {},
   "outputs": [
    {
     "name": "stderr",
     "output_type": "stream",
     "text": [
      "[nltk_data] Downloading package punkt to /Users/emilykim/nltk_data...\n",
      "[nltk_data]   Package punkt is already up-to-date!\n",
      "[nltk_data] Downloading package stopwords to\n",
      "[nltk_data]     /Users/emilykim/nltk_data...\n",
      "[nltk_data]   Package stopwords is already up-to-date!\n"
     ]
    }
   ],
   "source": [
    "# taken from Alice's Notebook: alice/EDA_preprocessing_Alice.ipynb\n",
    "import nltk\n",
    "from nltk.corpus import stopwords\n",
    "from nltk.tokenize import word_tokenize\n",
    "from nltk.stem import PorterStemmer\n",
    "import string\n",
    "\n",
    "# downloading necessary libraries from nltk on here (Emily) -> so that these libraries+functions can run on my end\n",
    "import ssl\n",
    "ssl._create_default_https_context = ssl._create_unverified_context\n",
    "nltk.download('punkt')\n",
    "nltk.download('stopwords')\n",
    "\n",
    "# previously from our preprocessing data function \n",
    "def preprocess_input(text):\n",
    "    # Tokenize the text\n",
    "    tokens = word_tokenize(text.lower())  # Convert to lowercase\n",
    "    \n",
    "    # Remove punctuation\n",
    "    tokens = [word for word in tokens if word.isalpha()]  # Remove non-alphabetic tokens\n",
    "    \n",
    "    # Remove stopwords\n",
    "    stop_words = set(stopwords.words('english'))\n",
    "    tokens = [word for word in tokens if word not in stop_words]\n",
    "    \n",
    "    # Stemming\n",
    "    stemmer = PorterStemmer()\n",
    "    tokens = [stemmer.stem(word) for word in tokens]\n",
    "    \n",
    "    # Join tokens back into a string\n",
    "    processed_text = ' '.join(tokens)\n",
    "    \n",
    "    return processed_text\n"
   ]
  },
  {
   "cell_type": "code",
   "execution_count": 3,
   "id": "e9bce590",
   "metadata": {},
   "outputs": [],
   "source": [
    "# read the new preprocessed dataset\n",
    "data = \"https://raw.githubusercontent.com/AliceLiu17/csc448_final/main/data/preprocessed_dataset/preprocessed_english.csv\"\n",
    "\n",
    "df = pd.read_csv(data)\n",
    "#df.head()"
   ]
  },
  {
   "cell_type": "code",
   "execution_count": 4,
   "id": "8c500fa0",
   "metadata": {},
   "outputs": [],
   "source": [
    "# vectorizing text data and splitting into train/test sets\n",
    "cv = CountVectorizer()\n",
    "tfidf_vectorizer = TfidfVectorizer(max_features=3000)\n",
    "X_tfidf = tfidf_vectorizer.fit_transform(df['processed_email'])\n",
    "y = df['label'].values\n",
    "\n",
    "X_train, X_test, y_train, y_test = train_test_split(X_tfidf, y, test_size=0.20, random_state=45)\n",
    "\n",
    "# training a RandomForestClassifier to predict labels.\n",
    "rfc = RandomForestClassifier(n_estimators = 50, random_state = 2 )  \n",
    "\n",
    "rfc.fit(X_train,y_train)\n",
    "y_pred = rfc.predict(X_test)\n",
    "accuracy = accuracy_score(y_test, y_pred)\n",
    "precision = precision_score(y_test, y_pred)"
   ]
  },
  {
   "cell_type": "code",
   "execution_count": 5,
   "id": "2b2cfd9c",
   "metadata": {},
   "outputs": [
    {
     "data": {
      "application/vnd.jupyter.widget-view+json": {
       "model_id": "67fcec475fd64be496f26a08d198252f",
       "version_major": 2,
       "version_minor": 0
      },
      "text/plain": [
       "Text(value='', description='Sample Text:', placeholder='Type your sample text here')"
      ]
     },
     "metadata": {},
     "output_type": "display_data"
    },
    {
     "data": {
      "application/vnd.jupyter.widget-view+json": {
       "model_id": "29e7df8991cd414487b04b7623603f72",
       "version_major": 2,
       "version_minor": 0
      },
      "text/plain": [
       "Button(description='Predict', style=ButtonStyle())"
      ]
     },
     "metadata": {},
     "output_type": "display_data"
    },
    {
     "data": {
      "application/vnd.jupyter.widget-view+json": {
       "model_id": "2268fb30d7f54656a5c002c96fb790e1",
       "version_major": 2,
       "version_minor": 0
      },
      "text/plain": [
       "Output()"
      ]
     },
     "metadata": {},
     "output_type": "display_data"
    }
   ],
   "source": [
    "import ipywidgets as widgets\n",
    "from IPython.display import display\n",
    "\n",
    "# Function to predict if input text is spam or not\n",
    "def predict_spam(sample_text):\n",
    "    # Assume preprocess_input() is your function to preprocess the input text\n",
    "    preprocessed_text = preprocess_input(sample_text)\n",
    "    \n",
    "    preprocessed_vectorized = tfidf_vectorizer.transform([preprocessed_text])\n",
    "\n",
    "    # Assume predict_spam() is your function to predict using your model\n",
    "    prediction = rfc.predict(preprocessed_vectorized)\n",
    "    \n",
    "    if prediction[0] == 1:\n",
    "        return \"This is a SPAM email.\"\n",
    "    else:\n",
    "        return \"This is NOT a spam email.\"\n",
    "\n",
    "# Creating text input widget for user input\n",
    "text_input = widgets.Text(\n",
    "    value='',\n",
    "    placeholder='Type your sample text here',\n",
    "    description='Sample Text:',\n",
    "    disabled=False\n",
    ")\n",
    "\n",
    "# Function to handle user input and display prediction\n",
    "def on_button_click(b):\n",
    "    sample_text = text_input.value\n",
    "    prediction = predict_spam(sample_text)\n",
    "    # EMILY included: to fix the button so that it can show the output of whether it is or not spam\n",
    "    with output:\n",
    "        print(prediction)\n",
    "\n",
    "# Creating a button for prediction\n",
    "button = widgets.Button(description=\"Predict\")\n",
    "button.on_click(on_button_click)\n",
    "\n",
    "# Displaying the widgets\n",
    "output = widgets.Output() # EMILY included\n",
    "display(text_input, button, output) # EMILY edited"
   ]
  },
  {
   "cell_type": "code",
   "execution_count": null,
   "id": "bc3f2376",
   "metadata": {},
   "outputs": [],
   "source": []
  }
 ],
 "metadata": {
  "kernelspec": {
   "display_name": "Python 3 (ipykernel)",
   "language": "python",
   "name": "python3"
  },
  "language_info": {
   "codemirror_mode": {
    "name": "ipython",
    "version": 3
   },
   "file_extension": ".py",
   "mimetype": "text/x-python",
   "name": "python",
   "nbconvert_exporter": "python",
   "pygments_lexer": "ipython3",
   "version": "3.10.0"
  }
 },
 "nbformat": 4,
 "nbformat_minor": 5
}

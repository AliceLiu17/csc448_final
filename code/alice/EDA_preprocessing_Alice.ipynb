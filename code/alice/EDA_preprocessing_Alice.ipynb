{
 "cells": [
  {
   "cell_type": "code",
   "execution_count": 1,
   "id": "aeb1b9f8",
   "metadata": {},
   "outputs": [
    {
     "name": "stderr",
     "output_type": "stream",
     "text": [
      "[nltk_data] Downloading package punkt to /Users/aliceliu/nltk_data...\n",
      "[nltk_data]   Package punkt is already up-to-date!\n",
      "[nltk_data] Downloading package stopwords to\n",
      "[nltk_data]     /Users/aliceliu/nltk_data...\n",
      "[nltk_data]   Package stopwords is already up-to-date!\n"
     ]
    },
    {
     "data": {
      "text/plain": [
       "True"
      ]
     },
     "execution_count": 1,
     "metadata": {},
     "output_type": "execute_result"
    }
   ],
   "source": [
    "import pandas as pd\n",
    "import numpy as np\n",
    "import matplotlib.pyplot as plt\n",
    "\n",
    "from collections import Counter\n",
    "from nltk.stem import PorterStemmer\n",
    "from nltk.stem import WordNetLemmatizer\n",
    "from nltk.corpus import stopwords\n",
    "import re\n",
    "\n",
    "from nltk import ngrams\n",
    "from nltk.tokenize import word_tokenize\n",
    "import nltk\n",
    "nltk.download('punkt')\n",
    "\n",
    "import nltk\n",
    "nltk.download('stopwords')"
   ]
  },
  {
   "cell_type": "code",
   "execution_count": 2,
   "id": "317d21d3",
   "metadata": {},
   "outputs": [
    {
     "data": {
      "text/html": [
       "<div>\n",
       "<style scoped>\n",
       "    .dataframe tbody tr th:only-of-type {\n",
       "        vertical-align: middle;\n",
       "    }\n",
       "\n",
       "    .dataframe tbody tr th {\n",
       "        vertical-align: top;\n",
       "    }\n",
       "\n",
       "    .dataframe thead th {\n",
       "        text-align: right;\n",
       "    }\n",
       "</style>\n",
       "<table border=\"1\" class=\"dataframe\">\n",
       "  <thead>\n",
       "    <tr style=\"text-align: right;\">\n",
       "      <th></th>\n",
       "      <th>label</th>\n",
       "      <th>email</th>\n",
       "    </tr>\n",
       "  </thead>\n",
       "  <tbody>\n",
       "    <tr>\n",
       "      <th>0</th>\n",
       "      <td>0</td>\n",
       "      <td>Go until jurong point, crazy.. Available only ...</td>\n",
       "    </tr>\n",
       "    <tr>\n",
       "      <th>1</th>\n",
       "      <td>0</td>\n",
       "      <td>Ok lar... Joking wif u oni...</td>\n",
       "    </tr>\n",
       "    <tr>\n",
       "      <th>2</th>\n",
       "      <td>1</td>\n",
       "      <td>Free entry in 2 a wkly comp to win FA Cup fina...</td>\n",
       "    </tr>\n",
       "    <tr>\n",
       "      <th>3</th>\n",
       "      <td>0</td>\n",
       "      <td>U dun say so early hor... U c already then say...</td>\n",
       "    </tr>\n",
       "    <tr>\n",
       "      <th>4</th>\n",
       "      <td>0</td>\n",
       "      <td>Nah I don't think he goes to usf, he lives aro...</td>\n",
       "    </tr>\n",
       "  </tbody>\n",
       "</table>\n",
       "</div>"
      ],
      "text/plain": [
       "   label                                              email\n",
       "0      0  Go until jurong point, crazy.. Available only ...\n",
       "1      0                      Ok lar... Joking wif u oni...\n",
       "2      1  Free entry in 2 a wkly comp to win FA Cup fina...\n",
       "3      0  U dun say so early hor... U c already then say...\n",
       "4      0  Nah I don't think he goes to usf, he lives aro..."
      ]
     },
     "execution_count": 2,
     "metadata": {},
     "output_type": "execute_result"
    }
   ],
   "source": [
    "url = \"https://raw.githubusercontent.com/AliceLiu17/csc448_final/main/data/combined_data_clean.csv\"\n",
    "df = pd.read_csv(url)\n",
    "\n",
    "df.head()"
   ]
  },
  {
   "cell_type": "markdown",
   "id": "14e527e1",
   "metadata": {},
   "source": [
    "### Understanding the data"
   ]
  },
  {
   "cell_type": "code",
   "execution_count": 3,
   "id": "7284cdde",
   "metadata": {},
   "outputs": [
    {
     "data": {
      "text/plain": [
       "(8029, 2)"
      ]
     },
     "execution_count": 3,
     "metadata": {},
     "output_type": "execute_result"
    }
   ],
   "source": [
    "df.shape"
   ]
  },
  {
   "cell_type": "code",
   "execution_count": 4,
   "id": "d8681d7a",
   "metadata": {},
   "outputs": [
    {
     "data": {
      "text/plain": [
       "array(['Go until jurong point, crazy.. Available only in bugis n great world la e buffet... Cine there got amore wat...',\n",
       "       'Ok lar... Joking wif u oni...',\n",
       "       \"Free entry in 2 a wkly comp to win FA Cup final tkts 21st May 2005. Text FA to 87121 to receive entry question(std txt rate)T&C's apply 08452810075over18's\",\n",
       "       ...,\n",
       "       ' thank you for shopping with us gifts for all occasions free gift with NUMBER NUMBER purchase for a limited time only receive this NUMBER plush santa bear free with your purchase of NUMBER NUMBER or more when your order totals NUMBER NUMBER or more order must be NUMBER NUMBER or more before shipping and handling this santa bear is added to your cart for free while supplies last mary s store would like to thank you for being a valued customer as our way of saying thanks to you the customer we are offering a NUMBER discount on all purchases made during the month of november just enter the word thanks in the discount code box during checkout to receive your automatic NUMBER discount hyperlink click here hyperlink to enter hyperlink mary s store if you do not wish to receive further discounts please hyperlink click here and type remove in the subject line ',\n",
       "       ' the famous ebay marketing e course learn to sell with the complete ebay auction marketing e course here s your chance to join the online selling revolution and earn a full time income our ebay marketing e course will show you how to create huge profits selling on ebay do you sell on ebay if so you could be making up to NUMBER NUMBER per month this is no hype and no scam receiving over NUMBER NUMBER billion page views per month ebay is the ultimate venue for selling virtually anything and making huge profits with almost no effort but you have to know what to sell and how to sell that s where i come in as a leading expert in internet marketing and the owner of several profitable auction based businesses the manual that i have written provides easy to understand and detailed instructions for maximizing your profits with selling strategies that are proven winners if you ve read any other books on ebay you know that all of them are designed for the computer idiot and the auction novice they tell you how to register how to list an item how to avoid fraud etc this is not the information you need to make millions on ebay you need to learn effective selling strategies not read a photocopy of ebay help files my manual assumes that you already know your way around ebay you don t need any specialized computer knowledge but you should be familiar with buying and selling on ebay auctions i m not going to waste your time teaching you how to register i m going to pass on the secret selling techniques that i use each and every day to bring in hundreds of thousands of dollars selling my products on internet auctions the manual comes as a complete course with the following lessons make a fortune on ebay make a fortune on ebay is filled with page after page of vital ebay marketing information this valuable e book is terrific for the ebay user to get the right ebay information and have an instant edge over other more experienced ebay sellers advanced selling on ebay advanced selling on ebay has more vital information to make their auction a success this e book has many topics to ensure that they get the maximum potential from their auctions advanced selling on ebay goes into more detailed information than it s sister e book make a fortune on ebay NUMBER ebay forms NUMBER ebay forms is a must these forms will help them track analyze and record their auctions it contains NUMBER forms with full instructions this e book also contains the forms in printer friendly version so they can print them for immediate use wholesale sources wholesale sources is the final e book in the ebay marketing e course it contains wholesale distributors from the united states mexico hong kong taiwan asia and the philippines armed with this e book your customers will have over NUMBER NUMBER NUMBER wholesale products at their finger tips this manual is designed for individuals looking to form an online business for extra income or as a full time job making hundreds of thousands of dollars on ebay contained in the manual are winning strategies for selling on ebay auctions the manual is not designed for ebay novices and does not teach the basics such as registering putting an item online buying an item etc this manual is designed to make ebay users into successful and wealthy entrepreneurs not only will you be able to make thousands with the information in these e books you will also receive full resellers rights this is not an affiliate program where you get NUMBER or NUMBER you keep all the money generated from your e course sales you can sell this e course as many times as you want for whatever price you choose there is no limit on how much you can make from this incredible product sell these e books individually or as a complete e course give make a fortune on ebay for free and use advanced selling on ebay NUMBER ebay forms and wholesale sources as a sell up all NUMBER e books for only NUMBER NUMBER hyperlink click here to order your e course today please allow up to NUMBER hours to process your order NUMBER NUMBER hours during business hours thank you for your time and i hope to hear from you soon ',\n",
       "       ' hello this is chinese traditional 子 件 NUMBER世 o最有效的宣 鞣绞剑 您想 地NUMBER f人同一 r刻知道您的 v告 幔磕 想方便快捷的宣 髂 的企 i 幔 您想在商 i 中步步 紫 c 幔 您想一次 碛 在商 i客 幔 越 碓蕉嗟恼 查表明 w路直 n 成 未 i n方式的主流 而e mail ⑹蔷w上 i n最常用也是最 用的工具 其特 c v r效高 r格低 emarketer估 美 有NUMBER 的中等 模公司 常 用 子 件 m行 i n活 印 部分 v告媒 w平均回 率比 average response rate ranges NUMBER NUMBER NUMBER 普通横幅广告 banner ads NUMBER NUMBER 普通信件 direct mail NUMBER NUMBER 子 件 email 一 件出售 i全球 件地址 每NUMBER f NUMBERhk i全部NUMBER f NUMBERhk i香港 件地址 每NUMBER f NUMBERhk i香港全部NUMBER f NUMBERhk hyperlink free download i _ 赤 件地址 每NUMBER f NUMBERhk i _ 橙 部NUMBER f NUMBERhk hyperlink free download 件 l送 v告 件代理 l送 每NUMBER f NUMBERhk NUMBER f起 l 蚀_率NUMBER 以上 包周群 l 一周NUMBER f NUMBERhk 一周NUMBER f NUMBERhk 保 c w站日 l 量提升NUMBER以上 包月群 l 一月NUMBER f NUMBERhk 保 c w站日 l 量提升NUMBER以上 件 w NUMBER n套群 l 搜索 w路 l 衍 w NUMBERhk 你自己 碛幸惶淄晟频碾 子 件群 l 搜索 w路 l 严到y 有意者请来信联系 hyperlink yhzxNUMBER URL 二 搜索引擎 缘顷 超值服 眨 特惠 rNUMBER hk y河之星 湍 登 全球NUMBER 英文搜索引擎 mNUMBER 中文搜索引擎 你的 w站享 u全球 e mail地址在各地 的分 盗 香港 NUMBER hyperlink free download the sample _ 场 NUMBER hyperlink free download the sample 全球 NUMBER f y河之星 碛 韧馍 有效的email位址 y料 欤 可以根 客 舻男枰 在指定的地方 域 行 i e等 傩酝斗烹 子 件 v告 如 你想 某地NUMBER f人一天之 都知道你的 a品 y 那麽 v告 件投放就是你最好的解 q方案 它的 r格是所有 髅 r格中最低 但又是最有效的 c遇每 r每刻都等待著你 也 s你正是用了 拥 髅菏侄危 而打垮了所有的 κ帧ｚs快行 影桑 你的企 i 公司立即掌握商 i 髅降拿 v告e mail 是普通 麂n i所不能比 m的 m及付款方式 本公司 氖戮w路 v告多年 宣 髁χ任痪又 第四大 w路 v告商之一 我 有 ｉt的技 g人 t和高速 i的服 障到y 氖麓隧 工作 必 您的企 i提供最迅捷 最有效 最 m意的服 铡 需求客 粽 c 暨 y m 箱 hyperlink yhzxNUMBER URL 硇耪 注明您需要的服 张c m方式 我 快回 湍 港 澳 _地 付款方式 任何 家均可到 地 y行 r NUMBER NUMBER天到 ぃ 需到 地 y行 k理 r english benificiary customer wangjingjing a c bank bank of china mianyang branch a c no NUMBER NUMBER NUMBER NUMBER benificiary s tel no NUMBER NUMBER 中文 φ眨 收 款 人 王晶晶 收款 y行 中 y行 d 分行 NUMBER NUMBER NUMBER NUMBER 收款人 NUMBER NUMBER NUMBER NUMBER天到 ぃ 款到後我 ⒘⒓ 您提供最 m意服 铡 g迎 硇 黼 j m NUMBER NUMBER NUMBER y河之星 w路 y 有限公司 公司地址 中 大 d email hyperlink yhzxNUMBER URL j NUMBER NUMBER NUMBER 公司服 NUMBER福壕w路推 v w站建 o w路 名 w 寄存 功能 得 q空 g w l展等 r x低廉 服 g迎 硇 黼 m '],\n",
       "      dtype=object)"
      ]
     },
     "execution_count": 4,
     "metadata": {},
     "output_type": "execute_result"
    }
   ],
   "source": [
    "df[\"email\"].unique()"
   ]
  },
  {
   "cell_type": "code",
   "execution_count": 5,
   "id": "5b15375a",
   "metadata": {},
   "outputs": [
    {
     "data": {
      "image/png": "[encoded data removed]",
      "text/plain": [
       "<Figure size 640x480 with 1 Axes>"
      ]
     },
     "metadata": {},
     "output_type": "display_data"
    }
   ],
   "source": [
    "# spam vs non-spam of the original df\n",
    "spam_counts = df['label'].value_counts()\n",
    "\n",
    "# bar plot\n",
    "plt.bar(spam_counts.index, spam_counts.values, color=['blue', 'red'])\n",
    "plt.xlabel('Label')\n",
    "plt.ylabel('Number of Emails')\n",
    "plt.title('Number of Spam vs Non-Spam Emails')\n",
    "\n",
    "for i, count in enumerate(spam_counts.values):\n",
    "    plt.text(i, count + 50, str(count), ha='center', va='bottom', fontsize=10)\n",
    "\n",
    "plt.xticks([0, 1], ['Non-Spam', 'Spam'])  \n",
    "plt.show()"
   ]
  },
  {
   "cell_type": "markdown",
   "id": "7a48e74c",
   "metadata": {},
   "source": [
    "## EDA + Data Preprocessing"
   ]
  },
  {
   "cell_type": "code",
   "execution_count": 6,
   "id": "40cb9ee2",
   "metadata": {},
   "outputs": [],
   "source": [
    "# handle different languages\n",
    "from langdetect import detect\n",
    "from googletrans import Translator"
   ]
  },
  {
   "cell_type": "code",
   "execution_count": 7,
   "id": "fbe36800",
   "metadata": {},
   "outputs": [],
   "source": [
    "df['email'] = df['email'].astype(str)  "
   ]
  },
  {
   "cell_type": "code",
   "execution_count": 8,
   "id": "8bb418bf",
   "metadata": {},
   "outputs": [],
   "source": [
    "## find the number of rows that has chinese in their email\n",
    "def detect_language(text):\n",
    "    try:\n",
    "        return detect(text)\n",
    "    except:\n",
    "        return 'N/A'"
   ]
  },
  {
   "cell_type": "markdown",
   "id": "88b10167",
   "metadata": {},
   "source": [
    "## Are emails that are NOT English indicate spam?\n",
    "No, it's not a sole indicator. As we see for email that are NOT english:"
   ]
  },
  {
   "cell_type": "code",
   "execution_count": 9,
   "id": "69ffc9ca",
   "metadata": {},
   "outputs": [],
   "source": [
    "df['language'] = df['email'].apply(detect_language)\n",
    "non_english_rows = df[df['language'] != 'en']\n",
    "non_english_labels = non_english_rows['label']\n",
    "\n",
    "non_english_rows_count = df[df['language'] != 'en'].shape[0]"
   ]
  },
  {
   "cell_type": "code",
   "execution_count": 11,
   "id": "5e465c53",
   "metadata": {},
   "outputs": [
    {
     "name": "stdout",
     "output_type": "stream",
     "text": [
      "Number of non-english emails: 515\n"
     ]
    }
   ],
   "source": [
    "print(\"Number of non-english emails:\", non_english_rows_count)"
   ]
  },
  {
   "cell_type": "code",
   "execution_count": 12,
   "id": "1020fbe4",
   "metadata": {},
   "outputs": [
    {
     "name": "stdout",
     "output_type": "stream",
     "text": [
      "Spam/Non-spam ratio for non-english emails:\n",
      "0    485\n",
      "1     30\n",
      "Name: label, dtype: int64\n"
     ]
    }
   ],
   "source": [
    "print(\"Spam/Non-spam ratio for non-english emails:\")\n",
    "print(non_english_labels.value_counts())"
   ]
  },
  {
   "cell_type": "code",
   "execution_count": 13,
   "id": "e6becd7e",
   "metadata": {},
   "outputs": [
    {
     "data": {
      "image/png": "[encoded data removed]",
      "text/plain": [
       "<Figure size 640x480 with 1 Axes>"
      ]
     },
     "metadata": {},
     "output_type": "display_data"
    }
   ],
   "source": [
    "english_rows_count = df[df['language'] == 'en'].shape[0]\n",
    "\n",
    "# create pi chart for nonenglish VS english:\n",
    "labels = ['Non-English', 'English']\n",
    "sizes = [non_english_rows_count, english_rows_count]\n",
    "colors = ['#ff9999', '#66b3ff']\n",
    "\n",
    "fig, ax = plt.subplots()\n",
    "ax.pie(sizes, labels=labels, autopct='%1.1f%%', startangle=90, colors=colors)\n",
    "ax.axis('equal')\n",
    "\n",
    "plt.title('Distribution of Non-English vs English Emails')\n",
    "plt.show()"
   ]
  },
  {
   "cell_type": "code",
   "execution_count": 14,
   "id": "195e1237",
   "metadata": {},
   "outputs": [
    {
     "data": {
      "image/png": "[encoded data removed]",
      "text/plain": [
       "<Figure size 640x480 with 1 Axes>"
      ]
     },
     "metadata": {},
     "output_type": "display_data"
    }
   ],
   "source": [
    "non_english_spam_count = non_english_rows[non_english_rows['label'] == 1].shape[0]\n",
    "non_english_non_spam_count = non_english_rows[non_english_rows['label'] == 0].shape[0]\n",
    "\n",
    "# create pi chart for non-english SPAM vs HAM:\n",
    "labels = ['spam', 'ham']\n",
    "sizes = [non_english_spam_count, non_english_non_spam_count]\n",
    "colors = ['#ff9999', '#66b3ff']\n",
    "\n",
    "fig, ax = plt.subplots()\n",
    "ax.pie(sizes, labels=labels, autopct='%1.1f%%', startangle=90, colors=colors)\n",
    "ax.axis('equal')\n",
    "\n",
    "plt.title('Distribution of Non-English Spam vs Non-Spam Emails')\n",
    "plt.show()"
   ]
  },
  {
   "cell_type": "markdown",
   "id": "79df24ba",
   "metadata": {},
   "source": [
    "### Translating all emails to English\n",
    "**PROBLEM:** Translation may not be accurate\n",
    "\n",
    "Should we drop the rows? Considering how there's technically only 584/8029 emails that are non-english?"
   ]
  },
  {
   "cell_type": "markdown",
   "id": "0e7df8f6",
   "metadata": {},
   "source": [
    "### ATTEMPT0: Dropping non-english emails"
   ]
  },
  {
   "cell_type": "code",
   "execution_count": 15,
   "id": "2e111d5c",
   "metadata": {},
   "outputs": [
    {
     "data": {
      "text/html": [
       "<div>\n",
       "<style scoped>\n",
       "    .dataframe tbody tr th:only-of-type {\n",
       "        vertical-align: middle;\n",
       "    }\n",
       "\n",
       "    .dataframe tbody tr th {\n",
       "        vertical-align: top;\n",
       "    }\n",
       "\n",
       "    .dataframe thead th {\n",
       "        text-align: right;\n",
       "    }\n",
       "</style>\n",
       "<table border=\"1\" class=\"dataframe\">\n",
       "  <thead>\n",
       "    <tr style=\"text-align: right;\">\n",
       "      <th></th>\n",
       "      <th>label</th>\n",
       "      <th>email</th>\n",
       "    </tr>\n",
       "  </thead>\n",
       "  <tbody>\n",
       "    <tr>\n",
       "      <th>0</th>\n",
       "      <td>0</td>\n",
       "      <td>Go until jurong point, crazy.. Available only ...</td>\n",
       "    </tr>\n",
       "    <tr>\n",
       "      <th>2</th>\n",
       "      <td>1</td>\n",
       "      <td>Free entry in 2 a wkly comp to win FA Cup fina...</td>\n",
       "    </tr>\n",
       "    <tr>\n",
       "      <th>3</th>\n",
       "      <td>0</td>\n",
       "      <td>U dun say so early hor... U c already then say...</td>\n",
       "    </tr>\n",
       "    <tr>\n",
       "      <th>4</th>\n",
       "      <td>0</td>\n",
       "      <td>Nah I don't think he goes to usf, he lives aro...</td>\n",
       "    </tr>\n",
       "    <tr>\n",
       "      <th>5</th>\n",
       "      <td>1</td>\n",
       "      <td>FreeMsg Hey there darling it's been 3 week's n...</td>\n",
       "    </tr>\n",
       "  </tbody>\n",
       "</table>\n",
       "</div>"
      ],
      "text/plain": [
       "   label                                              email\n",
       "0      0  Go until jurong point, crazy.. Available only ...\n",
       "2      1  Free entry in 2 a wkly comp to win FA Cup fina...\n",
       "3      0  U dun say so early hor... U c already then say...\n",
       "4      0  Nah I don't think he goes to usf, he lives aro...\n",
       "5      1  FreeMsg Hey there darling it's been 3 week's n..."
      ]
     },
     "execution_count": 15,
     "metadata": {},
     "output_type": "execute_result"
    }
   ],
   "source": [
    "df['language'] = df['email'].apply(detect_language)\n",
    "\n",
    "\n",
    "df_en = df[df['language'] == 'en']\n",
    "df_en = df_en.drop(columns=['language'])\n",
    "df_en.head()"
   ]
  },
  {
   "cell_type": "markdown",
   "id": "e787f5f7",
   "metadata": {},
   "source": [
    "### Other data preprocessing:\n",
    "1. Convert everything to lowercase \n",
    "2. Tokenization\n",
    "3. Removing stopwords\n",
    "\n",
    "**Might not do word lemmatization since an indicator of a scam email are words that are spelled incorrectly, and I don't want the words to be shorten"
   ]
  },
  {
   "cell_type": "code",
   "execution_count": 16,
   "id": "1e0a7ad2",
   "metadata": {},
   "outputs": [],
   "source": [
    "# convert everything to lower case\n",
    "df_en[\"email\"] = df_en[\"email\"].str.lower()"
   ]
  },
  {
   "cell_type": "code",
   "execution_count": 17,
   "id": "d88e63e1",
   "metadata": {},
   "outputs": [],
   "source": [
    "# # word stemming = remove the end or beginning of the words\n",
    "# def word_stemming(words):\n",
    "#     stem_words = [stemmer.stem(o) for o in words]\n",
    "#     return \" \".join(stem_words)\n",
    "\n",
    "# # word lemminzation = convert word back to base form using dictionary\n",
    "# def word_lemmatizer(words):\n",
    "#    lemma_words = [lemmatizer.lemmatize(o) for o in words]\n",
    "#    return \" \".join(lemma_words)"
   ]
  },
  {
   "cell_type": "code",
   "execution_count": 18,
   "id": "95e6d9f2",
   "metadata": {},
   "outputs": [],
   "source": [
    "# tokenize and count words\n",
    "def tokenize_count(text):\n",
    "    words = re.findall(r'\\b\\w+\\b', text)\n",
    "    return Counter(words)"
   ]
  },
  {
   "cell_type": "code",
   "execution_count": 19,
   "id": "bc918776",
   "metadata": {},
   "outputs": [],
   "source": [
    "# remove stop words\n",
    "stop_words = set(stopwords.words('english'))\n",
    "\n",
    "def remove_stopwords(text):\n",
    "    words = word_tokenize(text)\n",
    "    filtered_words = [word for word in words if word.lower() not in stop_words and re.match(r'\\b\\w+\\b', word)]\n",
    "    return ' '.join(filtered_words)"
   ]
  },
  {
   "cell_type": "code",
   "execution_count": 31,
   "id": "47e7198f",
   "metadata": {},
   "outputs": [],
   "source": [
    "# print(stop_words)"
   ]
  },
  {
   "cell_type": "code",
   "execution_count": 32,
   "id": "943107d2",
   "metadata": {},
   "outputs": [],
   "source": [
    "# add more stopwords that are present in the data\n",
    "# additional_stopwords = {\n",
    "#     ''\n",
    "# }"
   ]
  },
  {
   "cell_type": "markdown",
   "id": "842621d3",
   "metadata": {},
   "source": [
    "### df_en analysis: n-gram frequency chart\n",
    "#### UNARY"
   ]
  },
  {
   "cell_type": "code",
   "execution_count": 20,
   "id": "739391de",
   "metadata": {},
   "outputs": [],
   "source": [
    "# apply to remove stopwords\n",
    "df_en['cleaned_email'] = df_en['email'].apply(remove_stopwords)"
   ]
  },
  {
   "cell_type": "code",
   "execution_count": 21,
   "id": "89c2b01b",
   "metadata": {},
   "outputs": [],
   "source": [
    "# apply email to tokenize and count words\n",
    "word_count = df_en[\"cleaned_email\"].apply(tokenize_count)\n",
    "total_word_count = sum(word_count, Counter())"
   ]
  },
  {
   "cell_type": "code",
   "execution_count": 22,
   "id": "1ac40a0f",
   "metadata": {},
   "outputs": [
    {
     "data": {
      "text/html": [
       "<div>\n",
       "<style scoped>\n",
       "    .dataframe tbody tr th:only-of-type {\n",
       "        vertical-align: middle;\n",
       "    }\n",
       "\n",
       "    .dataframe tbody tr th {\n",
       "        vertical-align: top;\n",
       "    }\n",
       "\n",
       "    .dataframe thead th {\n",
       "        text-align: right;\n",
       "    }\n",
       "</style>\n",
       "<table border=\"1\" class=\"dataframe\">\n",
       "  <thead>\n",
       "    <tr style=\"text-align: right;\">\n",
       "      <th></th>\n",
       "      <th>Word</th>\n",
       "      <th>Frequency</th>\n",
       "    </tr>\n",
       "  </thead>\n",
       "  <tbody>\n",
       "    <tr>\n",
       "      <th>1479</th>\n",
       "      <td>number</td>\n",
       "      <td>32410</td>\n",
       "    </tr>\n",
       "    <tr>\n",
       "      <th>436</th>\n",
       "      <td>url</td>\n",
       "      <td>8240</td>\n",
       "    </tr>\n",
       "    <tr>\n",
       "      <th>4535</th>\n",
       "      <td>list</td>\n",
       "      <td>2108</td>\n",
       "    </tr>\n",
       "    <tr>\n",
       "      <th>612</th>\n",
       "      <td>get</td>\n",
       "      <td>1879</td>\n",
       "    </tr>\n",
       "    <tr>\n",
       "      <th>551</th>\n",
       "      <td>one</td>\n",
       "      <td>1799</td>\n",
       "    </tr>\n",
       "    <tr>\n",
       "      <th>60</th>\n",
       "      <td>like</td>\n",
       "      <td>1441</td>\n",
       "    </tr>\n",
       "    <tr>\n",
       "      <th>384</th>\n",
       "      <td>time</td>\n",
       "      <td>1428</td>\n",
       "    </tr>\n",
       "    <tr>\n",
       "      <th>684</th>\n",
       "      <td>people</td>\n",
       "      <td>1327</td>\n",
       "    </tr>\n",
       "    <tr>\n",
       "      <th>16</th>\n",
       "      <td>free</td>\n",
       "      <td>1316</td>\n",
       "    </tr>\n",
       "    <tr>\n",
       "      <th>675</th>\n",
       "      <td>would</td>\n",
       "      <td>1316</td>\n",
       "    </tr>\n",
       "    <tr>\n",
       "      <th>420</th>\n",
       "      <td>new</td>\n",
       "      <td>1295</td>\n",
       "    </tr>\n",
       "    <tr>\n",
       "      <th>175</th>\n",
       "      <td>use</td>\n",
       "      <td>1276</td>\n",
       "    </tr>\n",
       "    <tr>\n",
       "      <th>39</th>\n",
       "      <td>u</td>\n",
       "      <td>1242</td>\n",
       "    </tr>\n",
       "    <tr>\n",
       "      <th>2361</th>\n",
       "      <td>email</td>\n",
       "      <td>1128</td>\n",
       "    </tr>\n",
       "    <tr>\n",
       "      <th>850</th>\n",
       "      <td>mail</td>\n",
       "      <td>1010</td>\n",
       "    </tr>\n",
       "    <tr>\n",
       "      <th>962</th>\n",
       "      <td>also</td>\n",
       "      <td>960</td>\n",
       "    </tr>\n",
       "    <tr>\n",
       "      <th>194</th>\n",
       "      <td>make</td>\n",
       "      <td>948</td>\n",
       "    </tr>\n",
       "    <tr>\n",
       "      <th>10</th>\n",
       "      <td>e</td>\n",
       "      <td>925</td>\n",
       "    </tr>\n",
       "    <tr>\n",
       "      <th>5354</th>\n",
       "      <td>wrote</td>\n",
       "      <td>916</td>\n",
       "    </tr>\n",
       "    <tr>\n",
       "      <th>181</th>\n",
       "      <td>message</td>\n",
       "      <td>907</td>\n",
       "    </tr>\n",
       "  </tbody>\n",
       "</table>\n",
       "</div>"
      ],
      "text/plain": [
       "         Word  Frequency\n",
       "1479   number      32410\n",
       "436       url       8240\n",
       "4535     list       2108\n",
       "612       get       1879\n",
       "551       one       1799\n",
       "60       like       1441\n",
       "384      time       1428\n",
       "684    people       1327\n",
       "16       free       1316\n",
       "675     would       1316\n",
       "420       new       1295\n",
       "175       use       1276\n",
       "39          u       1242\n",
       "2361    email       1128\n",
       "850      mail       1010\n",
       "962      also        960\n",
       "194      make        948\n",
       "10          e        925\n",
       "5354    wrote        916\n",
       "181   message        907"
      ]
     },
     "execution_count": 22,
     "metadata": {},
     "output_type": "execute_result"
    }
   ],
   "source": [
    "word_frequency_df_en = pd.DataFrame(total_word_count.items(), columns=['Word', 'Frequency'])\n",
    "word_frequency_df_en = word_frequency_df_en.sort_values(by='Frequency', ascending=False) # sort descending\n",
    "\n",
    "word_frequency_df_en.head(20)"
   ]
  },
  {
   "cell_type": "code",
   "execution_count": 24,
   "id": "97f578d5",
   "metadata": {},
   "outputs": [
    {
     "name": "stderr",
     "output_type": "stream",
     "text": [
      "/var/folders/g6/m9mjx8gn46xg9qvcz4921f_c0000gn/T/ipykernel_6686/3436898210.py:3: SettingWithCopyWarning: \n",
      "A value is trying to be set on a copy of a slice from a DataFrame.\n",
      "Try using .loc[row_indexer,col_indexer] = value instead\n",
      "\n",
      "See the caveats in the documentation: https://pandas.pydata.org/pandas-docs/stable/user_guide/indexing.html#returning-a-view-versus-a-copy\n",
      "  top_10_words['Frequency'] = top_10_words['Frequency'].astype(int)\n"
     ]
    },
    {
     "data": {
      "image/png": "[encoded data removed]",
      "text/plain": [
       "<Figure size 640x480 with 1 Axes>"
      ]
     },
     "metadata": {},
     "output_type": "display_data"
    }
   ],
   "source": [
    "## chart to see highest freq word and their count\n",
    "top_10_words = word_frequency_df_en.head(10)\n",
    "top_10_words['Frequency'] = top_10_words['Frequency'].astype(int)\n",
    "top_10_words = top_10_words.sort_values(by = 'Frequency', ascending = True)\n",
    "\n",
    "plt.barh(top_10_words['Word'], top_10_words['Frequency'], color='skyblue')\n",
    "plt.xlabel('Frequency')\n",
    "plt.ylabel('Word')\n",
    "plt.title('Top 10 Most Frequent Words')\n",
    "\n",
    "for index, value in enumerate(top_10_words['Frequency']):\n",
    "    plt.text(value, index, str(value), ha='left', va='center', color='black', fontsize=6)\n",
    "\n",
    "plt.show()"
   ]
  },
  {
   "cell_type": "markdown",
   "id": "8599e1d3",
   "metadata": {},
   "source": [
    "### df_ham analysis\n",
    "#### UNARY"
   ]
  },
  {
   "cell_type": "code",
   "execution_count": 29,
   "id": "8f14f07c",
   "metadata": {},
   "outputs": [],
   "source": [
    "df_en_ham = df_en[df_en['label'] == 0] ## df_en of non-spam"
   ]
  },
  {
   "cell_type": "code",
   "execution_count": 30,
   "id": "402af69f",
   "metadata": {},
   "outputs": [
    {
     "data": {
      "text/html": [
       "<div>\n",
       "<style scoped>\n",
       "    .dataframe tbody tr th:only-of-type {\n",
       "        vertical-align: middle;\n",
       "    }\n",
       "\n",
       "    .dataframe tbody tr th {\n",
       "        vertical-align: top;\n",
       "    }\n",
       "\n",
       "    .dataframe thead th {\n",
       "        text-align: right;\n",
       "    }\n",
       "</style>\n",
       "<table border=\"1\" class=\"dataframe\">\n",
       "  <thead>\n",
       "    <tr style=\"text-align: right;\">\n",
       "      <th></th>\n",
       "      <th>Word</th>\n",
       "      <th>Frequency</th>\n",
       "    </tr>\n",
       "  </thead>\n",
       "  <tbody>\n",
       "    <tr>\n",
       "      <th>1084</th>\n",
       "      <td>number</td>\n",
       "      <td>26009</td>\n",
       "    </tr>\n",
       "    <tr>\n",
       "      <th>291</th>\n",
       "      <td>url</td>\n",
       "      <td>7308</td>\n",
       "    </tr>\n",
       "    <tr>\n",
       "      <th>3464</th>\n",
       "      <td>list</td>\n",
       "      <td>1775</td>\n",
       "    </tr>\n",
       "    <tr>\n",
       "      <th>433</th>\n",
       "      <td>get</td>\n",
       "      <td>1431</td>\n",
       "    </tr>\n",
       "    <tr>\n",
       "      <th>373</th>\n",
       "      <td>one</td>\n",
       "      <td>1428</td>\n",
       "    </tr>\n",
       "  </tbody>\n",
       "</table>\n",
       "</div>"
      ],
      "text/plain": [
       "        Word  Frequency\n",
       "1084  number      26009\n",
       "291      url       7308\n",
       "3464    list       1775\n",
       "433      get       1431\n",
       "373      one       1428"
      ]
     },
     "execution_count": 30,
     "metadata": {},
     "output_type": "execute_result"
    }
   ],
   "source": [
    "ham_word_count = df_en_ham[\"cleaned_email\"].apply(tokenize_count)\n",
    "ham_total_word_count = sum(ham_word_count, Counter())\n",
    "ham_word_frequency_df = pd.DataFrame(ham_total_word_count.items(), columns = ['Word', 'Frequency'])\n",
    "ham_word_frequency_df = ham_word_frequency_df.sort_values(by='Frequency', ascending=False)\n",
    "ham_word_frequency_df.head()"
   ]
  },
  {
   "cell_type": "code",
   "execution_count": 32,
   "id": "13bd5cba",
   "metadata": {},
   "outputs": [
    {
     "name": "stderr",
     "output_type": "stream",
     "text": [
      "/var/folders/g6/m9mjx8gn46xg9qvcz4921f_c0000gn/T/ipykernel_6686/3444029849.py:3: SettingWithCopyWarning: \n",
      "A value is trying to be set on a copy of a slice from a DataFrame.\n",
      "Try using .loc[row_indexer,col_indexer] = value instead\n",
      "\n",
      "See the caveats in the documentation: https://pandas.pydata.org/pandas-docs/stable/user_guide/indexing.html#returning-a-view-versus-a-copy\n",
      "  top_10_words_ham['Frequency'] = top_10_words_ham['Frequency'].astype(int)\n"
     ]
    },
    {
     "data": {
      "image/png": "[encoded data removed]",
      "text/plain": [
       "<Figure size 640x480 with 1 Axes>"
      ]
     },
     "metadata": {},
     "output_type": "display_data"
    }
   ],
   "source": [
    "## chart to see highest freq word and their count\n",
    "top_10_words_ham = ham_word_frequency_df.head(10)\n",
    "top_10_words_ham['Frequency'] = top_10_words_ham['Frequency'].astype(int)\n",
    "top_10_words_ham = top_10_words_ham.sort_values(by = 'Frequency', ascending = True)\n",
    "\n",
    "plt.barh(top_10_words_ham['Word'], top_10_words_ham['Frequency'], color='skyblue')\n",
    "plt.xlabel('Frequency')\n",
    "plt.ylabel('Word')\n",
    "plt.title('Top 10 Most Frequent Words (HAM)')\n",
    "\n",
    "for index, value in enumerate(top_10_words_ham['Frequency']):\n",
    "    plt.text(value, index, str(value), ha='left', va='center', color='black', fontsize=6)\n",
    "\n",
    "plt.show()"
   ]
  },
  {
   "cell_type": "markdown",
   "id": "dc3fc895",
   "metadata": {},
   "source": [
    "### df_spam analysis\n",
    "#### UNARY"
   ]
  },
  {
   "cell_type": "code",
   "execution_count": 27,
   "id": "bc1172e4",
   "metadata": {},
   "outputs": [
    {
     "data": {
      "text/html": [
       "<div>\n",
       "<style scoped>\n",
       "    .dataframe tbody tr th:only-of-type {\n",
       "        vertical-align: middle;\n",
       "    }\n",
       "\n",
       "    .dataframe tbody tr th {\n",
       "        vertical-align: top;\n",
       "    }\n",
       "\n",
       "    .dataframe thead th {\n",
       "        text-align: right;\n",
       "    }\n",
       "</style>\n",
       "<table border=\"1\" class=\"dataframe\">\n",
       "  <thead>\n",
       "    <tr style=\"text-align: right;\">\n",
       "      <th></th>\n",
       "      <th>Word</th>\n",
       "      <th>Frequency</th>\n",
       "    </tr>\n",
       "  </thead>\n",
       "  <tbody>\n",
       "    <tr>\n",
       "      <th>515</th>\n",
       "      <td>number</td>\n",
       "      <td>6401</td>\n",
       "    </tr>\n",
       "    <tr>\n",
       "      <th>2795</th>\n",
       "      <td>url</td>\n",
       "      <td>932</td>\n",
       "    </tr>\n",
       "    <tr>\n",
       "      <th>0</th>\n",
       "      <td>free</td>\n",
       "      <td>803</td>\n",
       "    </tr>\n",
       "    <tr>\n",
       "      <th>2781</th>\n",
       "      <td>hyperlink</td>\n",
       "      <td>625</td>\n",
       "    </tr>\n",
       "    <tr>\n",
       "      <th>392</th>\n",
       "      <td>e</td>\n",
       "      <td>510</td>\n",
       "    </tr>\n",
       "  </tbody>\n",
       "</table>\n",
       "</div>"
      ],
      "text/plain": [
       "           Word  Frequency\n",
       "515      number       6401\n",
       "2795        url        932\n",
       "0          free        803\n",
       "2781  hyperlink        625\n",
       "392           e        510"
      ]
     },
     "execution_count": 27,
     "metadata": {},
     "output_type": "execute_result"
    }
   ],
   "source": [
    "df_en_spam = df_en[df_en['label'] == 1] ## df of spam\n",
    "spam_word_count = df_en_spam[\"cleaned_email\"].apply(tokenize_count)\n",
    "spam_total_word_count = sum(spam_word_count, Counter())\n",
    "spam_word_frequency_df = pd.DataFrame(spam_total_word_count.items(), columns = ['Word', 'Frequency'])\n",
    "spam_word_frequency_df = spam_word_frequency_df.sort_values(by='Frequency', ascending=False)\n",
    "spam_word_frequency_df.head()"
   ]
  },
  {
   "cell_type": "code",
   "execution_count": 38,
   "id": "694f9a1d",
   "metadata": {},
   "outputs": [
    {
     "name": "stderr",
     "output_type": "stream",
     "text": [
      "/var/folders/g6/m9mjx8gn46xg9qvcz4921f_c0000gn/T/ipykernel_6686/1007751731.py:3: SettingWithCopyWarning: \n",
      "A value is trying to be set on a copy of a slice from a DataFrame.\n",
      "Try using .loc[row_indexer,col_indexer] = value instead\n",
      "\n",
      "See the caveats in the documentation: https://pandas.pydata.org/pandas-docs/stable/user_guide/indexing.html#returning-a-view-versus-a-copy\n",
      "  top_10_words_spam['Frequency'] = top_10_words_spam['Frequency'].astype(int)\n"
     ]
    },
    {
     "data": {
      "image/png": "[encoded data removed]",
      "text/plain": [
       "<Figure size 640x480 with 1 Axes>"
      ]
     },
     "metadata": {},
     "output_type": "display_data"
    }
   ],
   "source": [
    "## chart to see highest freq word and their count\n",
    "top_10_words_spam = spam_word_frequency_df.head(10)\n",
    "top_10_words_spam['Frequency'] = top_10_words_spam['Frequency'].astype(int)\n",
    "top_10_words_spam = top_10_words_spam.sort_values(by = 'Frequency', ascending = True)\n",
    "\n",
    "plt.barh(top_10_words_spam['Word'], top_10_words_spam['Frequency'], color='skyblue')\n",
    "plt.xlabel('Frequency')\n",
    "plt.ylabel('Word')\n",
    "plt.title('Top 10 Most Frequent Words (SPAM)')\n",
    "\n",
    "for index, value in enumerate(top_10_words_spam['Frequency']):\n",
    "    plt.text(value, index, str(value), ha='left', va='center', color='black', fontsize=6)\n",
    "\n",
    "plt.show()"
   ]
  },
  {
   "cell_type": "markdown",
   "id": "6374a685",
   "metadata": {},
   "source": [
    "### N-Gram Model: bigram and trigram"
   ]
  },
  {
   "cell_type": "code",
   "execution_count": 35,
   "id": "5ae73b71",
   "metadata": {},
   "outputs": [],
   "source": [
    "def tokenize_count_ngrams(text, n):\n",
    "    words = re.findall(r'\\b\\w+\\b', text.lower())  # Convert to lowercase and use a regex to extract words\n",
    "    ngrams_list = list(ngrams(words, n))\n",
    "    return Counter(ngrams_list)"
   ]
  },
  {
   "cell_type": "code",
   "execution_count": 39,
   "id": "08775056",
   "metadata": {},
   "outputs": [
    {
     "data": {
      "text/html": [
       "<div>\n",
       "<style scoped>\n",
       "    .dataframe tbody tr th:only-of-type {\n",
       "        vertical-align: middle;\n",
       "    }\n",
       "\n",
       "    .dataframe tbody tr th {\n",
       "        vertical-align: top;\n",
       "    }\n",
       "\n",
       "    .dataframe thead th {\n",
       "        text-align: right;\n",
       "    }\n",
       "</style>\n",
       "<table border=\"1\" class=\"dataframe\">\n",
       "  <thead>\n",
       "    <tr style=\"text-align: right;\">\n",
       "      <th></th>\n",
       "      <th>Bigram</th>\n",
       "      <th>Frequency</th>\n",
       "    </tr>\n",
       "  </thead>\n",
       "  <tbody>\n",
       "    <tr>\n",
       "      <th>18182</th>\n",
       "      <td>(number, number)</td>\n",
       "      <td>16188</td>\n",
       "    </tr>\n",
       "    <tr>\n",
       "      <th>32447</th>\n",
       "      <td>(url, url)</td>\n",
       "      <td>1432</td>\n",
       "    </tr>\n",
       "    <tr>\n",
       "      <th>35250</th>\n",
       "      <td>(number, url)</td>\n",
       "      <td>854</td>\n",
       "    </tr>\n",
       "    <tr>\n",
       "      <th>32444</th>\n",
       "      <td>(mailing, list)</td>\n",
       "      <td>769</td>\n",
       "    </tr>\n",
       "    <tr>\n",
       "      <th>33764</th>\n",
       "      <td>(url, number)</td>\n",
       "      <td>678</td>\n",
       "    </tr>\n",
       "    <tr>\n",
       "      <th>43475</th>\n",
       "      <td>(url, date)</td>\n",
       "      <td>561</td>\n",
       "    </tr>\n",
       "    <tr>\n",
       "      <th>38851</th>\n",
       "      <td>(rpm, list)</td>\n",
       "      <td>513</td>\n",
       "    </tr>\n",
       "    <tr>\n",
       "      <th>39933</th>\n",
       "      <td>(sep, number)</td>\n",
       "      <td>426</td>\n",
       "    </tr>\n",
       "    <tr>\n",
       "      <th>23945</th>\n",
       "      <td>(e, mail)</td>\n",
       "      <td>385</td>\n",
       "    </tr>\n",
       "    <tr>\n",
       "      <th>32734</th>\n",
       "      <td>(url, ________________________________________...</td>\n",
       "      <td>373</td>\n",
       "    </tr>\n",
       "    <tr>\n",
       "      <th>48</th>\n",
       "      <td>(n, t)</td>\n",
       "      <td>342</td>\n",
       "    </tr>\n",
       "    <tr>\n",
       "      <th>52599</th>\n",
       "      <td>(united, states)</td>\n",
       "      <td>334</td>\n",
       "    </tr>\n",
       "    <tr>\n",
       "      <th>43476</th>\n",
       "      <td>(date, number)</td>\n",
       "      <td>307</td>\n",
       "    </tr>\n",
       "    <tr>\n",
       "      <th>39932</th>\n",
       "      <td>(number, sep)</td>\n",
       "      <td>295</td>\n",
       "    </tr>\n",
       "    <tr>\n",
       "      <th>43477</th>\n",
       "      <td>(number, numbertnumber)</td>\n",
       "      <td>293</td>\n",
       "    </tr>\n",
       "    <tr>\n",
       "      <th>43478</th>\n",
       "      <td>(numbertnumber, number)</td>\n",
       "      <td>293</td>\n",
       "    </tr>\n",
       "    <tr>\n",
       "      <th>33480</th>\n",
       "      <td>(url, email)</td>\n",
       "      <td>279</td>\n",
       "    </tr>\n",
       "    <tr>\n",
       "      <th>33490</th>\n",
       "      <td>(spamassassin, talk)</td>\n",
       "      <td>277</td>\n",
       "    </tr>\n",
       "    <tr>\n",
       "      <th>33481</th>\n",
       "      <td>(email, sponsored)</td>\n",
       "      <td>266</td>\n",
       "    </tr>\n",
       "    <tr>\n",
       "      <th>32656</th>\n",
       "      <td>(september, number)</td>\n",
       "      <td>258</td>\n",
       "    </tr>\n",
       "  </tbody>\n",
       "</table>\n",
       "</div>"
      ],
      "text/plain": [
       "                                                  Bigram  Frequency\n",
       "18182                                   (number, number)      16188\n",
       "32447                                         (url, url)       1432\n",
       "35250                                      (number, url)        854\n",
       "32444                                    (mailing, list)        769\n",
       "33764                                      (url, number)        678\n",
       "43475                                        (url, date)        561\n",
       "38851                                        (rpm, list)        513\n",
       "39933                                      (sep, number)        426\n",
       "23945                                          (e, mail)        385\n",
       "32734  (url, ________________________________________...        373\n",
       "48                                                (n, t)        342\n",
       "52599                                   (united, states)        334\n",
       "43476                                     (date, number)        307\n",
       "39932                                      (number, sep)        295\n",
       "43477                            (number, numbertnumber)        293\n",
       "43478                            (numbertnumber, number)        293\n",
       "33480                                       (url, email)        279\n",
       "33490                               (spamassassin, talk)        277\n",
       "33481                                 (email, sponsored)        266\n",
       "32656                                (september, number)        258"
      ]
     },
     "execution_count": 39,
     "metadata": {},
     "output_type": "execute_result"
    }
   ],
   "source": [
    "## df_en BIGRAM\n",
    "bigram_count = df_en['cleaned_email'].apply(lambda x: tokenize_count_ngrams(x, 2))\n",
    "total_bigram_count = sum(bigram_count, Counter())\n",
    "bigram_frequency_df_en = pd.DataFrame(total_bigram_count.items(), columns=['Bigram', 'Frequency'])\n",
    "bigram_frequency_df_en = bigram_frequency_df_en.sort_values(by='Frequency', ascending=False)\n",
    "\n",
    "bigram_frequency_df_en.head(20)"
   ]
  },
  {
   "cell_type": "code",
   "execution_count": 42,
   "id": "7335718f",
   "metadata": {},
   "outputs": [
    {
     "name": "stderr",
     "output_type": "stream",
     "text": [
      "/var/folders/g6/m9mjx8gn46xg9qvcz4921f_c0000gn/T/ipykernel_6686/728473070.py:3: SettingWithCopyWarning: \n",
      "A value is trying to be set on a copy of a slice from a DataFrame.\n",
      "Try using .loc[row_indexer,col_indexer] = value instead\n",
      "\n",
      "See the caveats in the documentation: https://pandas.pydata.org/pandas-docs/stable/user_guide/indexing.html#returning-a-view-versus-a-copy\n",
      "  top_10_bigrams['Frequency'] = top_10_bigrams['Frequency'].astype(int)\n",
      "/var/folders/g6/m9mjx8gn46xg9qvcz4921f_c0000gn/T/ipykernel_6686/728473070.py:4: SettingWithCopyWarning: \n",
      "A value is trying to be set on a copy of a slice from a DataFrame.\n",
      "Try using .loc[row_indexer,col_indexer] = value instead\n",
      "\n",
      "See the caveats in the documentation: https://pandas.pydata.org/pandas-docs/stable/user_guide/indexing.html#returning-a-view-versus-a-copy\n",
      "  top_10_bigrams['Bigram'] = top_10_bigrams['Bigram'].apply(lambda x: ' '.join(x))\n"
     ]
    },
    {
     "data": {
      "image/png": "[encoded data removed]",
      "text/plain": [
       "<Figure size 640x480 with 1 Axes>"
      ]
     },
     "metadata": {},
     "output_type": "display_data"
    }
   ],
   "source": [
    "## chart to see highest freq word and their count\n",
    "top_10_bigrams = bigram_frequency_df_en.head(10)\n",
    "top_10_bigrams['Frequency'] = top_10_bigrams['Frequency'].astype(int)\n",
    "top_10_bigrams['Bigram'] = top_10_bigrams['Bigram'].apply(lambda x: ' '.join(x))\n",
    "top_10_bigrams = top_10_bigrams.sort_values(by = 'Frequency', ascending = True)\n",
    "\n",
    "plt.barh(top_10_bigrams['Bigram'], top_10_bigrams['Frequency'], color='skyblue')\n",
    "plt.xlabel('Frequency')\n",
    "plt.ylabel('Word')\n",
    "plt.title('Top 10 Most Frequent Bigrams')\n",
    "\n",
    "for index, value in enumerate(top_10_bigrams['Frequency']):\n",
    "    plt.text(value, index, str(value), ha='left', va='center', color='black', fontsize=6)\n",
    "\n",
    "plt.show()"
   ]
  },
  {
   "cell_type": "code",
   "execution_count": 43,
   "id": "5f441467",
   "metadata": {},
   "outputs": [
    {
     "data": {
      "text/html": [
       "<div>\n",
       "<style scoped>\n",
       "    .dataframe tbody tr th:only-of-type {\n",
       "        vertical-align: middle;\n",
       "    }\n",
       "\n",
       "    .dataframe tbody tr th {\n",
       "        vertical-align: top;\n",
       "    }\n",
       "\n",
       "    .dataframe thead th {\n",
       "        text-align: right;\n",
       "    }\n",
       "</style>\n",
       "<table border=\"1\" class=\"dataframe\">\n",
       "  <thead>\n",
       "    <tr style=\"text-align: right;\">\n",
       "      <th></th>\n",
       "      <th>Trigram</th>\n",
       "      <th>Frequency</th>\n",
       "    </tr>\n",
       "  </thead>\n",
       "  <tbody>\n",
       "    <tr>\n",
       "      <th>33559</th>\n",
       "      <td>(number, number, number)</td>\n",
       "      <td>9414</td>\n",
       "    </tr>\n",
       "    <tr>\n",
       "      <th>45799</th>\n",
       "      <td>(url, url, date)</td>\n",
       "      <td>544</td>\n",
       "    </tr>\n",
       "    <tr>\n",
       "      <th>41336</th>\n",
       "      <td>(number, url, number)</td>\n",
       "      <td>440</td>\n",
       "    </tr>\n",
       "    <tr>\n",
       "      <th>41337</th>\n",
       "      <td>(url, number, url)</td>\n",
       "      <td>432</td>\n",
       "    </tr>\n",
       "    <tr>\n",
       "      <th>45801</th>\n",
       "      <td>(date, number, number)</td>\n",
       "      <td>301</td>\n",
       "    </tr>\n",
       "    <tr>\n",
       "      <th>41830</th>\n",
       "      <td>(number, sep, number)</td>\n",
       "      <td>295</td>\n",
       "    </tr>\n",
       "    <tr>\n",
       "      <th>45800</th>\n",
       "      <td>(url, date, number)</td>\n",
       "      <td>295</td>\n",
       "    </tr>\n",
       "    <tr>\n",
       "      <th>45803</th>\n",
       "      <td>(number, numbertnumber, number)</td>\n",
       "      <td>293</td>\n",
       "    </tr>\n",
       "    <tr>\n",
       "      <th>45802</th>\n",
       "      <td>(number, number, numbertnumber)</td>\n",
       "      <td>293</td>\n",
       "    </tr>\n",
       "    <tr>\n",
       "      <th>45804</th>\n",
       "      <td>(numbertnumber, number, number)</td>\n",
       "      <td>293</td>\n",
       "    </tr>\n",
       "    <tr>\n",
       "      <th>42070</th>\n",
       "      <td>(sep, number, number)</td>\n",
       "      <td>286</td>\n",
       "    </tr>\n",
       "    <tr>\n",
       "      <th>34793</th>\n",
       "      <td>(url, email, sponsored)</td>\n",
       "      <td>266</td>\n",
       "    </tr>\n",
       "    <tr>\n",
       "      <th>40645</th>\n",
       "      <td>(list, mailing, list)</td>\n",
       "      <td>255</td>\n",
       "    </tr>\n",
       "    <tr>\n",
       "      <th>40643</th>\n",
       "      <td>(_____________________________________________...</td>\n",
       "      <td>254</td>\n",
       "    </tr>\n",
       "    <tr>\n",
       "      <th>40644</th>\n",
       "      <td>(rpm, list, mailing)</td>\n",
       "      <td>254</td>\n",
       "    </tr>\n",
       "    <tr>\n",
       "      <th>40647</th>\n",
       "      <td>(list, rpm, list)</td>\n",
       "      <td>254</td>\n",
       "    </tr>\n",
       "    <tr>\n",
       "      <th>40646</th>\n",
       "      <td>(mailing, list, rpm)</td>\n",
       "      <td>254</td>\n",
       "    </tr>\n",
       "    <tr>\n",
       "      <th>40648</th>\n",
       "      <td>(rpm, list, freshrpms)</td>\n",
       "      <td>222</td>\n",
       "    </tr>\n",
       "    <tr>\n",
       "      <th>40649</th>\n",
       "      <td>(list, freshrpms, net)</td>\n",
       "      <td>222</td>\n",
       "    </tr>\n",
       "    <tr>\n",
       "      <th>40650</th>\n",
       "      <td>(freshrpms, net, url)</td>\n",
       "      <td>221</td>\n",
       "    </tr>\n",
       "  </tbody>\n",
       "</table>\n",
       "</div>"
      ],
      "text/plain": [
       "                                                 Trigram  Frequency\n",
       "33559                           (number, number, number)       9414\n",
       "45799                                   (url, url, date)        544\n",
       "41336                              (number, url, number)        440\n",
       "41337                                 (url, number, url)        432\n",
       "45801                             (date, number, number)        301\n",
       "41830                              (number, sep, number)        295\n",
       "45800                                (url, date, number)        295\n",
       "45803                    (number, numbertnumber, number)        293\n",
       "45802                    (number, number, numbertnumber)        293\n",
       "45804                    (numbertnumber, number, number)        293\n",
       "42070                              (sep, number, number)        286\n",
       "34793                            (url, email, sponsored)        266\n",
       "40645                              (list, mailing, list)        255\n",
       "40643  (_____________________________________________...        254\n",
       "40644                               (rpm, list, mailing)        254\n",
       "40647                                  (list, rpm, list)        254\n",
       "40646                               (mailing, list, rpm)        254\n",
       "40648                             (rpm, list, freshrpms)        222\n",
       "40649                             (list, freshrpms, net)        222\n",
       "40650                              (freshrpms, net, url)        221"
      ]
     },
     "execution_count": 43,
     "metadata": {},
     "output_type": "execute_result"
    }
   ],
   "source": [
    "## df_en TRIGRAM\n",
    "trigram_count = df_en['cleaned_email'].apply(lambda x: tokenize_count_ngrams(x, 3))\n",
    "total_trigram_count = sum(trigram_count, Counter())\n",
    "trigram_frequency_df_en = pd.DataFrame(total_trigram_count.items(), columns=['Trigram', 'Frequency'])\n",
    "trigram_frequency_df_en = trigram_frequency_df_en.sort_values(by='Frequency', ascending=False)\n",
    "\n",
    "trigram_frequency_df_en.head(20)"
   ]
  },
  {
   "cell_type": "code",
   "execution_count": 45,
   "id": "083377e7",
   "metadata": {},
   "outputs": [
    {
     "name": "stderr",
     "output_type": "stream",
     "text": [
      "/var/folders/g6/m9mjx8gn46xg9qvcz4921f_c0000gn/T/ipykernel_6686/883552463.py:3: SettingWithCopyWarning: \n",
      "A value is trying to be set on a copy of a slice from a DataFrame.\n",
      "Try using .loc[row_indexer,col_indexer] = value instead\n",
      "\n",
      "See the caveats in the documentation: https://pandas.pydata.org/pandas-docs/stable/user_guide/indexing.html#returning-a-view-versus-a-copy\n",
      "  top_10_trigrams['Frequency'] = top_10_trigrams['Frequency'].astype(int)\n",
      "/var/folders/g6/m9mjx8gn46xg9qvcz4921f_c0000gn/T/ipykernel_6686/883552463.py:4: SettingWithCopyWarning: \n",
      "A value is trying to be set on a copy of a slice from a DataFrame.\n",
      "Try using .loc[row_indexer,col_indexer] = value instead\n",
      "\n",
      "See the caveats in the documentation: https://pandas.pydata.org/pandas-docs/stable/user_guide/indexing.html#returning-a-view-versus-a-copy\n",
      "  top_10_trigrams['Trigram'] = top_10_trigrams['Trigram'].apply(lambda x: ' '.join(x))\n"
     ]
    },
    {
     "data": {
      "image/png": "[encoded data removed]",
      "text/plain": [
       "<Figure size 640x480 with 1 Axes>"
      ]
     },
     "metadata": {},
     "output_type": "display_data"
    }
   ],
   "source": [
    "## chart to see highest freq word and their count\n",
    "top_10_trigrams = trigram_frequency_df_en.head(10)\n",
    "top_10_trigrams['Frequency'] = top_10_trigrams['Frequency'].astype(int)\n",
    "top_10_trigrams['Trigram'] = top_10_trigrams['Trigram'].apply(lambda x: ' '.join(x))\n",
    "top_10_trigrams = top_10_trigrams.sort_values(by = 'Frequency', ascending = True)\n",
    "\n",
    "plt.barh(top_10_trigrams['Trigram'], top_10_trigrams['Frequency'], color='skyblue')\n",
    "plt.xlabel('Frequency')\n",
    "plt.ylabel('Word')\n",
    "plt.title('Top 10 Most Frequent Trigrams')\n",
    "\n",
    "for index, value in enumerate(top_10_trigrams['Frequency']):\n",
    "    plt.text(value, index, str(value), ha='left', va='center', color='black', fontsize=6)\n",
    "\n",
    "plt.show()"
   ]
  },
  {
   "cell_type": "code",
   "execution_count": 48,
   "id": "b42ae03e",
   "metadata": {},
   "outputs": [
    {
     "data": {
      "text/html": [
       "<div>\n",
       "<style scoped>\n",
       "    .dataframe tbody tr th:only-of-type {\n",
       "        vertical-align: middle;\n",
       "    }\n",
       "\n",
       "    .dataframe tbody tr th {\n",
       "        vertical-align: top;\n",
       "    }\n",
       "\n",
       "    .dataframe thead th {\n",
       "        text-align: right;\n",
       "    }\n",
       "</style>\n",
       "<table border=\"1\" class=\"dataframe\">\n",
       "  <thead>\n",
       "    <tr style=\"text-align: right;\">\n",
       "      <th></th>\n",
       "      <th>Bigram</th>\n",
       "      <th>Frequency</th>\n",
       "    </tr>\n",
       "  </thead>\n",
       "  <tbody>\n",
       "    <tr>\n",
       "      <th>14151</th>\n",
       "      <td>(number, number)</td>\n",
       "      <td>13546</td>\n",
       "    </tr>\n",
       "    <tr>\n",
       "      <th>26149</th>\n",
       "      <td>(url, url)</td>\n",
       "      <td>1338</td>\n",
       "    </tr>\n",
       "    <tr>\n",
       "      <th>28957</th>\n",
       "      <td>(number, url)</td>\n",
       "      <td>837</td>\n",
       "    </tr>\n",
       "    <tr>\n",
       "      <th>26146</th>\n",
       "      <td>(mailing, list)</td>\n",
       "      <td>710</td>\n",
       "    </tr>\n",
       "    <tr>\n",
       "      <th>27469</th>\n",
       "      <td>(url, number)</td>\n",
       "      <td>649</td>\n",
       "    </tr>\n",
       "    <tr>\n",
       "      <th>37198</th>\n",
       "      <td>(url, date)</td>\n",
       "      <td>561</td>\n",
       "    </tr>\n",
       "    <tr>\n",
       "      <th>32564</th>\n",
       "      <td>(rpm, list)</td>\n",
       "      <td>513</td>\n",
       "    </tr>\n",
       "    <tr>\n",
       "      <th>33648</th>\n",
       "      <td>(sep, number)</td>\n",
       "      <td>422</td>\n",
       "    </tr>\n",
       "    <tr>\n",
       "      <th>26437</th>\n",
       "      <td>(url, ________________________________________...</td>\n",
       "      <td>368</td>\n",
       "    </tr>\n",
       "    <tr>\n",
       "      <th>24</th>\n",
       "      <td>(n, t)</td>\n",
       "      <td>332</td>\n",
       "    </tr>\n",
       "    <tr>\n",
       "      <th>37199</th>\n",
       "      <td>(date, number)</td>\n",
       "      <td>303</td>\n",
       "    </tr>\n",
       "    <tr>\n",
       "      <th>33647</th>\n",
       "      <td>(number, sep)</td>\n",
       "      <td>295</td>\n",
       "    </tr>\n",
       "    <tr>\n",
       "      <th>37201</th>\n",
       "      <td>(numbertnumber, number)</td>\n",
       "      <td>293</td>\n",
       "    </tr>\n",
       "    <tr>\n",
       "      <th>37200</th>\n",
       "      <td>(number, numbertnumber)</td>\n",
       "      <td>293</td>\n",
       "    </tr>\n",
       "    <tr>\n",
       "      <th>27195</th>\n",
       "      <td>(spamassassin, talk)</td>\n",
       "      <td>275</td>\n",
       "    </tr>\n",
       "    <tr>\n",
       "      <th>27184</th>\n",
       "      <td>(url, email)</td>\n",
       "      <td>263</td>\n",
       "    </tr>\n",
       "    <tr>\n",
       "      <th>27185</th>\n",
       "      <td>(email, sponsored)</td>\n",
       "      <td>262</td>\n",
       "    </tr>\n",
       "    <tr>\n",
       "      <th>46335</th>\n",
       "      <td>(united, states)</td>\n",
       "      <td>257</td>\n",
       "    </tr>\n",
       "    <tr>\n",
       "      <th>32565</th>\n",
       "      <td>(list, mailing)</td>\n",
       "      <td>255</td>\n",
       "    </tr>\n",
       "    <tr>\n",
       "      <th>32566</th>\n",
       "      <td>(list, rpm)</td>\n",
       "      <td>255</td>\n",
       "    </tr>\n",
       "  </tbody>\n",
       "</table>\n",
       "</div>"
      ],
      "text/plain": [
       "                                                  Bigram  Frequency\n",
       "14151                                   (number, number)      13546\n",
       "26149                                         (url, url)       1338\n",
       "28957                                      (number, url)        837\n",
       "26146                                    (mailing, list)        710\n",
       "27469                                      (url, number)        649\n",
       "37198                                        (url, date)        561\n",
       "32564                                        (rpm, list)        513\n",
       "33648                                      (sep, number)        422\n",
       "26437  (url, ________________________________________...        368\n",
       "24                                                (n, t)        332\n",
       "37199                                     (date, number)        303\n",
       "33647                                      (number, sep)        295\n",
       "37201                            (numbertnumber, number)        293\n",
       "37200                            (number, numbertnumber)        293\n",
       "27195                               (spamassassin, talk)        275\n",
       "27184                                       (url, email)        263\n",
       "27185                                 (email, sponsored)        262\n",
       "46335                                   (united, states)        257\n",
       "32565                                    (list, mailing)        255\n",
       "32566                                        (list, rpm)        255"
      ]
     },
     "execution_count": 48,
     "metadata": {},
     "output_type": "execute_result"
    }
   ],
   "source": [
    "## df_en_ham BIGRAM\n",
    "bigram_count = df_en_ham['cleaned_email'].apply(lambda x: tokenize_count_ngrams(x, 2))\n",
    "total_bigram_count = sum(bigram_count, Counter())\n",
    "bigram_frequency_df_en_ham = pd.DataFrame(total_bigram_count.items(), columns=['Bigram', 'Frequency'])\n",
    "bigram_frequency_df_en_ham = bigram_frequency_df_en_ham.sort_values(by='Frequency', ascending=False)\n",
    "\n",
    "bigram_frequency_df_en_ham.head(20)"
   ]
  },
  {
   "cell_type": "code",
   "execution_count": 49,
   "id": "d6c02ec4",
   "metadata": {},
   "outputs": [
    {
     "name": "stderr",
     "output_type": "stream",
     "text": [
      "/var/folders/g6/m9mjx8gn46xg9qvcz4921f_c0000gn/T/ipykernel_6686/4076128889.py:3: SettingWithCopyWarning: \n",
      "A value is trying to be set on a copy of a slice from a DataFrame.\n",
      "Try using .loc[row_indexer,col_indexer] = value instead\n",
      "\n",
      "See the caveats in the documentation: https://pandas.pydata.org/pandas-docs/stable/user_guide/indexing.html#returning-a-view-versus-a-copy\n",
      "  top_10_bigrams_ham['Frequency'] = top_10_bigrams_ham['Frequency'].astype(int)\n",
      "/var/folders/g6/m9mjx8gn46xg9qvcz4921f_c0000gn/T/ipykernel_6686/4076128889.py:4: SettingWithCopyWarning: \n",
      "A value is trying to be set on a copy of a slice from a DataFrame.\n",
      "Try using .loc[row_indexer,col_indexer] = value instead\n",
      "\n",
      "See the caveats in the documentation: https://pandas.pydata.org/pandas-docs/stable/user_guide/indexing.html#returning-a-view-versus-a-copy\n",
      "  top_10_bigrams_ham['Bigram'] = top_10_bigrams_ham['Bigram'].apply(lambda x: ' '.join(x))\n"
     ]
    },
    {
     "data": {
      "image/png": "[encoded data removed]",
      "text/plain": [
       "<Figure size 640x480 with 1 Axes>"
      ]
     },
     "metadata": {},
     "output_type": "display_data"
    }
   ],
   "source": [
    "## chart to see highest freq word and their count\n",
    "top_10_bigrams_ham = bigram_frequency_df_en_ham.head(10)\n",
    "top_10_bigrams_ham['Frequency'] = top_10_bigrams_ham['Frequency'].astype(int)\n",
    "top_10_bigrams_ham['Bigram'] = top_10_bigrams_ham['Bigram'].apply(lambda x: ' '.join(x))\n",
    "top_10_bigrams_ham = top_10_bigrams_ham.sort_values(by = 'Frequency', ascending = True)\n",
    "\n",
    "plt.barh(top_10_bigrams_ham['Bigram'], top_10_bigrams_ham['Frequency'], color='skyblue')\n",
    "plt.xlabel('Frequency')\n",
    "plt.ylabel('Word')\n",
    "plt.title('Top 10 Most Frequent Bigrams (HAM)')\n",
    "\n",
    "for index, value in enumerate(top_10_bigrams_ham['Frequency']):\n",
    "    plt.text(value, index, str(value), ha='left', va='center', color='black', fontsize=6)\n",
    "\n",
    "plt.show()"
   ]
  },
  {
   "cell_type": "code",
   "execution_count": 50,
   "id": "abc449f5",
   "metadata": {},
   "outputs": [
    {
     "data": {
      "text/html": [
       "<div>\n",
       "<style scoped>\n",
       "    .dataframe tbody tr th:only-of-type {\n",
       "        vertical-align: middle;\n",
       "    }\n",
       "\n",
       "    .dataframe tbody tr th {\n",
       "        vertical-align: top;\n",
       "    }\n",
       "\n",
       "    .dataframe thead th {\n",
       "        text-align: right;\n",
       "    }\n",
       "</style>\n",
       "<table border=\"1\" class=\"dataframe\">\n",
       "  <thead>\n",
       "    <tr style=\"text-align: right;\">\n",
       "      <th></th>\n",
       "      <th>Trigram</th>\n",
       "      <th>Frequency</th>\n",
       "    </tr>\n",
       "  </thead>\n",
       "  <tbody>\n",
       "    <tr>\n",
       "      <th>26392</th>\n",
       "      <td>(number, number, number)</td>\n",
       "      <td>8231</td>\n",
       "    </tr>\n",
       "    <tr>\n",
       "      <th>38633</th>\n",
       "      <td>(url, url, date)</td>\n",
       "      <td>544</td>\n",
       "    </tr>\n",
       "    <tr>\n",
       "      <th>34170</th>\n",
       "      <td>(number, url, number)</td>\n",
       "      <td>440</td>\n",
       "    </tr>\n",
       "    <tr>\n",
       "      <th>34171</th>\n",
       "      <td>(url, number, url)</td>\n",
       "      <td>432</td>\n",
       "    </tr>\n",
       "    <tr>\n",
       "      <th>38635</th>\n",
       "      <td>(date, number, number)</td>\n",
       "      <td>298</td>\n",
       "    </tr>\n",
       "    <tr>\n",
       "      <th>38634</th>\n",
       "      <td>(url, date, number)</td>\n",
       "      <td>295</td>\n",
       "    </tr>\n",
       "    <tr>\n",
       "      <th>34664</th>\n",
       "      <td>(number, sep, number)</td>\n",
       "      <td>295</td>\n",
       "    </tr>\n",
       "    <tr>\n",
       "      <th>38636</th>\n",
       "      <td>(number, number, numbertnumber)</td>\n",
       "      <td>293</td>\n",
       "    </tr>\n",
       "    <tr>\n",
       "      <th>38637</th>\n",
       "      <td>(number, numbertnumber, number)</td>\n",
       "      <td>293</td>\n",
       "    </tr>\n",
       "    <tr>\n",
       "      <th>38638</th>\n",
       "      <td>(numbertnumber, number, number)</td>\n",
       "      <td>293</td>\n",
       "    </tr>\n",
       "    <tr>\n",
       "      <th>34904</th>\n",
       "      <td>(sep, number, number)</td>\n",
       "      <td>283</td>\n",
       "    </tr>\n",
       "    <tr>\n",
       "      <th>27626</th>\n",
       "      <td>(url, email, sponsored)</td>\n",
       "      <td>262</td>\n",
       "    </tr>\n",
       "    <tr>\n",
       "      <th>33479</th>\n",
       "      <td>(list, mailing, list)</td>\n",
       "      <td>255</td>\n",
       "    </tr>\n",
       "    <tr>\n",
       "      <th>33478</th>\n",
       "      <td>(rpm, list, mailing)</td>\n",
       "      <td>254</td>\n",
       "    </tr>\n",
       "    <tr>\n",
       "      <th>33480</th>\n",
       "      <td>(mailing, list, rpm)</td>\n",
       "      <td>254</td>\n",
       "    </tr>\n",
       "    <tr>\n",
       "      <th>33481</th>\n",
       "      <td>(list, rpm, list)</td>\n",
       "      <td>254</td>\n",
       "    </tr>\n",
       "    <tr>\n",
       "      <th>33477</th>\n",
       "      <td>(_____________________________________________...</td>\n",
       "      <td>254</td>\n",
       "    </tr>\n",
       "    <tr>\n",
       "      <th>33482</th>\n",
       "      <td>(rpm, list, freshrpms)</td>\n",
       "      <td>222</td>\n",
       "    </tr>\n",
       "    <tr>\n",
       "      <th>33483</th>\n",
       "      <td>(list, freshrpms, net)</td>\n",
       "      <td>222</td>\n",
       "    </tr>\n",
       "    <tr>\n",
       "      <th>33484</th>\n",
       "      <td>(freshrpms, net, url)</td>\n",
       "      <td>221</td>\n",
       "    </tr>\n",
       "  </tbody>\n",
       "</table>\n",
       "</div>"
      ],
      "text/plain": [
       "                                                 Trigram  Frequency\n",
       "26392                           (number, number, number)       8231\n",
       "38633                                   (url, url, date)        544\n",
       "34170                              (number, url, number)        440\n",
       "34171                                 (url, number, url)        432\n",
       "38635                             (date, number, number)        298\n",
       "38634                                (url, date, number)        295\n",
       "34664                              (number, sep, number)        295\n",
       "38636                    (number, number, numbertnumber)        293\n",
       "38637                    (number, numbertnumber, number)        293\n",
       "38638                    (numbertnumber, number, number)        293\n",
       "34904                              (sep, number, number)        283\n",
       "27626                            (url, email, sponsored)        262\n",
       "33479                              (list, mailing, list)        255\n",
       "33478                               (rpm, list, mailing)        254\n",
       "33480                               (mailing, list, rpm)        254\n",
       "33481                                  (list, rpm, list)        254\n",
       "33477  (_____________________________________________...        254\n",
       "33482                             (rpm, list, freshrpms)        222\n",
       "33483                             (list, freshrpms, net)        222\n",
       "33484                              (freshrpms, net, url)        221"
      ]
     },
     "execution_count": 50,
     "metadata": {},
     "output_type": "execute_result"
    }
   ],
   "source": [
    "## df_en_ham TRIGRAM\n",
    "trigram_count = df_en_ham['cleaned_email'].apply(lambda x: tokenize_count_ngrams(x, 3))\n",
    "total_trigram_count = sum(trigram_count, Counter())\n",
    "trigram_frequency_df_en_ham = pd.DataFrame(total_trigram_count.items(), columns=['Trigram', 'Frequency'])\n",
    "trigram_frequency_df_en_ham = trigram_frequency_df_en_ham.sort_values(by='Frequency', ascending=False)\n",
    "\n",
    "trigram_frequency_df_en_ham.head(20)"
   ]
  },
  {
   "cell_type": "code",
   "execution_count": 51,
   "id": "150baaa3",
   "metadata": {},
   "outputs": [
    {
     "name": "stderr",
     "output_type": "stream",
     "text": [
      "/var/folders/g6/m9mjx8gn46xg9qvcz4921f_c0000gn/T/ipykernel_6686/3920992235.py:3: SettingWithCopyWarning: \n",
      "A value is trying to be set on a copy of a slice from a DataFrame.\n",
      "Try using .loc[row_indexer,col_indexer] = value instead\n",
      "\n",
      "See the caveats in the documentation: https://pandas.pydata.org/pandas-docs/stable/user_guide/indexing.html#returning-a-view-versus-a-copy\n",
      "  top_10_trigrams_ham['Frequency'] = top_10_trigrams_ham['Frequency'].astype(int)\n",
      "/var/folders/g6/m9mjx8gn46xg9qvcz4921f_c0000gn/T/ipykernel_6686/3920992235.py:4: SettingWithCopyWarning: \n",
      "A value is trying to be set on a copy of a slice from a DataFrame.\n",
      "Try using .loc[row_indexer,col_indexer] = value instead\n",
      "\n",
      "See the caveats in the documentation: https://pandas.pydata.org/pandas-docs/stable/user_guide/indexing.html#returning-a-view-versus-a-copy\n",
      "  top_10_trigrams_ham['Trigram'] = top_10_trigrams_ham['Trigram'].apply(lambda x: ' '.join(x))\n"
     ]
    },
    {
     "data": {
      "image/png": "[encoded data removed]",
      "text/plain": [
       "<Figure size 640x480 with 1 Axes>"
      ]
     },
     "metadata": {},
     "output_type": "display_data"
    }
   ],
   "source": [
    "## chart to see highest freq word and their count\n",
    "top_10_trigrams_ham = trigram_frequency_df_en_ham.head(10)\n",
    "top_10_trigrams_ham['Frequency'] = top_10_trigrams_ham['Frequency'].astype(int)\n",
    "top_10_trigrams_ham['Trigram'] = top_10_trigrams_ham['Trigram'].apply(lambda x: ' '.join(x))\n",
    "top_10_trigrams_ham = top_10_trigrams_ham.sort_values(by = 'Frequency', ascending = True)\n",
    "\n",
    "plt.barh(top_10_trigrams_ham['Trigram'], top_10_trigrams_ham['Frequency'], color='skyblue')\n",
    "plt.xlabel('Frequency')\n",
    "plt.ylabel('Word')\n",
    "plt.title('Top 10 Most Frequent Trigrams (HAM)')\n",
    "\n",
    "for index, value in enumerate(top_10_trigrams_ham['Frequency']):\n",
    "    plt.text(value, index, str(value), ha='left', va='center', color='black', fontsize=6)\n",
    "\n",
    "plt.show()"
   ]
  },
  {
   "cell_type": "code",
   "execution_count": 52,
   "id": "07819bf3",
   "metadata": {},
   "outputs": [
    {
     "data": {
      "text/html": [
       "<div>\n",
       "<style scoped>\n",
       "    .dataframe tbody tr th:only-of-type {\n",
       "        vertical-align: middle;\n",
       "    }\n",
       "\n",
       "    .dataframe tbody tr th {\n",
       "        vertical-align: top;\n",
       "    }\n",
       "\n",
       "    .dataframe thead th {\n",
       "        text-align: right;\n",
       "    }\n",
       "</style>\n",
       "<table border=\"1\" class=\"dataframe\">\n",
       "  <thead>\n",
       "    <tr style=\"text-align: right;\">\n",
       "      <th></th>\n",
       "      <th>Bigram</th>\n",
       "      <th>Frequency</th>\n",
       "    </tr>\n",
       "  </thead>\n",
       "  <tbody>\n",
       "    <tr>\n",
       "      <th>6623</th>\n",
       "      <td>(number, number)</td>\n",
       "      <td>2642</td>\n",
       "    </tr>\n",
       "    <tr>\n",
       "      <th>6608</th>\n",
       "      <td>(e, mail)</td>\n",
       "      <td>289</td>\n",
       "    </tr>\n",
       "    <tr>\n",
       "      <th>9604</th>\n",
       "      <td>(report, number)</td>\n",
       "      <td>181</td>\n",
       "    </tr>\n",
       "    <tr>\n",
       "      <th>7477</th>\n",
       "      <td>(hyperlink, hyperlink)</td>\n",
       "      <td>164</td>\n",
       "    </tr>\n",
       "    <tr>\n",
       "      <th>6585</th>\n",
       "      <td>(hyperlink, click)</td>\n",
       "      <td>151</td>\n",
       "    </tr>\n",
       "    <tr>\n",
       "      <th>8798</th>\n",
       "      <td>(e, mails)</td>\n",
       "      <td>110</td>\n",
       "    </tr>\n",
       "    <tr>\n",
       "      <th>6694</th>\n",
       "      <td>(number, million)</td>\n",
       "      <td>95</td>\n",
       "    </tr>\n",
       "    <tr>\n",
       "      <th>6665</th>\n",
       "      <td>(url, url)</td>\n",
       "      <td>94</td>\n",
       "    </tr>\n",
       "    <tr>\n",
       "      <th>2339</th>\n",
       "      <td>(name, address)</td>\n",
       "      <td>83</td>\n",
       "    </tr>\n",
       "    <tr>\n",
       "      <th>9518</th>\n",
       "      <td>(number, people)</td>\n",
       "      <td>78</td>\n",
       "    </tr>\n",
       "    <tr>\n",
       "      <th>10398</th>\n",
       "      <td>(united, states)</td>\n",
       "      <td>77</td>\n",
       "    </tr>\n",
       "    <tr>\n",
       "      <th>7028</th>\n",
       "      <td>(email, address)</td>\n",
       "      <td>72</td>\n",
       "    </tr>\n",
       "    <tr>\n",
       "      <th>7786</th>\n",
       "      <td>(price, number)</td>\n",
       "      <td>70</td>\n",
       "    </tr>\n",
       "    <tr>\n",
       "      <th>24362</th>\n",
       "      <td>(kingdom, enenkio)</td>\n",
       "      <td>70</td>\n",
       "    </tr>\n",
       "    <tr>\n",
       "      <th>6864</th>\n",
       "      <td>(wish, receive)</td>\n",
       "      <td>69</td>\n",
       "    </tr>\n",
       "    <tr>\n",
       "      <th>7346</th>\n",
       "      <td>(number, per)</td>\n",
       "      <td>68</td>\n",
       "    </tr>\n",
       "    <tr>\n",
       "      <th>9700</th>\n",
       "      <td>(number, e)</td>\n",
       "      <td>65</td>\n",
       "    </tr>\n",
       "    <tr>\n",
       "      <th>9703</th>\n",
       "      <td>(number, orders)</td>\n",
       "      <td>65</td>\n",
       "    </tr>\n",
       "    <tr>\n",
       "      <th>3153</th>\n",
       "      <td>(would, like)</td>\n",
       "      <td>65</td>\n",
       "    </tr>\n",
       "    <tr>\n",
       "      <th>7790</th>\n",
       "      <td>(send, number)</td>\n",
       "      <td>60</td>\n",
       "    </tr>\n",
       "  </tbody>\n",
       "</table>\n",
       "</div>"
      ],
      "text/plain": [
       "                       Bigram  Frequency\n",
       "6623         (number, number)       2642\n",
       "6608                (e, mail)        289\n",
       "9604         (report, number)        181\n",
       "7477   (hyperlink, hyperlink)        164\n",
       "6585       (hyperlink, click)        151\n",
       "8798               (e, mails)        110\n",
       "6694        (number, million)         95\n",
       "6665               (url, url)         94\n",
       "2339          (name, address)         83\n",
       "9518         (number, people)         78\n",
       "10398        (united, states)         77\n",
       "7028         (email, address)         72\n",
       "7786          (price, number)         70\n",
       "24362      (kingdom, enenkio)         70\n",
       "6864          (wish, receive)         69\n",
       "7346            (number, per)         68\n",
       "9700              (number, e)         65\n",
       "9703         (number, orders)         65\n",
       "3153            (would, like)         65\n",
       "7790           (send, number)         60"
      ]
     },
     "execution_count": 52,
     "metadata": {},
     "output_type": "execute_result"
    }
   ],
   "source": [
    "## df_en_spam BIGRAM\n",
    "bigram_count = df_en_spam['cleaned_email'].apply(lambda x: tokenize_count_ngrams(x, 2))\n",
    "total_bigram_count = sum(bigram_count, Counter())\n",
    "bigram_frequency_df_en_spam = pd.DataFrame(total_bigram_count.items(), columns=['Bigram', 'Frequency'])\n",
    "bigram_frequency_df_en_spam = bigram_frequency_df_en_spam.sort_values(by='Frequency', ascending=False)\n",
    "\n",
    "bigram_frequency_df_en_spam.head(20)"
   ]
  },
  {
   "cell_type": "code",
   "execution_count": 53,
   "id": "321f7060",
   "metadata": {},
   "outputs": [
    {
     "name": "stderr",
     "output_type": "stream",
     "text": [
      "/var/folders/g6/m9mjx8gn46xg9qvcz4921f_c0000gn/T/ipykernel_6686/555929207.py:3: SettingWithCopyWarning: \n",
      "A value is trying to be set on a copy of a slice from a DataFrame.\n",
      "Try using .loc[row_indexer,col_indexer] = value instead\n",
      "\n",
      "See the caveats in the documentation: https://pandas.pydata.org/pandas-docs/stable/user_guide/indexing.html#returning-a-view-versus-a-copy\n",
      "  top_10_bigrams_spam['Frequency'] = top_10_bigrams_spam['Frequency'].astype(int)\n",
      "/var/folders/g6/m9mjx8gn46xg9qvcz4921f_c0000gn/T/ipykernel_6686/555929207.py:4: SettingWithCopyWarning: \n",
      "A value is trying to be set on a copy of a slice from a DataFrame.\n",
      "Try using .loc[row_indexer,col_indexer] = value instead\n",
      "\n",
      "See the caveats in the documentation: https://pandas.pydata.org/pandas-docs/stable/user_guide/indexing.html#returning-a-view-versus-a-copy\n",
      "  top_10_bigrams_spam['Bigram'] = top_10_bigrams_spam['Bigram'].apply(lambda x: ' '.join(x))\n"
     ]
    },
    {
     "data": {
      "image/png": "[encoded data removed]",
      "text/plain": [
       "<Figure size 640x480 with 1 Axes>"
      ]
     },
     "metadata": {},
     "output_type": "display_data"
    }
   ],
   "source": [
    "## chart to see highest freq word and their count\n",
    "top_10_bigrams_spam = bigram_frequency_df_en_spam.head(10)\n",
    "top_10_bigrams_spam['Frequency'] = top_10_bigrams_spam['Frequency'].astype(int)\n",
    "top_10_bigrams_spam['Bigram'] = top_10_bigrams_spam['Bigram'].apply(lambda x: ' '.join(x))\n",
    "top_10_bigrams_spam = top_10_bigrams_spam.sort_values(by = 'Frequency', ascending = True)\n",
    "\n",
    "plt.barh(top_10_bigrams_spam['Bigram'], top_10_bigrams_spam['Frequency'], color='skyblue')\n",
    "plt.xlabel('Frequency')\n",
    "plt.ylabel('Word')\n",
    "plt.title('Top 10 Most Frequent Bigrams (SPAM)')\n",
    "\n",
    "for index, value in enumerate(top_10_bigrams_spam['Frequency']):\n",
    "    plt.text(value, index, str(value), ha='left', va='center', color='black', fontsize=6)\n",
    "\n",
    "plt.show()"
   ]
  },
  {
   "cell_type": "code",
   "execution_count": 54,
   "id": "d0188767",
   "metadata": {},
   "outputs": [
    {
     "data": {
      "text/html": [
       "<div>\n",
       "<style scoped>\n",
       "    .dataframe tbody tr th:only-of-type {\n",
       "        vertical-align: middle;\n",
       "    }\n",
       "\n",
       "    .dataframe tbody tr th {\n",
       "        vertical-align: top;\n",
       "    }\n",
       "\n",
       "    .dataframe thead th {\n",
       "        text-align: right;\n",
       "    }\n",
       "</style>\n",
       "<table border=\"1\" class=\"dataframe\">\n",
       "  <thead>\n",
       "    <tr style=\"text-align: right;\">\n",
       "      <th></th>\n",
       "      <th>Trigram</th>\n",
       "      <th>Frequency</th>\n",
       "    </tr>\n",
       "  </thead>\n",
       "  <tbody>\n",
       "    <tr>\n",
       "      <th>6623</th>\n",
       "      <td>(number, number)</td>\n",
       "      <td>2642</td>\n",
       "    </tr>\n",
       "    <tr>\n",
       "      <th>6608</th>\n",
       "      <td>(e, mail)</td>\n",
       "      <td>289</td>\n",
       "    </tr>\n",
       "    <tr>\n",
       "      <th>9604</th>\n",
       "      <td>(report, number)</td>\n",
       "      <td>181</td>\n",
       "    </tr>\n",
       "    <tr>\n",
       "      <th>7477</th>\n",
       "      <td>(hyperlink, hyperlink)</td>\n",
       "      <td>164</td>\n",
       "    </tr>\n",
       "    <tr>\n",
       "      <th>6585</th>\n",
       "      <td>(hyperlink, click)</td>\n",
       "      <td>151</td>\n",
       "    </tr>\n",
       "    <tr>\n",
       "      <th>8798</th>\n",
       "      <td>(e, mails)</td>\n",
       "      <td>110</td>\n",
       "    </tr>\n",
       "    <tr>\n",
       "      <th>6694</th>\n",
       "      <td>(number, million)</td>\n",
       "      <td>95</td>\n",
       "    </tr>\n",
       "    <tr>\n",
       "      <th>6665</th>\n",
       "      <td>(url, url)</td>\n",
       "      <td>94</td>\n",
       "    </tr>\n",
       "    <tr>\n",
       "      <th>2339</th>\n",
       "      <td>(name, address)</td>\n",
       "      <td>83</td>\n",
       "    </tr>\n",
       "    <tr>\n",
       "      <th>9518</th>\n",
       "      <td>(number, people)</td>\n",
       "      <td>78</td>\n",
       "    </tr>\n",
       "    <tr>\n",
       "      <th>10398</th>\n",
       "      <td>(united, states)</td>\n",
       "      <td>77</td>\n",
       "    </tr>\n",
       "    <tr>\n",
       "      <th>7028</th>\n",
       "      <td>(email, address)</td>\n",
       "      <td>72</td>\n",
       "    </tr>\n",
       "    <tr>\n",
       "      <th>7786</th>\n",
       "      <td>(price, number)</td>\n",
       "      <td>70</td>\n",
       "    </tr>\n",
       "    <tr>\n",
       "      <th>24362</th>\n",
       "      <td>(kingdom, enenkio)</td>\n",
       "      <td>70</td>\n",
       "    </tr>\n",
       "    <tr>\n",
       "      <th>6864</th>\n",
       "      <td>(wish, receive)</td>\n",
       "      <td>69</td>\n",
       "    </tr>\n",
       "    <tr>\n",
       "      <th>7346</th>\n",
       "      <td>(number, per)</td>\n",
       "      <td>68</td>\n",
       "    </tr>\n",
       "    <tr>\n",
       "      <th>9700</th>\n",
       "      <td>(number, e)</td>\n",
       "      <td>65</td>\n",
       "    </tr>\n",
       "    <tr>\n",
       "      <th>9703</th>\n",
       "      <td>(number, orders)</td>\n",
       "      <td>65</td>\n",
       "    </tr>\n",
       "    <tr>\n",
       "      <th>3153</th>\n",
       "      <td>(would, like)</td>\n",
       "      <td>65</td>\n",
       "    </tr>\n",
       "    <tr>\n",
       "      <th>7790</th>\n",
       "      <td>(send, number)</td>\n",
       "      <td>60</td>\n",
       "    </tr>\n",
       "  </tbody>\n",
       "</table>\n",
       "</div>"
      ],
      "text/plain": [
       "                      Trigram  Frequency\n",
       "6623         (number, number)       2642\n",
       "6608                (e, mail)        289\n",
       "9604         (report, number)        181\n",
       "7477   (hyperlink, hyperlink)        164\n",
       "6585       (hyperlink, click)        151\n",
       "8798               (e, mails)        110\n",
       "6694        (number, million)         95\n",
       "6665               (url, url)         94\n",
       "2339          (name, address)         83\n",
       "9518         (number, people)         78\n",
       "10398        (united, states)         77\n",
       "7028         (email, address)         72\n",
       "7786          (price, number)         70\n",
       "24362      (kingdom, enenkio)         70\n",
       "6864          (wish, receive)         69\n",
       "7346            (number, per)         68\n",
       "9700              (number, e)         65\n",
       "9703         (number, orders)         65\n",
       "3153            (would, like)         65\n",
       "7790           (send, number)         60"
      ]
     },
     "execution_count": 54,
     "metadata": {},
     "output_type": "execute_result"
    }
   ],
   "source": [
    "## df_en_spam TRIGRAM\n",
    "trigram_count = df_en_spam['cleaned_email'].apply(lambda x: tokenize_count_ngrams(x, 2))\n",
    "total_trigram_count = sum(trigram_count, Counter())\n",
    "trigram_frequency_df_en_spam = pd.DataFrame(total_trigram_count.items(), columns=['Trigram', 'Frequency'])\n",
    "trigram_frequency_df_en_spam = trigram_frequency_df_en_spam.sort_values(by='Frequency', ascending=False)\n",
    "\n",
    "trigram_frequency_df_en_spam.head(20)"
   ]
  },
  {
   "cell_type": "code",
   "execution_count": 55,
   "id": "327f0802",
   "metadata": {},
   "outputs": [
    {
     "name": "stderr",
     "output_type": "stream",
     "text": [
      "/var/folders/g6/m9mjx8gn46xg9qvcz4921f_c0000gn/T/ipykernel_6686/1433536651.py:3: SettingWithCopyWarning: \n",
      "A value is trying to be set on a copy of a slice from a DataFrame.\n",
      "Try using .loc[row_indexer,col_indexer] = value instead\n",
      "\n",
      "See the caveats in the documentation: https://pandas.pydata.org/pandas-docs/stable/user_guide/indexing.html#returning-a-view-versus-a-copy\n",
      "  top_10_trigrams_spam['Frequency'] = top_10_trigrams_spam['Frequency'].astype(int)\n",
      "/var/folders/g6/m9mjx8gn46xg9qvcz4921f_c0000gn/T/ipykernel_6686/1433536651.py:4: SettingWithCopyWarning: \n",
      "A value is trying to be set on a copy of a slice from a DataFrame.\n",
      "Try using .loc[row_indexer,col_indexer] = value instead\n",
      "\n",
      "See the caveats in the documentation: https://pandas.pydata.org/pandas-docs/stable/user_guide/indexing.html#returning-a-view-versus-a-copy\n",
      "  top_10_trigrams_spam['Trigram'] = top_10_trigrams_spam['Trigram'].apply(lambda x: ' '.join(x))\n"
     ]
    },
    {
     "data": {
      "image/png": "[encoded data removed]",
      "text/plain": [
       "<Figure size 640x480 with 1 Axes>"
      ]
     },
     "metadata": {},
     "output_type": "display_data"
    }
   ],
   "source": [
    "## chart to see highest freq word and their count\n",
    "top_10_trigrams_spam = trigram_frequency_df_en_spam.head(10)\n",
    "top_10_trigrams_spam['Frequency'] = top_10_trigrams_spam['Frequency'].astype(int)\n",
    "top_10_trigrams_spam['Trigram'] = top_10_trigrams_spam['Trigram'].apply(lambda x: ' '.join(x))\n",
    "top_10_trigrams_spam = top_10_trigrams_spam.sort_values(by = 'Frequency', ascending = True)\n",
    "\n",
    "plt.barh(top_10_trigrams_spam['Trigram'], top_10_trigrams_spam['Frequency'], color='skyblue')\n",
    "plt.xlabel('Frequency')\n",
    "plt.ylabel('Word')\n",
    "plt.title('Top 10 Most Frequent Trigrams (SPAM)')\n",
    "\n",
    "for index, value in enumerate(top_10_trigrams_spam['Frequency']):\n",
    "    plt.text(value, index, str(value), ha='left', va='center', color='black', fontsize=6)\n",
    "\n",
    "plt.show()"
   ]
  },
  {
   "cell_type": "markdown",
   "id": "527131b7",
   "metadata": {},
   "source": [
    "### ATTEMPT1: NOT dropping non-english emails --> translation"
   ]
  },
  {
   "cell_type": "code",
   "execution_count": 60,
   "id": "22a73b6c",
   "metadata": {},
   "outputs": [],
   "source": [
    "df_all_languages = df.copy()"
   ]
  },
  {
   "cell_type": "code",
   "execution_count": 61,
   "id": "6966118a",
   "metadata": {},
   "outputs": [
    {
     "data": {
      "text/html": [
       "<div>\n",
       "<style scoped>\n",
       "    .dataframe tbody tr th:only-of-type {\n",
       "        vertical-align: middle;\n",
       "    }\n",
       "\n",
       "    .dataframe tbody tr th {\n",
       "        vertical-align: top;\n",
       "    }\n",
       "\n",
       "    .dataframe thead th {\n",
       "        text-align: right;\n",
       "    }\n",
       "</style>\n",
       "<table border=\"1\" class=\"dataframe\">\n",
       "  <thead>\n",
       "    <tr style=\"text-align: right;\">\n",
       "      <th></th>\n",
       "      <th>label</th>\n",
       "      <th>email</th>\n",
       "      <th>language</th>\n",
       "    </tr>\n",
       "  </thead>\n",
       "  <tbody>\n",
       "    <tr>\n",
       "      <th>0</th>\n",
       "      <td>0</td>\n",
       "      <td>go until jurong point, crazy.. available only ...</td>\n",
       "      <td>en</td>\n",
       "    </tr>\n",
       "    <tr>\n",
       "      <th>1</th>\n",
       "      <td>0</td>\n",
       "      <td>ok lar... joking wif u oni...</td>\n",
       "      <td>hr</td>\n",
       "    </tr>\n",
       "    <tr>\n",
       "      <th>2</th>\n",
       "      <td>1</td>\n",
       "      <td>free entry in 2 a wkly comp to win fa cup fina...</td>\n",
       "      <td>en</td>\n",
       "    </tr>\n",
       "    <tr>\n",
       "      <th>3</th>\n",
       "      <td>0</td>\n",
       "      <td>u dun say so early hor... u c already then say...</td>\n",
       "      <td>so</td>\n",
       "    </tr>\n",
       "    <tr>\n",
       "      <th>4</th>\n",
       "      <td>0</td>\n",
       "      <td>nah i don't think he goes to usf, he lives aro...</td>\n",
       "      <td>en</td>\n",
       "    </tr>\n",
       "  </tbody>\n",
       "</table>\n",
       "</div>"
      ],
      "text/plain": [
       "   label                                              email language\n",
       "0      0  go until jurong point, crazy.. available only ...       en\n",
       "1      0                      ok lar... joking wif u oni...       hr\n",
       "2      1  free entry in 2 a wkly comp to win fa cup fina...       en\n",
       "3      0  u dun say so early hor... u c already then say...       so\n",
       "4      0  nah i don't think he goes to usf, he lives aro...       en"
      ]
     },
     "execution_count": 61,
     "metadata": {},
     "output_type": "execute_result"
    }
   ],
   "source": [
    "df_all_languages.head()"
   ]
  },
  {
   "cell_type": "code",
   "execution_count": 62,
   "id": "0fe4797c",
   "metadata": {},
   "outputs": [
    {
     "data": {
      "text/plain": [
       "(8029, 3)"
      ]
     },
     "execution_count": 62,
     "metadata": {},
     "output_type": "execute_result"
    }
   ],
   "source": [
    "df_all_languages.shape"
   ]
  },
  {
   "cell_type": "code",
   "execution_count": 63,
   "id": "a9902e52",
   "metadata": {},
   "outputs": [
    {
     "ename": "LangDetectException",
     "evalue": "No features in text.",
     "output_type": "error",
     "traceback": [
      "\u001b[0;31m---------------------------------------------------------------------------\u001b[0m",
      "\u001b[0;31mLangDetectException\u001b[0m                       Traceback (most recent call last)",
      "\u001b[0;32m/var/folders/g6/m9mjx8gn46xg9qvcz4921f_c0000gn/T/ipykernel_1209/1338341933.py\u001b[0m in \u001b[0;36m<module>\u001b[0;34m\u001b[0m\n\u001b[1;32m      8\u001b[0m     \u001b[0;32mreturn\u001b[0m \u001b[0mtext\u001b[0m\u001b[0;34m\u001b[0m\u001b[0;34m\u001b[0m\u001b[0m\n\u001b[1;32m      9\u001b[0m \u001b[0;34m\u001b[0m\u001b[0m\n\u001b[0;32m---> 10\u001b[0;31m \u001b[0mdf_all_languages\u001b[0m\u001b[0;34m[\u001b[0m\u001b[0;34m'email'\u001b[0m\u001b[0;34m]\u001b[0m \u001b[0;34m=\u001b[0m \u001b[0mdf_all_languages\u001b[0m\u001b[0;34m[\u001b[0m\u001b[0;34m'email'\u001b[0m\u001b[0;34m]\u001b[0m\u001b[0;34m.\u001b[0m\u001b[0mapply\u001b[0m\u001b[0;34m(\u001b[0m\u001b[0mtranslate_to_english\u001b[0m\u001b[0;34m)\u001b[0m\u001b[0;34m\u001b[0m\u001b[0;34m\u001b[0m\u001b[0m\n\u001b[0m",
      "\u001b[0;32m~/opt/anaconda3/lib/python3.9/site-packages/pandas/core/series.py\u001b[0m in \u001b[0;36mapply\u001b[0;34m(self, func, convert_dtype, args, **kwargs)\u001b[0m\n\u001b[1;32m   4431\u001b[0m         \u001b[0mdtype\u001b[0m\u001b[0;34m:\u001b[0m \u001b[0mfloat64\u001b[0m\u001b[0;34m\u001b[0m\u001b[0;34m\u001b[0m\u001b[0m\n\u001b[1;32m   4432\u001b[0m         \"\"\"\n\u001b[0;32m-> 4433\u001b[0;31m         \u001b[0;32mreturn\u001b[0m \u001b[0mSeriesApply\u001b[0m\u001b[0;34m(\u001b[0m\u001b[0mself\u001b[0m\u001b[0;34m,\u001b[0m \u001b[0mfunc\u001b[0m\u001b[0;34m,\u001b[0m \u001b[0mconvert_dtype\u001b[0m\u001b[0;34m,\u001b[0m \u001b[0margs\u001b[0m\u001b[0;34m,\u001b[0m \u001b[0mkwargs\u001b[0m\u001b[0;34m)\u001b[0m\u001b[0;34m.\u001b[0m\u001b[0mapply\u001b[0m\u001b[0;34m(\u001b[0m\u001b[0;34m)\u001b[0m\u001b[0;34m\u001b[0m\u001b[0;34m\u001b[0m\u001b[0m\n\u001b[0m\u001b[1;32m   4434\u001b[0m \u001b[0;34m\u001b[0m\u001b[0m\n\u001b[1;32m   4435\u001b[0m     def _reduce(\n",
      "\u001b[0;32m~/opt/anaconda3/lib/python3.9/site-packages/pandas/core/apply.py\u001b[0m in \u001b[0;36mapply\u001b[0;34m(self)\u001b[0m\n\u001b[1;32m   1086\u001b[0m             \u001b[0;32mreturn\u001b[0m \u001b[0mself\u001b[0m\u001b[0;34m.\u001b[0m\u001b[0mapply_str\u001b[0m\u001b[0;34m(\u001b[0m\u001b[0;34m)\u001b[0m\u001b[0;34m\u001b[0m\u001b[0;34m\u001b[0m\u001b[0m\n\u001b[1;32m   1087\u001b[0m \u001b[0;34m\u001b[0m\u001b[0m\n\u001b[0;32m-> 1088\u001b[0;31m         \u001b[0;32mreturn\u001b[0m \u001b[0mself\u001b[0m\u001b[0;34m.\u001b[0m\u001b[0mapply_standard\u001b[0m\u001b[0;34m(\u001b[0m\u001b[0;34m)\u001b[0m\u001b[0;34m\u001b[0m\u001b[0;34m\u001b[0m\u001b[0m\n\u001b[0m\u001b[1;32m   1089\u001b[0m \u001b[0;34m\u001b[0m\u001b[0m\n\u001b[1;32m   1090\u001b[0m     \u001b[0;32mdef\u001b[0m \u001b[0magg\u001b[0m\u001b[0;34m(\u001b[0m\u001b[0mself\u001b[0m\u001b[0;34m)\u001b[0m\u001b[0;34m:\u001b[0m\u001b[0;34m\u001b[0m\u001b[0;34m\u001b[0m\u001b[0m\n",
      "\u001b[0;32m~/opt/anaconda3/lib/python3.9/site-packages/pandas/core/apply.py\u001b[0m in \u001b[0;36mapply_standard\u001b[0;34m(self)\u001b[0m\n\u001b[1;32m   1141\u001b[0m                 \u001b[0;31m# List[Union[Callable[..., Any], str]]]]]\"; expected\u001b[0m\u001b[0;34m\u001b[0m\u001b[0;34m\u001b[0m\u001b[0m\n\u001b[1;32m   1142\u001b[0m                 \u001b[0;31m# \"Callable[[Any], Any]\"\u001b[0m\u001b[0;34m\u001b[0m\u001b[0;34m\u001b[0m\u001b[0m\n\u001b[0;32m-> 1143\u001b[0;31m                 mapped = lib.map_infer(\n\u001b[0m\u001b[1;32m   1144\u001b[0m                     \u001b[0mvalues\u001b[0m\u001b[0;34m,\u001b[0m\u001b[0;34m\u001b[0m\u001b[0;34m\u001b[0m\u001b[0m\n\u001b[1;32m   1145\u001b[0m                     \u001b[0mf\u001b[0m\u001b[0;34m,\u001b[0m  \u001b[0;31m# type: ignore[arg-type]\u001b[0m\u001b[0;34m\u001b[0m\u001b[0;34m\u001b[0m\u001b[0m\n",
      "\u001b[0;32m~/opt/anaconda3/lib/python3.9/site-packages/pandas/_libs/lib.pyx\u001b[0m in \u001b[0;36mpandas._libs.lib.map_infer\u001b[0;34m()\u001b[0m\n",
      "\u001b[0;32m/var/folders/g6/m9mjx8gn46xg9qvcz4921f_c0000gn/T/ipykernel_1209/1338341933.py\u001b[0m in \u001b[0;36mtranslate_to_english\u001b[0;34m(text)\u001b[0m\n\u001b[1;32m      1\u001b[0m \u001b[0;32mdef\u001b[0m \u001b[0mtranslate_to_english\u001b[0m\u001b[0;34m(\u001b[0m\u001b[0mtext\u001b[0m\u001b[0;34m)\u001b[0m\u001b[0;34m:\u001b[0m\u001b[0;34m\u001b[0m\u001b[0;34m\u001b[0m\u001b[0m\n\u001b[1;32m      2\u001b[0m     \u001b[0;32mif\u001b[0m \u001b[0mtext\u001b[0m \u001b[0;32mand\u001b[0m \u001b[0mlen\u001b[0m\u001b[0;34m(\u001b[0m\u001b[0mtext\u001b[0m\u001b[0;34m)\u001b[0m \u001b[0;34m>\u001b[0m \u001b[0;36m3\u001b[0m\u001b[0;34m:\u001b[0m\u001b[0;34m\u001b[0m\u001b[0;34m\u001b[0m\u001b[0m\n\u001b[0;32m----> 3\u001b[0;31m         \u001b[0mlanguage\u001b[0m \u001b[0;34m=\u001b[0m \u001b[0mdetect\u001b[0m\u001b[0;34m(\u001b[0m\u001b[0mtext\u001b[0m\u001b[0;34m)\u001b[0m\u001b[0;34m\u001b[0m\u001b[0;34m\u001b[0m\u001b[0m\n\u001b[0m\u001b[1;32m      4\u001b[0m         \u001b[0;32mif\u001b[0m \u001b[0mlanguage\u001b[0m \u001b[0;34m!=\u001b[0m \u001b[0;34m'en'\u001b[0m\u001b[0;34m:\u001b[0m\u001b[0;34m\u001b[0m\u001b[0;34m\u001b[0m\u001b[0m\n\u001b[1;32m      5\u001b[0m             \u001b[0mtranslator\u001b[0m \u001b[0;34m=\u001b[0m \u001b[0mTranslator\u001b[0m\u001b[0;34m(\u001b[0m\u001b[0;34m)\u001b[0m\u001b[0;34m\u001b[0m\u001b[0;34m\u001b[0m\u001b[0m\n",
      "\u001b[0;32m~/opt/anaconda3/lib/python3.9/site-packages/langdetect/detector_factory.py\u001b[0m in \u001b[0;36mdetect\u001b[0;34m(text)\u001b[0m\n\u001b[1;32m    128\u001b[0m     \u001b[0mdetector\u001b[0m \u001b[0;34m=\u001b[0m \u001b[0m_factory\u001b[0m\u001b[0;34m.\u001b[0m\u001b[0mcreate\u001b[0m\u001b[0;34m(\u001b[0m\u001b[0;34m)\u001b[0m\u001b[0;34m\u001b[0m\u001b[0;34m\u001b[0m\u001b[0m\n\u001b[1;32m    129\u001b[0m     \u001b[0mdetector\u001b[0m\u001b[0;34m.\u001b[0m\u001b[0mappend\u001b[0m\u001b[0;34m(\u001b[0m\u001b[0mtext\u001b[0m\u001b[0;34m)\u001b[0m\u001b[0;34m\u001b[0m\u001b[0;34m\u001b[0m\u001b[0m\n\u001b[0;32m--> 130\u001b[0;31m     \u001b[0;32mreturn\u001b[0m \u001b[0mdetector\u001b[0m\u001b[0;34m.\u001b[0m\u001b[0mdetect\u001b[0m\u001b[0;34m(\u001b[0m\u001b[0;34m)\u001b[0m\u001b[0;34m\u001b[0m\u001b[0;34m\u001b[0m\u001b[0m\n\u001b[0m\u001b[1;32m    131\u001b[0m \u001b[0;34m\u001b[0m\u001b[0m\n\u001b[1;32m    132\u001b[0m \u001b[0;34m\u001b[0m\u001b[0m\n",
      "\u001b[0;32m~/opt/anaconda3/lib/python3.9/site-packages/langdetect/detector.py\u001b[0m in \u001b[0;36mdetect\u001b[0;34m(self)\u001b[0m\n\u001b[1;32m    134\u001b[0m         \u001b[0mwhich\u001b[0m \u001b[0mhas\u001b[0m \u001b[0mthe\u001b[0m \u001b[0mhighest\u001b[0m \u001b[0mprobability\u001b[0m\u001b[0;34m.\u001b[0m\u001b[0;34m\u001b[0m\u001b[0;34m\u001b[0m\u001b[0m\n\u001b[1;32m    135\u001b[0m         '''\n\u001b[0;32m--> 136\u001b[0;31m         \u001b[0mprobabilities\u001b[0m \u001b[0;34m=\u001b[0m \u001b[0mself\u001b[0m\u001b[0;34m.\u001b[0m\u001b[0mget_probabilities\u001b[0m\u001b[0;34m(\u001b[0m\u001b[0;34m)\u001b[0m\u001b[0;34m\u001b[0m\u001b[0;34m\u001b[0m\u001b[0m\n\u001b[0m\u001b[1;32m    137\u001b[0m         \u001b[0;32mif\u001b[0m \u001b[0mprobabilities\u001b[0m\u001b[0;34m:\u001b[0m\u001b[0;34m\u001b[0m\u001b[0;34m\u001b[0m\u001b[0m\n\u001b[1;32m    138\u001b[0m             \u001b[0;32mreturn\u001b[0m \u001b[0mprobabilities\u001b[0m\u001b[0;34m[\u001b[0m\u001b[0;36m0\u001b[0m\u001b[0;34m]\u001b[0m\u001b[0;34m.\u001b[0m\u001b[0mlang\u001b[0m\u001b[0;34m\u001b[0m\u001b[0;34m\u001b[0m\u001b[0m\n",
      "\u001b[0;32m~/opt/anaconda3/lib/python3.9/site-packages/langdetect/detector.py\u001b[0m in \u001b[0;36mget_probabilities\u001b[0;34m(self)\u001b[0m\n\u001b[1;32m    141\u001b[0m     \u001b[0;32mdef\u001b[0m \u001b[0mget_probabilities\u001b[0m\u001b[0;34m(\u001b[0m\u001b[0mself\u001b[0m\u001b[0;34m)\u001b[0m\u001b[0;34m:\u001b[0m\u001b[0;34m\u001b[0m\u001b[0;34m\u001b[0m\u001b[0m\n\u001b[1;32m    142\u001b[0m         \u001b[0;32mif\u001b[0m \u001b[0mself\u001b[0m\u001b[0;34m.\u001b[0m\u001b[0mlangprob\u001b[0m \u001b[0;32mis\u001b[0m \u001b[0;32mNone\u001b[0m\u001b[0;34m:\u001b[0m\u001b[0;34m\u001b[0m\u001b[0;34m\u001b[0m\u001b[0m\n\u001b[0;32m--> 143\u001b[0;31m             \u001b[0mself\u001b[0m\u001b[0;34m.\u001b[0m\u001b[0m_detect_block\u001b[0m\u001b[0;34m(\u001b[0m\u001b[0;34m)\u001b[0m\u001b[0;34m\u001b[0m\u001b[0;34m\u001b[0m\u001b[0m\n\u001b[0m\u001b[1;32m    144\u001b[0m         \u001b[0;32mreturn\u001b[0m \u001b[0mself\u001b[0m\u001b[0;34m.\u001b[0m\u001b[0m_sort_probability\u001b[0m\u001b[0;34m(\u001b[0m\u001b[0mself\u001b[0m\u001b[0;34m.\u001b[0m\u001b[0mlangprob\u001b[0m\u001b[0;34m)\u001b[0m\u001b[0;34m\u001b[0m\u001b[0;34m\u001b[0m\u001b[0m\n\u001b[1;32m    145\u001b[0m \u001b[0;34m\u001b[0m\u001b[0m\n",
      "\u001b[0;32m~/opt/anaconda3/lib/python3.9/site-packages/langdetect/detector.py\u001b[0m in \u001b[0;36m_detect_block\u001b[0;34m(self)\u001b[0m\n\u001b[1;32m    148\u001b[0m         \u001b[0mngrams\u001b[0m \u001b[0;34m=\u001b[0m \u001b[0mself\u001b[0m\u001b[0;34m.\u001b[0m\u001b[0m_extract_ngrams\u001b[0m\u001b[0;34m(\u001b[0m\u001b[0;34m)\u001b[0m\u001b[0;34m\u001b[0m\u001b[0;34m\u001b[0m\u001b[0m\n\u001b[1;32m    149\u001b[0m         \u001b[0;32mif\u001b[0m \u001b[0;32mnot\u001b[0m \u001b[0mngrams\u001b[0m\u001b[0;34m:\u001b[0m\u001b[0;34m\u001b[0m\u001b[0;34m\u001b[0m\u001b[0m\n\u001b[0;32m--> 150\u001b[0;31m             \u001b[0;32mraise\u001b[0m \u001b[0mLangDetectException\u001b[0m\u001b[0;34m(\u001b[0m\u001b[0mErrorCode\u001b[0m\u001b[0;34m.\u001b[0m\u001b[0mCantDetectError\u001b[0m\u001b[0;34m,\u001b[0m \u001b[0;34m'No features in text.'\u001b[0m\u001b[0;34m)\u001b[0m\u001b[0;34m\u001b[0m\u001b[0;34m\u001b[0m\u001b[0m\n\u001b[0m\u001b[1;32m    151\u001b[0m \u001b[0;34m\u001b[0m\u001b[0m\n\u001b[1;32m    152\u001b[0m         \u001b[0mself\u001b[0m\u001b[0;34m.\u001b[0m\u001b[0mlangprob\u001b[0m \u001b[0;34m=\u001b[0m \u001b[0;34m[\u001b[0m\u001b[0;36m0.0\u001b[0m\u001b[0;34m]\u001b[0m \u001b[0;34m*\u001b[0m \u001b[0mlen\u001b[0m\u001b[0;34m(\u001b[0m\u001b[0mself\u001b[0m\u001b[0;34m.\u001b[0m\u001b[0mlanglist\u001b[0m\u001b[0;34m)\u001b[0m\u001b[0;34m\u001b[0m\u001b[0;34m\u001b[0m\u001b[0m\n",
      "\u001b[0;31mLangDetectException\u001b[0m: No features in text."
     ]
    }
   ],
   "source": [
    "def translate_to_english(text):\n",
    "    if text and len(text) > 3:\n",
    "        language = detect(text)\n",
    "        if language != 'en':\n",
    "            translator = Translator()\n",
    "            translated_text = translator.translate(text, src=language, dest='en').text\n",
    "            return translated_text\n",
    "    return text\n",
    "    \n",
    "df_all_languages['email'] = df_all_languages['email'].apply(translate_to_english)"
   ]
  }
 ],
 "metadata": {
  "kernelspec": {
   "display_name": "Python 3 (ipykernel)",
   "language": "python",
   "name": "python3"
  },
  "language_info": {
   "codemirror_mode": {
    "name": "ipython",
    "version": 3
   },
   "file_extension": ".py",
   "mimetype": "text/x-python",
   "name": "python",
   "nbconvert_exporter": "python",
   "pygments_lexer": "ipython3",
   "version": "3.9.13"
  }
 },
 "nbformat": 4,
 "nbformat_minor": 5
}

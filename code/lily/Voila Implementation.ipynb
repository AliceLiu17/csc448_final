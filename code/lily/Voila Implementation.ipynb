{
 "cells": [
  {
   "cell_type": "code",
   "execution_count": 1,
   "id": "95ff642f",
   "metadata": {},
   "outputs": [],
   "source": [
    "# Pandas and numpy for data wrangling\n",
    "import pandas as pd\n",
    "import numpy as np\n",
    "\n",
    "# Seaborn / matplotlib for visualization \n",
    "import seaborn as sns\n",
    "sns.set()\n",
    "import matplotlib.pyplot as plt\n",
    "%matplotlib inline\n",
    "\n",
    "# Import the trees from sklearn\n",
    "from sklearn import tree\n",
    "\n",
    "# Helper function to split our data\n",
    "from sklearn.model_selection import train_test_split\n",
    "from sklearn.ensemble import RandomForestClassifier\n",
    "\n",
    "from sklearn.metrics import accuracy_score, precision_score\n",
    "from sklearn.metrics import classification_report\n",
    "from sklearn.feature_extraction.text import CountVectorizer, TfidfVectorizer"
   ]
  },
  {
   "cell_type": "code",
   "execution_count": 2,
   "id": "7e7806d8",
   "metadata": {},
   "outputs": [],
   "source": [
    "import nltk\n",
    "from nltk.corpus import stopwords\n",
    "from nltk.tokenize import word_tokenize\n",
    "from nltk.stem import PorterStemmer\n",
    "import string\n",
    "\n",
    "# downloading necessary libraries from nltk on here\n",
    "#import ssl\n",
    "#ssl._create_default_https_context = ssl._create_unverified_context\n",
    "#nltk.download('punkt')\n",
    "#nltk.download('stopwords')\n",
    "\n",
    "def preprocess_input(text):\n",
    "    # Tokenize the text\n",
    "    tokens = word_tokenize(text.lower())  # Convert to lowercase\n",
    "    \n",
    "    # Remove punctuation\n",
    "    tokens = [word for word in tokens if word.isalpha()]  # Remove non-alphabetic tokens\n",
    "    \n",
    "    # Remove stopwords\n",
    "    stop_words = set(stopwords.words('english'))\n",
    "    tokens = [word for word in tokens if word not in stop_words]\n",
    "    \n",
    "    # Stemming\n",
    "    stemmer = PorterStemmer()\n",
    "    tokens = [stemmer.stem(word) for word in tokens]\n",
    "    \n",
    "    # Join tokens back into a string\n",
    "    processed_text = ' '.join(tokens)\n",
    "    \n",
    "    return processed_text\n"
   ]
  },
  {
   "cell_type": "code",
   "execution_count": 3,
   "id": "e9bce590",
   "metadata": {},
   "outputs": [],
   "source": [
    "data = \"https://raw.githubusercontent.com/AliceLiu17/csc448_final/main/data/preprocessed_dataset/preprocessed_english.csv\"\n",
    "\n",
    "df = pd.read_csv(data)\n",
    "# df.head()"
   ]
  },
  {
   "cell_type": "code",
   "execution_count": 4,
   "id": "8c500fa0",
   "metadata": {},
   "outputs": [],
   "source": [
    "# Initialize CountVectorizer and TfidfVectorizer\n",
    "cv = CountVectorizer()  # CountVectorizer for another approach\n",
    "tfidf_vectorizer = TfidfVectorizer(max_features=3000)  # TfidfVectorizer limiting to 3000 features\n",
    "\n",
    "# Apply TfidfVectorizer on the 'processed_email' column of your DataFrame\n",
    "X_tfidf = tfidf_vectorizer.fit_transform(df['processed_email'])  # Transform text to TF-IDF features\n",
    "y = df['label'].values  # Assign labels to 'y'\n",
    "\n",
    "# Split the dataset into training and testing sets\n",
    "X_train, X_test, y_train, y_test = train_test_split(X_tfidf, y, test_size=0.20, random_state=45)\n",
    "\n",
    "# Initialize Random Forest Classifier with specific parameters\n",
    "rfc = RandomForestClassifier(n_estimators=50, random_state=2)  # Create a RandomForestClassifier with 50 estimators\n",
    "\n",
    "# Train the Random Forest Classifier on the training data\n",
    "rfc.fit(X_train, y_train)\n",
    "\n",
    "# Make predictions on the test set\n",
    "y_pred = rfc.predict(X_test)\n",
    "\n",
    "# Calculate accuracy and precision of the model\n",
    "accuracy = accuracy_score(y_test, y_pred)  # Calculate accuracy\n",
    "precision = precision_score(y_test, y_pred)  # Calculate precision"
   ]
  },
  {
   "cell_type": "code",
   "execution_count": 7,
   "id": "2b2cfd9c",
   "metadata": {},
   "outputs": [
    {
     "data": {
      "application/vnd.jupyter.widget-view+json": {
       "model_id": "62d5a465451f4355bc53040a1472327f",
       "version_major": 2,
       "version_minor": 0
      },
      "text/plain": [
       "Text(value='', description='Sample Text:', placeholder='Type your sample text here')"
      ]
     },
     "metadata": {},
     "output_type": "display_data"
    },
    {
     "data": {
      "application/vnd.jupyter.widget-view+json": {
       "model_id": "209854e32ec04a36b8f79381893dc498",
       "version_major": 2,
       "version_minor": 0
      },
      "text/plain": [
       "Button(description='Predict', style=ButtonStyle())"
      ]
     },
     "metadata": {},
     "output_type": "display_data"
    },
    {
     "data": {
      "application/vnd.jupyter.widget-view+json": {
       "model_id": "380bc11876024cd5b12ccd3456dff8a0",
       "version_major": 2,
       "version_minor": 0
      },
      "text/plain": [
       "Output()"
      ]
     },
     "metadata": {},
     "output_type": "display_data"
    }
   ],
   "source": [
    "import ipywidgets as widgets\n",
    "from IPython.display import display\n",
    "\n",
    "# Function to predict if input text is spam or not\n",
    "def predict_spam(sample_text):\n",
    "    # Assume preprocess_input() is your function to preprocess the input text\n",
    "    preprocessed_text = preprocess_input(sample_text)\n",
    "    \n",
    "    preprocessed_vectorized = tfidf_vectorizer.transform([preprocessed_text])\n",
    "\n",
    "    # Assume predict_spam() is your function to predict using your model\n",
    "    prediction = rfc.predict(preprocessed_vectorized)\n",
    "    \n",
    "    if prediction[0] == 1:\n",
    "        return \"This is a SPAM email.\"\n",
    "    else:\n",
    "        return \"This is NOT a spam email.\"\n",
    "\n",
    "# Creating text input widget for user input\n",
    "text_input = widgets.Text(\n",
    "    value='',\n",
    "    placeholder='Type your sample text here',\n",
    "    description='Sample Text:',\n",
    "    disabled=False\n",
    ")\n",
    "\n",
    "# Function to handle user input and display prediction\n",
    "def on_button_click(b):\n",
    "    sample_text = text_input.value\n",
    "    prediction = predict_spam(sample_text)\n",
    "    with output:\n",
    "        print(prediction)\n",
    "\n",
    "# Creating a button for prediction\n",
    "button = widgets.Button(description=\"Predict\")\n",
    "button.on_click(on_button_click)\n",
    "\n",
    "# Displaying the widgets\n",
    "output = widgets.Output()\n",
    "display(text_input, button, output)"
   ]
  },
  {
   "cell_type": "code",
   "execution_count": null,
   "id": "e01ec62a",
   "metadata": {},
   "outputs": [],
   "source": []
  }
 ],
 "metadata": {
  "kernelspec": {
   "display_name": "Python 3 (ipykernel)",
   "language": "python",
   "name": "python3"
  },
  "language_info": {
   "codemirror_mode": {
    "name": "ipython",
    "version": 3
   },
   "file_extension": ".py",
   "mimetype": "text/x-python",
   "name": "python",
   "nbconvert_exporter": "python",
   "pygments_lexer": "ipython3",
   "version": "3.9.7"
  }
 },
 "nbformat": 4,
 "nbformat_minor": 5
}

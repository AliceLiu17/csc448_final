{
 "cells": [
  {
   "cell_type": "code",
   "execution_count": 57,
   "id": "aeb1b9f8",
   "metadata": {},
   "outputs": [],
   "source": [
    "import pandas as pd\n",
    "import numpy as np\n",
    "import matplotlib.pyplot as plt"
   ]
  },
  {
   "cell_type": "code",
   "execution_count": 65,
   "id": "317d21d3",
   "metadata": {},
   "outputs": [
    {
     "data": {
      "text/html": [
       "<div>\n",
       "<style scoped>\n",
       "    .dataframe tbody tr th:only-of-type {\n",
       "        vertical-align: middle;\n",
       "    }\n",
       "\n",
       "    .dataframe tbody tr th {\n",
       "        vertical-align: top;\n",
       "    }\n",
       "\n",
       "    .dataframe thead th {\n",
       "        text-align: right;\n",
       "    }\n",
       "</style>\n",
       "<table border=\"1\" class=\"dataframe\">\n",
       "  <thead>\n",
       "    <tr style=\"text-align: right;\">\n",
       "      <th></th>\n",
       "      <th>label</th>\n",
       "      <th>email</th>\n",
       "    </tr>\n",
       "  </thead>\n",
       "  <tbody>\n",
       "    <tr>\n",
       "      <th>0</th>\n",
       "      <td>0</td>\n",
       "      <td>Go until jurong point, crazy.. Available only ...</td>\n",
       "    </tr>\n",
       "    <tr>\n",
       "      <th>1</th>\n",
       "      <td>0</td>\n",
       "      <td>Ok lar... Joking wif u oni...</td>\n",
       "    </tr>\n",
       "    <tr>\n",
       "      <th>2</th>\n",
       "      <td>1</td>\n",
       "      <td>Free entry in 2 a wkly comp to win FA Cup fina...</td>\n",
       "    </tr>\n",
       "    <tr>\n",
       "      <th>3</th>\n",
       "      <td>0</td>\n",
       "      <td>U dun say so early hor... U c already then say...</td>\n",
       "    </tr>\n",
       "    <tr>\n",
       "      <th>4</th>\n",
       "      <td>0</td>\n",
       "      <td>Nah I don't think he goes to usf, he lives aro...</td>\n",
       "    </tr>\n",
       "  </tbody>\n",
       "</table>\n",
       "</div>"
      ],
      "text/plain": [
       "   label                                              email\n",
       "0      0  Go until jurong point, crazy.. Available only ...\n",
       "1      0                      Ok lar... Joking wif u oni...\n",
       "2      1  Free entry in 2 a wkly comp to win FA Cup fina...\n",
       "3      0  U dun say so early hor... U c already then say...\n",
       "4      0  Nah I don't think he goes to usf, he lives aro..."
      ]
     },
     "execution_count": 65,
     "metadata": {},
     "output_type": "execute_result"
    }
   ],
   "source": [
    "url = \"https://raw.githubusercontent.com/AliceLiu17/csc448_final/main/data/combined_data_clean.csv\"\n",
    "df = pd.read_csv(url)\n",
    "\n",
    "df.head()"
   ]
  },
  {
   "cell_type": "markdown",
   "id": "14e527e1",
   "metadata": {},
   "source": [
    "### Understanding the data"
   ]
  },
  {
   "cell_type": "code",
   "execution_count": 66,
   "id": "7284cdde",
   "metadata": {},
   "outputs": [
    {
     "data": {
      "text/plain": [
       "(8029, 2)"
      ]
     },
     "execution_count": 66,
     "metadata": {},
     "output_type": "execute_result"
    }
   ],
   "source": [
    "df.shape"
   ]
  },
  {
   "cell_type": "code",
   "execution_count": 67,
   "id": "d8681d7a",
   "metadata": {},
   "outputs": [
    {
     "data": {
      "text/plain": [
       "array(['Go until jurong point, crazy.. Available only in bugis n great world la e buffet... Cine there got amore wat...',\n",
       "       'Ok lar... Joking wif u oni...',\n",
       "       \"Free entry in 2 a wkly comp to win FA Cup final tkts 21st May 2005. Text FA to 87121 to receive entry question(std txt rate)T&C's apply 08452810075over18's\",\n",
       "       ...,\n",
       "       ' thank you for shopping with us gifts for all occasions free gift with NUMBER NUMBER purchase for a limited time only receive this NUMBER plush santa bear free with your purchase of NUMBER NUMBER or more when your order totals NUMBER NUMBER or more order must be NUMBER NUMBER or more before shipping and handling this santa bear is added to your cart for free while supplies last mary s store would like to thank you for being a valued customer as our way of saying thanks to you the customer we are offering a NUMBER discount on all purchases made during the month of november just enter the word thanks in the discount code box during checkout to receive your automatic NUMBER discount hyperlink click here hyperlink to enter hyperlink mary s store if you do not wish to receive further discounts please hyperlink click here and type remove in the subject line ',\n",
       "       ' the famous ebay marketing e course learn to sell with the complete ebay auction marketing e course here s your chance to join the online selling revolution and earn a full time income our ebay marketing e course will show you how to create huge profits selling on ebay do you sell on ebay if so you could be making up to NUMBER NUMBER per month this is no hype and no scam receiving over NUMBER NUMBER billion page views per month ebay is the ultimate venue for selling virtually anything and making huge profits with almost no effort but you have to know what to sell and how to sell that s where i come in as a leading expert in internet marketing and the owner of several profitable auction based businesses the manual that i have written provides easy to understand and detailed instructions for maximizing your profits with selling strategies that are proven winners if you ve read any other books on ebay you know that all of them are designed for the computer idiot and the auction novice they tell you how to register how to list an item how to avoid fraud etc this is not the information you need to make millions on ebay you need to learn effective selling strategies not read a photocopy of ebay help files my manual assumes that you already know your way around ebay you don t need any specialized computer knowledge but you should be familiar with buying and selling on ebay auctions i m not going to waste your time teaching you how to register i m going to pass on the secret selling techniques that i use each and every day to bring in hundreds of thousands of dollars selling my products on internet auctions the manual comes as a complete course with the following lessons make a fortune on ebay make a fortune on ebay is filled with page after page of vital ebay marketing information this valuable e book is terrific for the ebay user to get the right ebay information and have an instant edge over other more experienced ebay sellers advanced selling on ebay advanced selling on ebay has more vital information to make their auction a success this e book has many topics to ensure that they get the maximum potential from their auctions advanced selling on ebay goes into more detailed information than it s sister e book make a fortune on ebay NUMBER ebay forms NUMBER ebay forms is a must these forms will help them track analyze and record their auctions it contains NUMBER forms with full instructions this e book also contains the forms in printer friendly version so they can print them for immediate use wholesale sources wholesale sources is the final e book in the ebay marketing e course it contains wholesale distributors from the united states mexico hong kong taiwan asia and the philippines armed with this e book your customers will have over NUMBER NUMBER NUMBER wholesale products at their finger tips this manual is designed for individuals looking to form an online business for extra income or as a full time job making hundreds of thousands of dollars on ebay contained in the manual are winning strategies for selling on ebay auctions the manual is not designed for ebay novices and does not teach the basics such as registering putting an item online buying an item etc this manual is designed to make ebay users into successful and wealthy entrepreneurs not only will you be able to make thousands with the information in these e books you will also receive full resellers rights this is not an affiliate program where you get NUMBER or NUMBER you keep all the money generated from your e course sales you can sell this e course as many times as you want for whatever price you choose there is no limit on how much you can make from this incredible product sell these e books individually or as a complete e course give make a fortune on ebay for free and use advanced selling on ebay NUMBER ebay forms and wholesale sources as a sell up all NUMBER e books for only NUMBER NUMBER hyperlink click here to order your e course today please allow up to NUMBER hours to process your order NUMBER NUMBER hours during business hours thank you for your time and i hope to hear from you soon ',\n",
       "       ' hello this is chinese traditional 子 件 NUMBER世 o最有效的宣 鞣绞剑 您想 地NUMBER f人同一 r刻知道您的 v告 幔磕 想方便快捷的宣 髂 的企 i 幔 您想在商 i 中步步 紫 c 幔 您想一次 碛 在商 i客 幔 越 碓蕉嗟恼 查表明 w路直 n 成 未 i n方式的主流 而e mail ⑹蔷w上 i n最常用也是最 用的工具 其特 c v r效高 r格低 emarketer估 美 有NUMBER 的中等 模公司 常 用 子 件 m行 i n活 印 部分 v告媒 w平均回 率比 average response rate ranges NUMBER NUMBER NUMBER 普通横幅广告 banner ads NUMBER NUMBER 普通信件 direct mail NUMBER NUMBER 子 件 email 一 件出售 i全球 件地址 每NUMBER f NUMBERhk i全部NUMBER f NUMBERhk i香港 件地址 每NUMBER f NUMBERhk i香港全部NUMBER f NUMBERhk hyperlink free download i _ 赤 件地址 每NUMBER f NUMBERhk i _ 橙 部NUMBER f NUMBERhk hyperlink free download 件 l送 v告 件代理 l送 每NUMBER f NUMBERhk NUMBER f起 l 蚀_率NUMBER 以上 包周群 l 一周NUMBER f NUMBERhk 一周NUMBER f NUMBERhk 保 c w站日 l 量提升NUMBER以上 包月群 l 一月NUMBER f NUMBERhk 保 c w站日 l 量提升NUMBER以上 件 w NUMBER n套群 l 搜索 w路 l 衍 w NUMBERhk 你自己 碛幸惶淄晟频碾 子 件群 l 搜索 w路 l 严到y 有意者请来信联系 hyperlink yhzxNUMBER URL 二 搜索引擎 缘顷 超值服 眨 特惠 rNUMBER hk y河之星 湍 登 全球NUMBER 英文搜索引擎 mNUMBER 中文搜索引擎 你的 w站享 u全球 e mail地址在各地 的分 盗 香港 NUMBER hyperlink free download the sample _ 场 NUMBER hyperlink free download the sample 全球 NUMBER f y河之星 碛 韧馍 有效的email位址 y料 欤 可以根 客 舻男枰 在指定的地方 域 行 i e等 傩酝斗烹 子 件 v告 如 你想 某地NUMBER f人一天之 都知道你的 a品 y 那麽 v告 件投放就是你最好的解 q方案 它的 r格是所有 髅 r格中最低 但又是最有效的 c遇每 r每刻都等待著你 也 s你正是用了 拥 髅菏侄危 而打垮了所有的 κ帧ｚs快行 影桑 你的企 i 公司立即掌握商 i 髅降拿 v告e mail 是普通 麂n i所不能比 m的 m及付款方式 本公司 氖戮w路 v告多年 宣 髁χ任痪又 第四大 w路 v告商之一 我 有 ｉt的技 g人 t和高速 i的服 障到y 氖麓隧 工作 必 您的企 i提供最迅捷 最有效 最 m意的服 铡 需求客 粽 c 暨 y m 箱 hyperlink yhzxNUMBER URL 硇耪 注明您需要的服 张c m方式 我 快回 湍 港 澳 _地 付款方式 任何 家均可到 地 y行 r NUMBER NUMBER天到 ぃ 需到 地 y行 k理 r english benificiary customer wangjingjing a c bank bank of china mianyang branch a c no NUMBER NUMBER NUMBER NUMBER benificiary s tel no NUMBER NUMBER 中文 φ眨 收 款 人 王晶晶 收款 y行 中 y行 d 分行 NUMBER NUMBER NUMBER NUMBER 收款人 NUMBER NUMBER NUMBER NUMBER天到 ぃ 款到後我 ⒘⒓ 您提供最 m意服 铡 g迎 硇 黼 j m NUMBER NUMBER NUMBER y河之星 w路 y 有限公司 公司地址 中 大 d email hyperlink yhzxNUMBER URL j NUMBER NUMBER NUMBER 公司服 NUMBER福壕w路推 v w站建 o w路 名 w 寄存 功能 得 q空 g w l展等 r x低廉 服 g迎 硇 黼 m '],\n",
       "      dtype=object)"
      ]
     },
     "execution_count": 67,
     "metadata": {},
     "output_type": "execute_result"
    }
   ],
   "source": [
    "df[\"email\"].unique()"
   ]
  },
  {
   "cell_type": "code",
   "execution_count": 69,
   "id": "5b15375a",
   "metadata": {},
   "outputs": [
    {
     "data": {
      "image/png": "[encoded data removed]",
      "text/plain": [
       "<Figure size 640x480 with 1 Axes>"
      ]
     },
     "metadata": {},
     "output_type": "display_data"
    }
   ],
   "source": [
    "# spam vs non-spam of the original df\n",
    "spam_counts = df['label'].value_counts()\n",
    "\n",
    "# bar plot\n",
    "plt.bar(spam_counts.index, spam_counts.values, color=['blue', 'red'])\n",
    "plt.xlabel('Label')\n",
    "plt.ylabel('Number of Emails')\n",
    "plt.title('Number of Spam vs Non-Spam Emails')\n",
    "\n",
    "for i, count in enumerate(spam_counts.values):\n",
    "    plt.text(i, count + 50, str(count), ha='center', va='bottom', fontsize=10)\n",
    "\n",
    "plt.xticks([0, 1], ['Non-Spam', 'Spam'])  \n",
    "plt.show()"
   ]
  },
  {
   "cell_type": "markdown",
   "id": "7a48e74c",
   "metadata": {},
   "source": [
    "## Data Preprocessing"
   ]
  },
  {
   "cell_type": "code",
   "execution_count": 43,
   "id": "40cb9ee2",
   "metadata": {},
   "outputs": [],
   "source": [
    "# convert to the same language\n",
    "from langdetect import detect\n",
    "from googletrans import Translator"
   ]
  },
  {
   "cell_type": "code",
   "execution_count": 45,
   "id": "fbe36800",
   "metadata": {},
   "outputs": [],
   "source": [
    "df['email'] = df['email'].astype(str)  "
   ]
  },
  {
   "cell_type": "code",
   "execution_count": 52,
   "id": "8bb418bf",
   "metadata": {},
   "outputs": [],
   "source": [
    "## find the number of rows that has chinese in their email\n",
    "def detect_language(text):\n",
    "    try:\n",
    "        return detect(text)\n",
    "    except:\n",
    "        return 'N/A'"
   ]
  },
  {
   "cell_type": "markdown",
   "id": "88b10167",
   "metadata": {},
   "source": [
    "## Are emails that are NOT English indicate spam?\n",
    "No, it's not a sole indicator. As we see for email that are NOT english:"
   ]
  },
  {
   "cell_type": "code",
   "execution_count": 53,
   "id": "69ffc9ca",
   "metadata": {},
   "outputs": [],
   "source": [
    "df['language'] = df['email'].apply(detect_language)\n",
    "non_english_rows = df[df['language'] != 'en']\n",
    "non_english_labels = non_english_rows['label']\n",
    "\n",
    "non_english_rows_count = df[df['language'] != 'en'].shape[0]"
   ]
  },
  {
   "cell_type": "code",
   "execution_count": 54,
   "id": "5e465c53",
   "metadata": {},
   "outputs": [
    {
     "name": "stdout",
     "output_type": "stream",
     "text": [
      "Number of non-english emails: 584\n"
     ]
    }
   ],
   "source": [
    "print(\"Number of non-english emails:\", non_english_rows_count)"
   ]
  },
  {
   "cell_type": "code",
   "execution_count": 56,
   "id": "1020fbe4",
   "metadata": {},
   "outputs": [
    {
     "name": "stdout",
     "output_type": "stream",
     "text": [
      "Spam/Non-spam ratio for non-english emails:\n",
      "0    556\n",
      "1     28\n",
      "Name: label, dtype: int64\n"
     ]
    }
   ],
   "source": [
    "print(\"Spam/Non-spam ratio for non-english emails:\")\n",
    "print(non_english_labels.value_counts())"
   ]
  },
  {
   "cell_type": "code",
   "execution_count": 58,
   "id": "e6becd7e",
   "metadata": {},
   "outputs": [
    {
     "data": {
      "image/png": "[encoded data removed]",
      "text/plain": [
       "<Figure size 640x480 with 1 Axes>"
      ]
     },
     "metadata": {},
     "output_type": "display_data"
    }
   ],
   "source": [
    "english_rows_count = df[df['language'] == 'en'].shape[0]\n",
    "\n",
    "# create pi chart for nonenglish VS english:\n",
    "labels = ['Non-English', 'English']\n",
    "sizes = [non_english_rows_count, english_rows_count]\n",
    "colors = ['#ff9999', '#66b3ff']\n",
    "\n",
    "fig, ax = plt.subplots()\n",
    "ax.pie(sizes, labels=labels, autopct='%1.1f%%', startangle=90, colors=colors)\n",
    "ax.axis('equal')\n",
    "\n",
    "plt.title('Distribution of Non-English vs English Emails')\n",
    "plt.show()"
   ]
  },
  {
   "cell_type": "code",
   "execution_count": 59,
   "id": "195e1237",
   "metadata": {},
   "outputs": [
    {
     "data": {
      "image/png": "[encoded data removed]",
      "text/plain": [
       "<Figure size 640x480 with 1 Axes>"
      ]
     },
     "metadata": {},
     "output_type": "display_data"
    }
   ],
   "source": [
    "non_english_spam_count = non_english_rows[non_english_rows['label'] == 1].shape[0]\n",
    "non_english_non_spam_count = non_english_rows[non_english_rows['label'] == 0].shape[0]\n",
    "\n",
    "# create pi chart for non-english SPAM vs HAM:\n",
    "labels = ['spam', 'ham']\n",
    "sizes = [non_english_spam_count, non_english_non_spam_count]\n",
    "colors = ['#ff9999', '#66b3ff']\n",
    "\n",
    "fig, ax = plt.subplots()\n",
    "ax.pie(sizes, labels=labels, autopct='%1.1f%%', startangle=90, colors=colors)\n",
    "ax.axis('equal')\n",
    "\n",
    "plt.title('Distribution of Non-English Spam vs Non-Spam Emails')\n",
    "plt.show()"
   ]
  },
  {
   "cell_type": "markdown",
   "id": "79df24ba",
   "metadata": {},
   "source": [
    "### Translating all emails to English\n",
    "**PROBLEM:** Translation may not be accurate\n",
    "\n",
    "Should we drop the rows? Considering how there's technically only 584/8029 emails that are non-english?"
   ]
  },
  {
   "cell_type": "markdown",
   "id": "527131b7",
   "metadata": {},
   "source": [
    "### ATTEMPT1: NOT dropping non-english emails --> translation"
   ]
  },
  {
   "cell_type": "code",
   "execution_count": 60,
   "id": "22a73b6c",
   "metadata": {},
   "outputs": [],
   "source": [
    "df_all_languages = df.copy()"
   ]
  },
  {
   "cell_type": "code",
   "execution_count": 61,
   "id": "6966118a",
   "metadata": {},
   "outputs": [
    {
     "data": {
      "text/html": [
       "<div>\n",
       "<style scoped>\n",
       "    .dataframe tbody tr th:only-of-type {\n",
       "        vertical-align: middle;\n",
       "    }\n",
       "\n",
       "    .dataframe tbody tr th {\n",
       "        vertical-align: top;\n",
       "    }\n",
       "\n",
       "    .dataframe thead th {\n",
       "        text-align: right;\n",
       "    }\n",
       "</style>\n",
       "<table border=\"1\" class=\"dataframe\">\n",
       "  <thead>\n",
       "    <tr style=\"text-align: right;\">\n",
       "      <th></th>\n",
       "      <th>label</th>\n",
       "      <th>email</th>\n",
       "      <th>language</th>\n",
       "    </tr>\n",
       "  </thead>\n",
       "  <tbody>\n",
       "    <tr>\n",
       "      <th>0</th>\n",
       "      <td>0</td>\n",
       "      <td>go until jurong point, crazy.. available only ...</td>\n",
       "      <td>en</td>\n",
       "    </tr>\n",
       "    <tr>\n",
       "      <th>1</th>\n",
       "      <td>0</td>\n",
       "      <td>ok lar... joking wif u oni...</td>\n",
       "      <td>hr</td>\n",
       "    </tr>\n",
       "    <tr>\n",
       "      <th>2</th>\n",
       "      <td>1</td>\n",
       "      <td>free entry in 2 a wkly comp to win fa cup fina...</td>\n",
       "      <td>en</td>\n",
       "    </tr>\n",
       "    <tr>\n",
       "      <th>3</th>\n",
       "      <td>0</td>\n",
       "      <td>u dun say so early hor... u c already then say...</td>\n",
       "      <td>so</td>\n",
       "    </tr>\n",
       "    <tr>\n",
       "      <th>4</th>\n",
       "      <td>0</td>\n",
       "      <td>nah i don't think he goes to usf, he lives aro...</td>\n",
       "      <td>en</td>\n",
       "    </tr>\n",
       "  </tbody>\n",
       "</table>\n",
       "</div>"
      ],
      "text/plain": [
       "   label                                              email language\n",
       "0      0  go until jurong point, crazy.. available only ...       en\n",
       "1      0                      ok lar... joking wif u oni...       hr\n",
       "2      1  free entry in 2 a wkly comp to win fa cup fina...       en\n",
       "3      0  u dun say so early hor... u c already then say...       so\n",
       "4      0  nah i don't think he goes to usf, he lives aro...       en"
      ]
     },
     "execution_count": 61,
     "metadata": {},
     "output_type": "execute_result"
    }
   ],
   "source": [
    "df_all_languages.head()"
   ]
  },
  {
   "cell_type": "code",
   "execution_count": 62,
   "id": "0fe4797c",
   "metadata": {},
   "outputs": [
    {
     "data": {
      "text/plain": [
       "(8029, 3)"
      ]
     },
     "execution_count": 62,
     "metadata": {},
     "output_type": "execute_result"
    }
   ],
   "source": [
    "df_all_languages.shape"
   ]
  },
  {
   "cell_type": "code",
   "execution_count": 63,
   "id": "a9902e52",
   "metadata": {},
   "outputs": [
    {
     "ename": "LangDetectException",
     "evalue": "No features in text.",
     "output_type": "error",
     "traceback": [
      "\u001b[0;31m---------------------------------------------------------------------------\u001b[0m",
      "\u001b[0;31mLangDetectException\u001b[0m                       Traceback (most recent call last)",
      "\u001b[0;32m/var/folders/g6/m9mjx8gn46xg9qvcz4921f_c0000gn/T/ipykernel_1209/1338341933.py\u001b[0m in \u001b[0;36m<module>\u001b[0;34m\u001b[0m\n\u001b[1;32m      8\u001b[0m     \u001b[0;32mreturn\u001b[0m \u001b[0mtext\u001b[0m\u001b[0;34m\u001b[0m\u001b[0;34m\u001b[0m\u001b[0m\n\u001b[1;32m      9\u001b[0m \u001b[0;34m\u001b[0m\u001b[0m\n\u001b[0;32m---> 10\u001b[0;31m \u001b[0mdf_all_languages\u001b[0m\u001b[0;34m[\u001b[0m\u001b[0;34m'email'\u001b[0m\u001b[0;34m]\u001b[0m \u001b[0;34m=\u001b[0m \u001b[0mdf_all_languages\u001b[0m\u001b[0;34m[\u001b[0m\u001b[0;34m'email'\u001b[0m\u001b[0;34m]\u001b[0m\u001b[0;34m.\u001b[0m\u001b[0mapply\u001b[0m\u001b[0;34m(\u001b[0m\u001b[0mtranslate_to_english\u001b[0m\u001b[0;34m)\u001b[0m\u001b[0;34m\u001b[0m\u001b[0;34m\u001b[0m\u001b[0m\n\u001b[0m",
      "\u001b[0;32m~/opt/anaconda3/lib/python3.9/site-packages/pandas/core/series.py\u001b[0m in \u001b[0;36mapply\u001b[0;34m(self, func, convert_dtype, args, **kwargs)\u001b[0m\n\u001b[1;32m   4431\u001b[0m         \u001b[0mdtype\u001b[0m\u001b[0;34m:\u001b[0m \u001b[0mfloat64\u001b[0m\u001b[0;34m\u001b[0m\u001b[0;34m\u001b[0m\u001b[0m\n\u001b[1;32m   4432\u001b[0m         \"\"\"\n\u001b[0;32m-> 4433\u001b[0;31m         \u001b[0;32mreturn\u001b[0m \u001b[0mSeriesApply\u001b[0m\u001b[0;34m(\u001b[0m\u001b[0mself\u001b[0m\u001b[0;34m,\u001b[0m \u001b[0mfunc\u001b[0m\u001b[0;34m,\u001b[0m \u001b[0mconvert_dtype\u001b[0m\u001b[0;34m,\u001b[0m \u001b[0margs\u001b[0m\u001b[0;34m,\u001b[0m \u001b[0mkwargs\u001b[0m\u001b[0;34m)\u001b[0m\u001b[0;34m.\u001b[0m\u001b[0mapply\u001b[0m\u001b[0;34m(\u001b[0m\u001b[0;34m)\u001b[0m\u001b[0;34m\u001b[0m\u001b[0;34m\u001b[0m\u001b[0m\n\u001b[0m\u001b[1;32m   4434\u001b[0m \u001b[0;34m\u001b[0m\u001b[0m\n\u001b[1;32m   4435\u001b[0m     def _reduce(\n",
      "\u001b[0;32m~/opt/anaconda3/lib/python3.9/site-packages/pandas/core/apply.py\u001b[0m in \u001b[0;36mapply\u001b[0;34m(self)\u001b[0m\n\u001b[1;32m   1086\u001b[0m             \u001b[0;32mreturn\u001b[0m \u001b[0mself\u001b[0m\u001b[0;34m.\u001b[0m\u001b[0mapply_str\u001b[0m\u001b[0;34m(\u001b[0m\u001b[0;34m)\u001b[0m\u001b[0;34m\u001b[0m\u001b[0;34m\u001b[0m\u001b[0m\n\u001b[1;32m   1087\u001b[0m \u001b[0;34m\u001b[0m\u001b[0m\n\u001b[0;32m-> 1088\u001b[0;31m         \u001b[0;32mreturn\u001b[0m \u001b[0mself\u001b[0m\u001b[0;34m.\u001b[0m\u001b[0mapply_standard\u001b[0m\u001b[0;34m(\u001b[0m\u001b[0;34m)\u001b[0m\u001b[0;34m\u001b[0m\u001b[0;34m\u001b[0m\u001b[0m\n\u001b[0m\u001b[1;32m   1089\u001b[0m \u001b[0;34m\u001b[0m\u001b[0m\n\u001b[1;32m   1090\u001b[0m     \u001b[0;32mdef\u001b[0m \u001b[0magg\u001b[0m\u001b[0;34m(\u001b[0m\u001b[0mself\u001b[0m\u001b[0;34m)\u001b[0m\u001b[0;34m:\u001b[0m\u001b[0;34m\u001b[0m\u001b[0;34m\u001b[0m\u001b[0m\n",
      "\u001b[0;32m~/opt/anaconda3/lib/python3.9/site-packages/pandas/core/apply.py\u001b[0m in \u001b[0;36mapply_standard\u001b[0;34m(self)\u001b[0m\n\u001b[1;32m   1141\u001b[0m                 \u001b[0;31m# List[Union[Callable[..., Any], str]]]]]\"; expected\u001b[0m\u001b[0;34m\u001b[0m\u001b[0;34m\u001b[0m\u001b[0m\n\u001b[1;32m   1142\u001b[0m                 \u001b[0;31m# \"Callable[[Any], Any]\"\u001b[0m\u001b[0;34m\u001b[0m\u001b[0;34m\u001b[0m\u001b[0m\n\u001b[0;32m-> 1143\u001b[0;31m                 mapped = lib.map_infer(\n\u001b[0m\u001b[1;32m   1144\u001b[0m                     \u001b[0mvalues\u001b[0m\u001b[0;34m,\u001b[0m\u001b[0;34m\u001b[0m\u001b[0;34m\u001b[0m\u001b[0m\n\u001b[1;32m   1145\u001b[0m                     \u001b[0mf\u001b[0m\u001b[0;34m,\u001b[0m  \u001b[0;31m# type: ignore[arg-type]\u001b[0m\u001b[0;34m\u001b[0m\u001b[0;34m\u001b[0m\u001b[0m\n",
      "\u001b[0;32m~/opt/anaconda3/lib/python3.9/site-packages/pandas/_libs/lib.pyx\u001b[0m in \u001b[0;36mpandas._libs.lib.map_infer\u001b[0;34m()\u001b[0m\n",
      "\u001b[0;32m/var/folders/g6/m9mjx8gn46xg9qvcz4921f_c0000gn/T/ipykernel_1209/1338341933.py\u001b[0m in \u001b[0;36mtranslate_to_english\u001b[0;34m(text)\u001b[0m\n\u001b[1;32m      1\u001b[0m \u001b[0;32mdef\u001b[0m \u001b[0mtranslate_to_english\u001b[0m\u001b[0;34m(\u001b[0m\u001b[0mtext\u001b[0m\u001b[0;34m)\u001b[0m\u001b[0;34m:\u001b[0m\u001b[0;34m\u001b[0m\u001b[0;34m\u001b[0m\u001b[0m\n\u001b[1;32m      2\u001b[0m     \u001b[0;32mif\u001b[0m \u001b[0mtext\u001b[0m \u001b[0;32mand\u001b[0m \u001b[0mlen\u001b[0m\u001b[0;34m(\u001b[0m\u001b[0mtext\u001b[0m\u001b[0;34m)\u001b[0m \u001b[0;34m>\u001b[0m \u001b[0;36m3\u001b[0m\u001b[0;34m:\u001b[0m\u001b[0;34m\u001b[0m\u001b[0;34m\u001b[0m\u001b[0m\n\u001b[0;32m----> 3\u001b[0;31m         \u001b[0mlanguage\u001b[0m \u001b[0;34m=\u001b[0m \u001b[0mdetect\u001b[0m\u001b[0;34m(\u001b[0m\u001b[0mtext\u001b[0m\u001b[0;34m)\u001b[0m\u001b[0;34m\u001b[0m\u001b[0;34m\u001b[0m\u001b[0m\n\u001b[0m\u001b[1;32m      4\u001b[0m         \u001b[0;32mif\u001b[0m \u001b[0mlanguage\u001b[0m \u001b[0;34m!=\u001b[0m \u001b[0;34m'en'\u001b[0m\u001b[0;34m:\u001b[0m\u001b[0;34m\u001b[0m\u001b[0;34m\u001b[0m\u001b[0m\n\u001b[1;32m      5\u001b[0m             \u001b[0mtranslator\u001b[0m \u001b[0;34m=\u001b[0m \u001b[0mTranslator\u001b[0m\u001b[0;34m(\u001b[0m\u001b[0;34m)\u001b[0m\u001b[0;34m\u001b[0m\u001b[0;34m\u001b[0m\u001b[0m\n",
      "\u001b[0;32m~/opt/anaconda3/lib/python3.9/site-packages/langdetect/detector_factory.py\u001b[0m in \u001b[0;36mdetect\u001b[0;34m(text)\u001b[0m\n\u001b[1;32m    128\u001b[0m     \u001b[0mdetector\u001b[0m \u001b[0;34m=\u001b[0m \u001b[0m_factory\u001b[0m\u001b[0;34m.\u001b[0m\u001b[0mcreate\u001b[0m\u001b[0;34m(\u001b[0m\u001b[0;34m)\u001b[0m\u001b[0;34m\u001b[0m\u001b[0;34m\u001b[0m\u001b[0m\n\u001b[1;32m    129\u001b[0m     \u001b[0mdetector\u001b[0m\u001b[0;34m.\u001b[0m\u001b[0mappend\u001b[0m\u001b[0;34m(\u001b[0m\u001b[0mtext\u001b[0m\u001b[0;34m)\u001b[0m\u001b[0;34m\u001b[0m\u001b[0;34m\u001b[0m\u001b[0m\n\u001b[0;32m--> 130\u001b[0;31m     \u001b[0;32mreturn\u001b[0m \u001b[0mdetector\u001b[0m\u001b[0;34m.\u001b[0m\u001b[0mdetect\u001b[0m\u001b[0;34m(\u001b[0m\u001b[0;34m)\u001b[0m\u001b[0;34m\u001b[0m\u001b[0;34m\u001b[0m\u001b[0m\n\u001b[0m\u001b[1;32m    131\u001b[0m \u001b[0;34m\u001b[0m\u001b[0m\n\u001b[1;32m    132\u001b[0m \u001b[0;34m\u001b[0m\u001b[0m\n",
      "\u001b[0;32m~/opt/anaconda3/lib/python3.9/site-packages/langdetect/detector.py\u001b[0m in \u001b[0;36mdetect\u001b[0;34m(self)\u001b[0m\n\u001b[1;32m    134\u001b[0m         \u001b[0mwhich\u001b[0m \u001b[0mhas\u001b[0m \u001b[0mthe\u001b[0m \u001b[0mhighest\u001b[0m \u001b[0mprobability\u001b[0m\u001b[0;34m.\u001b[0m\u001b[0;34m\u001b[0m\u001b[0;34m\u001b[0m\u001b[0m\n\u001b[1;32m    135\u001b[0m         '''\n\u001b[0;32m--> 136\u001b[0;31m         \u001b[0mprobabilities\u001b[0m \u001b[0;34m=\u001b[0m \u001b[0mself\u001b[0m\u001b[0;34m.\u001b[0m\u001b[0mget_probabilities\u001b[0m\u001b[0;34m(\u001b[0m\u001b[0;34m)\u001b[0m\u001b[0;34m\u001b[0m\u001b[0;34m\u001b[0m\u001b[0m\n\u001b[0m\u001b[1;32m    137\u001b[0m         \u001b[0;32mif\u001b[0m \u001b[0mprobabilities\u001b[0m\u001b[0;34m:\u001b[0m\u001b[0;34m\u001b[0m\u001b[0;34m\u001b[0m\u001b[0m\n\u001b[1;32m    138\u001b[0m             \u001b[0;32mreturn\u001b[0m \u001b[0mprobabilities\u001b[0m\u001b[0;34m[\u001b[0m\u001b[0;36m0\u001b[0m\u001b[0;34m]\u001b[0m\u001b[0;34m.\u001b[0m\u001b[0mlang\u001b[0m\u001b[0;34m\u001b[0m\u001b[0;34m\u001b[0m\u001b[0m\n",
      "\u001b[0;32m~/opt/anaconda3/lib/python3.9/site-packages/langdetect/detector.py\u001b[0m in \u001b[0;36mget_probabilities\u001b[0;34m(self)\u001b[0m\n\u001b[1;32m    141\u001b[0m     \u001b[0;32mdef\u001b[0m \u001b[0mget_probabilities\u001b[0m\u001b[0;34m(\u001b[0m\u001b[0mself\u001b[0m\u001b[0;34m)\u001b[0m\u001b[0;34m:\u001b[0m\u001b[0;34m\u001b[0m\u001b[0;34m\u001b[0m\u001b[0m\n\u001b[1;32m    142\u001b[0m         \u001b[0;32mif\u001b[0m \u001b[0mself\u001b[0m\u001b[0;34m.\u001b[0m\u001b[0mlangprob\u001b[0m \u001b[0;32mis\u001b[0m \u001b[0;32mNone\u001b[0m\u001b[0;34m:\u001b[0m\u001b[0;34m\u001b[0m\u001b[0;34m\u001b[0m\u001b[0m\n\u001b[0;32m--> 143\u001b[0;31m             \u001b[0mself\u001b[0m\u001b[0;34m.\u001b[0m\u001b[0m_detect_block\u001b[0m\u001b[0;34m(\u001b[0m\u001b[0;34m)\u001b[0m\u001b[0;34m\u001b[0m\u001b[0;34m\u001b[0m\u001b[0m\n\u001b[0m\u001b[1;32m    144\u001b[0m         \u001b[0;32mreturn\u001b[0m \u001b[0mself\u001b[0m\u001b[0;34m.\u001b[0m\u001b[0m_sort_probability\u001b[0m\u001b[0;34m(\u001b[0m\u001b[0mself\u001b[0m\u001b[0;34m.\u001b[0m\u001b[0mlangprob\u001b[0m\u001b[0;34m)\u001b[0m\u001b[0;34m\u001b[0m\u001b[0;34m\u001b[0m\u001b[0m\n\u001b[1;32m    145\u001b[0m \u001b[0;34m\u001b[0m\u001b[0m\n",
      "\u001b[0;32m~/opt/anaconda3/lib/python3.9/site-packages/langdetect/detector.py\u001b[0m in \u001b[0;36m_detect_block\u001b[0;34m(self)\u001b[0m\n\u001b[1;32m    148\u001b[0m         \u001b[0mngrams\u001b[0m \u001b[0;34m=\u001b[0m \u001b[0mself\u001b[0m\u001b[0;34m.\u001b[0m\u001b[0m_extract_ngrams\u001b[0m\u001b[0;34m(\u001b[0m\u001b[0;34m)\u001b[0m\u001b[0;34m\u001b[0m\u001b[0;34m\u001b[0m\u001b[0m\n\u001b[1;32m    149\u001b[0m         \u001b[0;32mif\u001b[0m \u001b[0;32mnot\u001b[0m \u001b[0mngrams\u001b[0m\u001b[0;34m:\u001b[0m\u001b[0;34m\u001b[0m\u001b[0;34m\u001b[0m\u001b[0m\n\u001b[0;32m--> 150\u001b[0;31m             \u001b[0;32mraise\u001b[0m \u001b[0mLangDetectException\u001b[0m\u001b[0;34m(\u001b[0m\u001b[0mErrorCode\u001b[0m\u001b[0;34m.\u001b[0m\u001b[0mCantDetectError\u001b[0m\u001b[0;34m,\u001b[0m \u001b[0;34m'No features in text.'\u001b[0m\u001b[0;34m)\u001b[0m\u001b[0;34m\u001b[0m\u001b[0;34m\u001b[0m\u001b[0m\n\u001b[0m\u001b[1;32m    151\u001b[0m \u001b[0;34m\u001b[0m\u001b[0m\n\u001b[1;32m    152\u001b[0m         \u001b[0mself\u001b[0m\u001b[0;34m.\u001b[0m\u001b[0mlangprob\u001b[0m \u001b[0;34m=\u001b[0m \u001b[0;34m[\u001b[0m\u001b[0;36m0.0\u001b[0m\u001b[0;34m]\u001b[0m \u001b[0;34m*\u001b[0m \u001b[0mlen\u001b[0m\u001b[0;34m(\u001b[0m\u001b[0mself\u001b[0m\u001b[0;34m.\u001b[0m\u001b[0mlanglist\u001b[0m\u001b[0;34m)\u001b[0m\u001b[0;34m\u001b[0m\u001b[0;34m\u001b[0m\u001b[0m\n",
      "\u001b[0;31mLangDetectException\u001b[0m: No features in text."
     ]
    }
   ],
   "source": [
    "def translate_to_english(text):\n",
    "    if text and len(text) > 3:\n",
    "        language = detect(text)\n",
    "        if language != 'en':\n",
    "            translator = Translator()\n",
    "            translated_text = translator.translate(text, src=language, dest='en').text\n",
    "            return translated_text\n",
    "    return text\n",
    "    \n",
    "df_all_languages['email'] = df_all_languages['email'].apply(translate_to_english)"
   ]
  },
  {
   "cell_type": "markdown",
   "id": "e787f5f7",
   "metadata": {},
   "source": [
    "### Other data preprocessing:\n",
    "1. Removing stopwords\n",
    "2. Convert everything to lowercase \n",
    "3. Word stemming\n",
    "4. Word lemmatization\n",
    "\n",
    "**Might not do word lemmatization since an indicator of a scam email are words that are spelled incorrectly"
   ]
  },
  {
   "cell_type": "code",
   "execution_count": 38,
   "id": "37354c36",
   "metadata": {},
   "outputs": [
    {
     "name": "stderr",
     "output_type": "stream",
     "text": [
      "[nltk_data] Downloading package stopwords to\n",
      "[nltk_data]     /Users/aliceliu/nltk_data...\n",
      "[nltk_data]   Unzipping corpora/stopwords.zip.\n"
     ]
    },
    {
     "data": {
      "text/plain": [
       "True"
      ]
     },
     "execution_count": 38,
     "metadata": {},
     "output_type": "execute_result"
    }
   ],
   "source": [
    "from collections import Counter\n",
    "from nltk.stem import PorterStemmer\n",
    "from nltk.stem import WordNetLemmatizer\n",
    "from nltk.corpus import stopwords\n",
    "import re\n",
    "\n",
    "import nltk\n",
    "nltk.download('stopwords')"
   ]
  },
  {
   "cell_type": "code",
   "execution_count": 35,
   "id": "1e0a7ad2",
   "metadata": {},
   "outputs": [],
   "source": [
    "# convert everything to lower case\n",
    "df[\"email\"] = df[\"email\"].str.lower()"
   ]
  },
  {
   "cell_type": "code",
   "execution_count": 36,
   "id": "d88e63e1",
   "metadata": {},
   "outputs": [],
   "source": [
    "# word stemming = remove the end or beginning of the words\n",
    "def word_stemming(words):\n",
    "    stem_words = [stemmer.stem(o) for o in words]\n",
    "    return \" \".join(stem_words)\n",
    "\n",
    "# word lemminzation = convert word back to base form using dictionary\n",
    "def word_lemmatizer(words):\n",
    "   lemma_words = [lemmatizer.lemmatize(o) for o in words]\n",
    "   return \" \".join(lemma_words)"
   ]
  },
  {
   "cell_type": "code",
   "execution_count": 39,
   "id": "bc918776",
   "metadata": {},
   "outputs": [],
   "source": [
    "# remove stop words\n",
    "stop_words = set(stopwords.words('english'))\n",
    "\n",
    "def remove_stopwords(text):\n",
    "    words = word_tokenize(text)\n",
    "    filtered_words = [word for word in words if word.lower() not in stop_words and re.match(r'\\b\\w+\\b', word)]\n",
    "    return ' '.join(filtered_words)"
   ]
  },
  {
   "cell_type": "code",
   "execution_count": 40,
   "id": "47e7198f",
   "metadata": {},
   "outputs": [
    {
     "name": "stdout",
     "output_type": "stream",
     "text": [
      "{'doing', 'by', 'very', 't', \"you'll\", 'itself', 'until', 'aren', 'him', 'we', 'have', 'he', 'couldn', 'do', 'during', 're', 'through', \"wasn't\", 'my', 'most', 'all', 'shouldn', \"won't\", 'mightn', 'should', 'than', 'themselves', 'what', 'shan', 'its', 'any', 'above', 'of', 'had', \"aren't\", 'ma', \"couldn't\", 'then', 'are', 'so', 'you', 'been', 'am', 'whom', 'haven', 'me', 'were', 'who', 'on', 'here', \"don't\", 'mustn', \"she's\", 'weren', 'own', 'with', \"needn't\", 'himself', 'was', 'too', 'hers', 'from', 'down', 'theirs', 'don', 'which', 'ours', 'wasn', 'few', 'being', \"shouldn't\", 'for', 'but', 'myself', 'or', 'again', 'to', 'yourself', 'd', 'hadn', 'isn', 'your', 'over', 'only', 'an', 'at', 'they', 'between', 'no', \"shan't\", 'nor', 'once', 'does', 'has', \"should've\", 'other', \"wouldn't\", 'his', 'now', 'under', 'doesn', \"mightn't\", \"that'll\", 'the', 'ourselves', 'them', 'm', 'yourselves', 'our', 'as', 'y', 'why', \"mustn't\", 'where', 'further', 'can', 'when', 'hasn', 'it', 'about', 'below', 'is', 'both', 'their', 's', \"hasn't\", 'into', 'after', 'she', 'be', 'in', 'ain', \"you're\", 'not', \"haven't\", 'this', 'up', 'more', 'just', 'o', 'wouldn', 'having', 'if', 'because', 'did', 'her', 'against', 'those', 'needn', \"didn't\", 'same', 'while', 'and', 'won', 'each', 'before', \"you'd\", 'how', \"isn't\", 'these', \"doesn't\", \"hadn't\", \"weren't\", 'will', 'out', 'that', 'a', 'll', \"you've\", 'didn', 've', \"it's\", 'such', 'there', 'i', 'some', 'yours', 'herself', 'off'}\n"
     ]
    }
   ],
   "source": [
    "print(stop_words)"
   ]
  },
  {
   "cell_type": "code",
   "execution_count": null,
   "id": "943107d2",
   "metadata": {},
   "outputs": [],
   "source": [
    "# add more stopwords that are present in the data\n",
    "additional_stopwords = {\n",
    "    ''\n",
    "}"
   ]
  },
  {
   "cell_type": "code",
   "execution_count": null,
   "id": "0b073035",
   "metadata": {},
   "outputs": [],
   "source": [
    "# apply dataframe to preprocessing \n"
   ]
  },
  {
   "cell_type": "markdown",
   "id": "842621d3",
   "metadata": {},
   "source": [
    "### df analysis"
   ]
  },
  {
   "cell_type": "code",
   "execution_count": null,
   "id": "f60e743e",
   "metadata": {},
   "outputs": [],
   "source": []
  },
  {
   "cell_type": "code",
   "execution_count": 17,
   "id": "95e6d9f2",
   "metadata": {},
   "outputs": [],
   "source": [
    "# tokenize and count words\n",
    "def tokenize_count(text):\n",
    "    words = re.findall(r'\\b\\w+\\b', text)\n",
    "    return Counter(words)"
   ]
  },
  {
   "cell_type": "code",
   "execution_count": 18,
   "id": "739391de",
   "metadata": {},
   "outputs": [],
   "source": [
    "# apply email to tokenize and count words\n",
    "word_count = df[\"email\"].apply(tokenize_count)"
   ]
  },
  {
   "cell_type": "code",
   "execution_count": 20,
   "id": "89c2b01b",
   "metadata": {},
   "outputs": [],
   "source": [
    "total_word_count = sum(word_count, Counter())"
   ]
  },
  {
   "cell_type": "code",
   "execution_count": null,
   "id": "1ac40a0f",
   "metadata": {},
   "outputs": [],
   "source": [
    "word_frequency_df = pd.DataFrame(total_word_count.items(), columns=['Word', 'Frequency'])\n",
    "word_frequency_df = word_frequency_df.sort_values(by='Frequency', ascending=False) # sort decending \n",
    "word_frequency_df.head(20)"
   ]
  },
  {
   "cell_type": "markdown",
   "id": "8599e1d3",
   "metadata": {},
   "source": [
    "### df_ham analysis"
   ]
  },
  {
   "cell_type": "code",
   "execution_count": 27,
   "id": "402af69f",
   "metadata": {},
   "outputs": [
    {
     "data": {
      "text/html": [
       "<div>\n",
       "<style scoped>\n",
       "    .dataframe tbody tr th:only-of-type {\n",
       "        vertical-align: middle;\n",
       "    }\n",
       "\n",
       "    .dataframe tbody tr th {\n",
       "        vertical-align: top;\n",
       "    }\n",
       "\n",
       "    .dataframe thead th {\n",
       "        text-align: right;\n",
       "    }\n",
       "</style>\n",
       "<table border=\"1\" class=\"dataframe\">\n",
       "  <thead>\n",
       "    <tr style=\"text-align: right;\">\n",
       "      <th></th>\n",
       "      <th>Word</th>\n",
       "      <th>Frequency</th>\n",
       "    </tr>\n",
       "  </thead>\n",
       "  <tbody>\n",
       "    <tr>\n",
       "      <th>1242</th>\n",
       "      <td>number</td>\n",
       "      <td>26165</td>\n",
       "    </tr>\n",
       "    <tr>\n",
       "      <th>99</th>\n",
       "      <td>the</td>\n",
       "      <td>23802</td>\n",
       "    </tr>\n",
       "    <tr>\n",
       "      <th>41</th>\n",
       "      <td>to</td>\n",
       "      <td>14879</td>\n",
       "    </tr>\n",
       "    <tr>\n",
       "      <th>85</th>\n",
       "      <td>and</td>\n",
       "      <td>11387</td>\n",
       "    </tr>\n",
       "    <tr>\n",
       "      <th>114</th>\n",
       "      <td>a</td>\n",
       "      <td>11361</td>\n",
       "    </tr>\n",
       "  </tbody>\n",
       "</table>\n",
       "</div>"
      ],
      "text/plain": [
       "        Word  Frequency\n",
       "1242  number      26165\n",
       "99       the      23802\n",
       "41        to      14879\n",
       "85       and      11387\n",
       "114        a      11361"
      ]
     },
     "execution_count": 27,
     "metadata": {},
     "output_type": "execute_result"
    }
   ],
   "source": [
    "df_ham = df[df['label'] == 0] ## df of non-spam\n",
    "ham_word_count = df_ham[\"email\"].apply(tokenize_count)\n",
    "ham_total_word_count = sum(ham_word_count, Counter())\n",
    "ham_word_frequency_df = pd.DataFrame(ham_total_word_count.items(), columns = ['Word', 'Frequency'])\n",
    "ham_word_frequency_df = ham_word_frequency_df.sort_values(by='Frequency', ascending=False)\n",
    "ham_word_frequency_df.head()"
   ]
  },
  {
   "cell_type": "markdown",
   "id": "dc3fc895",
   "metadata": {},
   "source": [
    "### df_spam analysis"
   ]
  },
  {
   "cell_type": "code",
   "execution_count": 28,
   "id": "bc1172e4",
   "metadata": {},
   "outputs": [
    {
     "data": {
      "text/html": [
       "<div>\n",
       "<style scoped>\n",
       "    .dataframe tbody tr th:only-of-type {\n",
       "        vertical-align: middle;\n",
       "    }\n",
       "\n",
       "    .dataframe tbody tr th {\n",
       "        vertical-align: top;\n",
       "    }\n",
       "\n",
       "    .dataframe thead th {\n",
       "        text-align: right;\n",
       "    }\n",
       "</style>\n",
       "<table border=\"1\" class=\"dataframe\">\n",
       "  <thead>\n",
       "    <tr style=\"text-align: right;\">\n",
       "      <th></th>\n",
       "      <th>Word</th>\n",
       "      <th>Frequency</th>\n",
       "    </tr>\n",
       "  </thead>\n",
       "  <tbody>\n",
       "    <tr>\n",
       "      <th>600</th>\n",
       "      <td>number</td>\n",
       "      <td>6794</td>\n",
       "    </tr>\n",
       "    <tr>\n",
       "      <th>89</th>\n",
       "      <td>the</td>\n",
       "      <td>5617</td>\n",
       "    </tr>\n",
       "    <tr>\n",
       "      <th>7</th>\n",
       "      <td>to</td>\n",
       "      <td>5084</td>\n",
       "    </tr>\n",
       "    <tr>\n",
       "      <th>37</th>\n",
       "      <td>and</td>\n",
       "      <td>3550</td>\n",
       "    </tr>\n",
       "    <tr>\n",
       "      <th>46</th>\n",
       "      <td>you</td>\n",
       "      <td>3483</td>\n",
       "    </tr>\n",
       "  </tbody>\n",
       "</table>\n",
       "</div>"
      ],
      "text/plain": [
       "       Word  Frequency\n",
       "600  number       6794\n",
       "89      the       5617\n",
       "7        to       5084\n",
       "37      and       3550\n",
       "46      you       3483"
      ]
     },
     "execution_count": 28,
     "metadata": {},
     "output_type": "execute_result"
    }
   ],
   "source": [
    "df_spam = df[df['label'] == 1] ## df of spam\n",
    "spam_word_count = df_spam[\"email\"].apply(tokenize_count)\n",
    "spam_total_word_count = sum(spam_word_count, Counter())\n",
    "spam_word_frequency_df = pd.DataFrame(spam_total_word_count.items(), columns = ['Word', 'Frequency'])\n",
    "spam_word_frequency_df = spam_word_frequency_df.sort_values(by='Frequency', ascending=False)\n",
    "spam_word_frequency_df.head()"
   ]
  },
  {
   "cell_type": "markdown",
   "id": "6374a685",
   "metadata": {},
   "source": [
    "### N-Gram Model"
   ]
  },
  {
   "cell_type": "code",
   "execution_count": 29,
   "id": "1fa7cc62",
   "metadata": {},
   "outputs": [],
   "source": [
    "from nltk import ngrams"
   ]
  },
  {
   "cell_type": "code",
   "execution_count": 30,
   "id": "5ae73b71",
   "metadata": {},
   "outputs": [],
   "source": [
    "def tokenize_count_ngrams(text, n):\n",
    "    words = re.findall(r'\\b\\w+\\b', text.lower())  # Convert to lowercase and use a regex to extract words\n",
    "    ngrams_list = list(ngrams(words, n))\n",
    "    return Counter(ngrams_list)"
   ]
  },
  {
   "cell_type": "code",
   "execution_count": 31,
   "id": "b42ae03e",
   "metadata": {},
   "outputs": [
    {
     "data": {
      "text/html": [
       "<div>\n",
       "<style scoped>\n",
       "    .dataframe tbody tr th:only-of-type {\n",
       "        vertical-align: middle;\n",
       "    }\n",
       "\n",
       "    .dataframe tbody tr th {\n",
       "        vertical-align: top;\n",
       "    }\n",
       "\n",
       "    .dataframe thead th {\n",
       "        text-align: right;\n",
       "    }\n",
       "</style>\n",
       "<table border=\"1\" class=\"dataframe\">\n",
       "  <thead>\n",
       "    <tr style=\"text-align: right;\">\n",
       "      <th></th>\n",
       "      <th>Ngram</th>\n",
       "      <th>Frequency</th>\n",
       "    </tr>\n",
       "  </thead>\n",
       "  <tbody>\n",
       "    <tr>\n",
       "      <th>8491</th>\n",
       "      <td>(number, number)</td>\n",
       "      <td>2649</td>\n",
       "    </tr>\n",
       "    <tr>\n",
       "      <th>3235</th>\n",
       "      <td>(of, the)</td>\n",
       "      <td>706</td>\n",
       "    </tr>\n",
       "    <tr>\n",
       "      <th>182</th>\n",
       "      <td>(in, the)</td>\n",
       "      <td>489</td>\n",
       "    </tr>\n",
       "    <tr>\n",
       "      <th>240</th>\n",
       "      <td>(if, you)</td>\n",
       "      <td>465</td>\n",
       "    </tr>\n",
       "    <tr>\n",
       "      <th>104</th>\n",
       "      <td>(to, the)</td>\n",
       "      <td>318</td>\n",
       "    </tr>\n",
       "  </tbody>\n",
       "</table>\n",
       "</div>"
      ],
      "text/plain": [
       "                 Ngram  Frequency\n",
       "8491  (number, number)       2649\n",
       "3235         (of, the)        706\n",
       "182          (in, the)        489\n",
       "240          (if, you)        465\n",
       "104          (to, the)        318"
      ]
     },
     "execution_count": 31,
     "metadata": {},
     "output_type": "execute_result"
    }
   ],
   "source": [
    "n_gram_size = 2 # bigrams\n",
    "spam_ngram_counts = df_spam['email'].apply(lambda x: tokenize_count_ngrams(x, n_gram_size))\n",
    "spam_total_ngram_counts = sum(spam_ngram_counts, Counter())\n",
    "spam_ngram_frequency_df = pd.DataFrame(spam_total_ngram_counts.items(), columns=['Ngram', 'Frequency'])\n",
    "spam_ngram_frequency_df = spam_ngram_frequency_df.sort_values(by='Frequency', ascending=False)\n",
    "spam_ngram_frequency_df.head()"
   ]
  },
  {
   "cell_type": "markdown",
   "id": "80e114bd",
   "metadata": {},
   "source": [
    "### Word Cloud "
   ]
  },
  {
   "cell_type": "code",
   "execution_count": null,
   "id": "b5cc8fd4",
   "metadata": {},
   "outputs": [],
   "source": []
  },
  {
   "cell_type": "code",
   "execution_count": 12,
   "id": "7a30f95c",
   "metadata": {},
   "outputs": [
    {
     "data": {
      "text/plain": [
       "<bound method NDFrame.describe of       label                                              email\n",
       "0         0  Go until jurong point, crazy.. Available only ...\n",
       "1         0                      Ok lar... Joking wif u oni...\n",
       "2         1  Free entry in 2 a wkly comp to win FA Cup fina...\n",
       "3         0  U dun say so early hor... U c already then say...\n",
       "4         0  Nah I don't think he goes to usf, he lives aro...\n",
       "...     ...                                                ...\n",
       "8024      1   abc s good morning america ranks it the NUMBE...\n",
       "8025      1   hyperlink hyperlink hyperlink let mortgage le...\n",
       "8026      1   thank you for shopping with us gifts for all ...\n",
       "8027      1   the famous ebay marketing e course learn to s...\n",
       "8028      1   hello this is chinese traditional 子 件 NUMBER世...\n",
       "\n",
       "[8029 rows x 2 columns]>"
      ]
     },
     "execution_count": 12,
     "metadata": {},
     "output_type": "execute_result"
    }
   ],
   "source": []
  },
  {
   "cell_type": "code",
   "execution_count": null,
   "id": "7a4286a2",
   "metadata": {},
   "outputs": [],
   "source": []
  }
 ],
 "metadata": {
  "kernelspec": {
   "display_name": "Python 3 (ipykernel)",
   "language": "python",
   "name": "python3"
  },
  "language_info": {
   "codemirror_mode": {
    "name": "ipython",
    "version": 3
   },
   "file_extension": ".py",
   "mimetype": "text/x-python",
   "name": "python",
   "nbconvert_exporter": "python",
   "pygments_lexer": "ipython3",
   "version": "3.9.13"
  }
 },
 "nbformat": 4,
 "nbformat_minor": 5
}
